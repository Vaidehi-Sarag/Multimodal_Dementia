{
  "cells": [
    {
      "cell_type": "markdown",
      "metadata": {
        "id": "view-in-github",
        "colab_type": "text"
      },
      "source": [
        "<a href=\"https://colab.research.google.com/github/Vaidehi-Sarag/Multimodel_Dementia/blob/main/Multimodal_Dementia.ipynb\" target=\"_parent\"><img src=\"https://colab.research.google.com/assets/colab-badge.svg\" alt=\"Open In Colab\"/></a>"
      ]
    },
    {
      "cell_type": "code",
      "execution_count": null,
      "metadata": {
        "colab": {
          "base_uri": "https://localhost:8080/"
        },
        "id": "IiuqrQmF3-1e",
        "outputId": "8e0b29e2-4e0c-4b13-f8f7-01b2472ecf1f"
      },
      "outputs": [
        {
          "output_type": "stream",
          "name": "stdout",
          "text": [
            "Requirement already satisfied: kaggle in /usr/local/lib/python3.10/dist-packages (1.6.17)\n",
            "Requirement already satisfied: six>=1.10 in /usr/local/lib/python3.10/dist-packages (from kaggle) (1.16.0)\n",
            "Requirement already satisfied: certifi>=2023.7.22 in /usr/local/lib/python3.10/dist-packages (from kaggle) (2024.7.4)\n",
            "Requirement already satisfied: python-dateutil in /usr/local/lib/python3.10/dist-packages (from kaggle) (2.9.0.post0)\n",
            "Requirement already satisfied: requests in /usr/local/lib/python3.10/dist-packages (from kaggle) (2.32.3)\n",
            "Requirement already satisfied: tqdm in /usr/local/lib/python3.10/dist-packages (from kaggle) (4.66.5)\n",
            "Requirement already satisfied: python-slugify in /usr/local/lib/python3.10/dist-packages (from kaggle) (8.0.4)\n",
            "Requirement already satisfied: urllib3 in /usr/local/lib/python3.10/dist-packages (from kaggle) (2.0.7)\n",
            "Requirement already satisfied: bleach in /usr/local/lib/python3.10/dist-packages (from kaggle) (6.1.0)\n",
            "Requirement already satisfied: webencodings in /usr/local/lib/python3.10/dist-packages (from bleach->kaggle) (0.5.1)\n",
            "Requirement already satisfied: text-unidecode>=1.3 in /usr/local/lib/python3.10/dist-packages (from python-slugify->kaggle) (1.3)\n",
            "Requirement already satisfied: charset-normalizer<4,>=2 in /usr/local/lib/python3.10/dist-packages (from requests->kaggle) (3.3.2)\n",
            "Requirement already satisfied: idna<4,>=2.5 in /usr/local/lib/python3.10/dist-packages (from requests->kaggle) (3.8)\n"
          ]
        }
      ],
      "source": [
        "!pip install kaggle"
      ]
    },
    {
      "cell_type": "code",
      "execution_count": null,
      "metadata": {
        "id": "iItKcnza4P8J"
      },
      "outputs": [],
      "source": [
        "# configuring the path of Kaggle.json file\n",
        "!mkdir -p ~/.kaggle\n",
        "!cp kaggle.json ~/.kaggle/\n",
        "!chmod 600 ~/.kaggle/kaggle.json"
      ]
    },
    {
      "cell_type": "markdown",
      "source": [
        "CNN MODEL"
      ],
      "metadata": {
        "id": "khLs2RMZAYNs"
      }
    },
    {
      "cell_type": "code",
      "execution_count": null,
      "metadata": {
        "colab": {
          "base_uri": "https://localhost:8080/"
        },
        "id": "T_cW4D9e4ZnJ",
        "outputId": "ae21c55b-fb75-49e8-dac7-9a26059471ec"
      },
      "outputs": [
        {
          "output_type": "stream",
          "name": "stdout",
          "text": [
            "Dataset URL: https://www.kaggle.com/datasets/ninadaithal/imagesoasis\n",
            "License(s): apache-2.0\n",
            "Downloading imagesoasis.zip to /content\n",
            "100% 1.23G/1.23G [00:06<00:00, 199MB/s]\n",
            "100% 1.23G/1.23G [00:06<00:00, 213MB/s]\n"
          ]
        }
      ],
      "source": [
        "!kaggle datasets download -d ninadaithal/imagesoasis"
      ]
    },
    {
      "cell_type": "code",
      "execution_count": null,
      "metadata": {
        "colab": {
          "base_uri": "https://localhost:8080/"
        },
        "id": "Hurq-TVv4_hH",
        "outputId": "886ac65e-4969-4bac-87f5-ac448bff09bb"
      },
      "outputs": [
        {
          "output_type": "stream",
          "name": "stdout",
          "text": [
            "imagesoasis.zip  kaggle.json  sample_data\n"
          ]
        }
      ],
      "source": [
        "!ls"
      ]
    },
    {
      "cell_type": "code",
      "execution_count": null,
      "metadata": {
        "colab": {
          "base_uri": "https://localhost:8080/"
        },
        "id": "8SzWIiLC5IA-",
        "outputId": "8059dce6-958e-47ba-ba8a-d3b2956e8802"
      },
      "outputs": [
        {
          "output_type": "stream",
          "name": "stdout",
          "text": [
            "The dataset is extracted\n"
          ]
        }
      ],
      "source": [
        "#extract the file\n",
        "from zipfile import ZipFile\n",
        "\n",
        "# dataset='bone-fracture-detection-using-xrays.zip'\n",
        "\n",
        "dataset = '/content/imagesoasis.zip'\n",
        "\n",
        "with ZipFile(dataset, 'r') as zip:\n",
        "  zip.extractall()\n",
        "  print('The dataset is extracted')"
      ]
    },
    {
      "cell_type": "code",
      "execution_count": null,
      "metadata": {
        "id": "CrsrcOMT5Np6"
      },
      "outputs": [],
      "source": [
        "import os\n",
        "import numpy as np\n",
        "import matplotlib.pyplot as plt\n",
        "import matplotlib.image as mpimg\n",
        "import cv2\n",
        "from google.colab.patches import cv2_imshow\n",
        "from PIL import Image\n",
        "from sklearn.model_selection import train_test_split"
      ]
    },
    {
      "cell_type": "code",
      "execution_count": null,
      "metadata": {
        "id": "-afkByC85YGM"
      },
      "outputs": [],
      "source": [
        "mild_dementia_files=os.listdir('/content/Data/Mild Dementia')"
      ]
    },
    {
      "cell_type": "code",
      "execution_count": null,
      "metadata": {
        "id": "ftgtGNi46Aw6"
      },
      "outputs": [],
      "source": [
        "moderate_dementia_files=os.listdir('/content/Data/Moderate Dementia')"
      ]
    },
    {
      "cell_type": "code",
      "execution_count": null,
      "metadata": {
        "id": "zC4Esp5Z6NGS"
      },
      "outputs": [],
      "source": [
        "very_mild_dementia_files=os.listdir('/content/Data/Very mild Dementia')"
      ]
    },
    {
      "cell_type": "code",
      "execution_count": null,
      "metadata": {
        "id": "p_p3kS4N6Y5e"
      },
      "outputs": [],
      "source": [
        "non_dementia_files=os.listdir('/content/Data/Non Demented')"
      ]
    },
    {
      "cell_type": "code",
      "source": [
        "dementia_files=mild_dementia_files+moderate_dementia_files+very_mild_dementia_files"
      ],
      "metadata": {
        "id": "-abMIlczIyip"
      },
      "execution_count": null,
      "outputs": []
    },
    {
      "cell_type": "code",
      "execution_count": null,
      "metadata": {
        "colab": {
          "base_uri": "https://localhost:8080/"
        },
        "id": "Hejh67F26itk",
        "outputId": "8e4ea527-f63e-410c-ec09-a3c10723c041"
      },
      "outputs": [
        {
          "output_type": "stream",
          "name": "stdout",
          "text": [
            "Number of non dementia images: 67222\n",
            "Number of dementia images: 19215\n"
          ]
        }
      ],
      "source": [
        "# print('Number of mild dementia images:', len(mild_dementia_files))\n",
        "# print('Number of with moderate dementia images:', len(moderate_dementia_files))\n",
        "# print('Number of very mild dementia images:', len(very_mild_dementia_files))\n",
        "print('Number of non dementia images:', len(non_dementia_files))\n",
        "print('Number of dementia images:', len(dementia_files))"
      ]
    },
    {
      "cell_type": "markdown",
      "metadata": {
        "id": "G5PiBVlY7h1s"
      },
      "source": [
        "Creating Labels for the two class of Images\n",
        "\n",
        "dementia --> 1\n",
        "non dementia --> 0"
      ]
    },
    {
      "cell_type": "code",
      "execution_count": null,
      "metadata": {
        "id": "z3Ka1nBi7X5p"
      },
      "outputs": [],
      "source": [
        "# create the labels\n",
        "\n",
        "dementia_labels = [1]*19215\n",
        "\n",
        "non_dementia_lables = [0]*19215\n"
      ]
    },
    {
      "cell_type": "code",
      "execution_count": null,
      "metadata": {
        "colab": {
          "base_uri": "https://localhost:8080/"
        },
        "id": "9fmTeLrt8m8P",
        "outputId": "5a68dcc7-f340-48ee-bbd8-2a4f8ac2c3ef"
      },
      "outputs": [
        {
          "output_type": "stream",
          "name": "stdout",
          "text": [
            "[1, 1, 1, 1, 1]\n",
            "[0, 0, 0, 0, 0]\n"
          ]
        }
      ],
      "source": [
        "# print(mild_dementia_labels[0:5])\n",
        "\n",
        "# print(moderate_dementia_labels[0:5])\n",
        "\n",
        "# print(very_mild_dementia_labels[0:5])\n",
        "print(dementia_labels[0:5])\n",
        "\n",
        "print(non_dementia_lables[0:5])"
      ]
    },
    {
      "cell_type": "code",
      "execution_count": null,
      "metadata": {
        "colab": {
          "base_uri": "https://localhost:8080/"
        },
        "id": "XbETaqvg9JWN",
        "outputId": "d6f456cb-45af-4648-b434-bb171a655c74"
      },
      "outputs": [
        {
          "output_type": "stream",
          "name": "stdout",
          "text": [
            "19215\n",
            "19215\n"
          ]
        }
      ],
      "source": [
        "# print(len(mild_dementia_labels))\n",
        "\n",
        "# print(len(moderate_dementia_labels))\n",
        "\n",
        "# print(len(very_mild_dementia_labels))\n",
        "print(len(dementia_labels))\n",
        "\n",
        "print(len(non_dementia_lables))"
      ]
    },
    {
      "cell_type": "code",
      "execution_count": null,
      "metadata": {
        "colab": {
          "base_uri": "https://localhost:8080/"
        },
        "id": "qHxna5pq-AJY",
        "outputId": "e904feed-f374-4198-d575-2c46753c240b"
      },
      "outputs": [
        {
          "output_type": "stream",
          "name": "stdout",
          "text": [
            "38430\n",
            "[1, 1, 1, 1, 1]\n",
            "[0, 0, 0, 0, 0]\n"
          ]
        }
      ],
      "source": [
        "labels = dementia_labels+non_dementia_lables\n",
        "\n",
        "print(len(labels))\n",
        "print(labels[0:5])\n",
        "print(labels[-5:])"
      ]
    },
    {
      "cell_type": "markdown",
      "metadata": {
        "id": "rBPqHHrT-fj1"
      },
      "source": [
        "Image Processing\n",
        "\n",
        "Resize the Images\n",
        "\n",
        "Convert the images to numpy arrays"
      ]
    },
    {
      "cell_type": "code",
      "execution_count": null,
      "metadata": {
        "id": "8hx1Mcvm-YPc"
      },
      "outputs": [],
      "source": [
        "# convert images to numpy arrays+\n",
        "data = []\n",
        "\n",
        "# Define paths for each category\n",
        "dementia_paths = [\n",
        "    '/content/Data/Mild Dementia/',\n",
        "    '/content/Data/Moderate Dementia/',\n",
        "    '/content/Data/Very mild Dementia/'\n",
        "]\n",
        "\n",
        "# Loop through each dementia path\n",
        "for dementia_path in dementia_paths:\n",
        "    for img_file in os.listdir(dementia_path):  # list files in the directory\n",
        "        image = Image.open(dementia_path + img_file)\n",
        "        image = image.resize((256, 256))\n",
        "        image = image.convert('RGB')\n",
        "        image = np.array(image)\n",
        "        data.append(image)\n",
        "\n",
        "\n",
        "non_dementia_path='/content/Data/Non Demented/'\n",
        "\n",
        "#slicing to get first 19215 images\n",
        "for img_file in non_dementia_files[:19215]:\n",
        "\n",
        "  image = Image.open(non_dementia_path + img_file)\n",
        "  image = image.resize((256,256))\n",
        "  image = image.convert('RGB')\n",
        "  image = np.array(image)\n",
        "  data.append(image)"
      ]
    },
    {
      "cell_type": "code",
      "execution_count": null,
      "metadata": {
        "id": "YIyzWO6YAKuZ",
        "colab": {
          "base_uri": "https://localhost:8080/"
        },
        "outputId": "8b9ccd62-92ac-4e6f-bd04-5ca971be680e"
      },
      "outputs": [
        {
          "output_type": "execute_result",
          "data": {
            "text/plain": [
              "list"
            ]
          },
          "metadata": {},
          "execution_count": 18
        }
      ],
      "source": [
        "type(data)"
      ]
    },
    {
      "cell_type": "code",
      "execution_count": null,
      "metadata": {
        "id": "v_a9XjJlARvg",
        "colab": {
          "base_uri": "https://localhost:8080/"
        },
        "outputId": "d9881722-3062-4afd-e559-8e2da5f1f9e4"
      },
      "outputs": [
        {
          "output_type": "execute_result",
          "data": {
            "text/plain": [
              "38430"
            ]
          },
          "metadata": {},
          "execution_count": 19
        }
      ],
      "source": [
        "len(data)"
      ]
    },
    {
      "cell_type": "code",
      "execution_count": null,
      "metadata": {
        "id": "J5czLdqIAVjo",
        "colab": {
          "base_uri": "https://localhost:8080/",
          "height": 296
        },
        "outputId": "232fcbf7-e704-4ff7-e1fc-2cc0d7b0d91d"
      },
      "outputs": [
        {
          "output_type": "execute_result",
          "data": {
            "text/plain": [
              "array([[[0, 0, 0],\n",
              "        [0, 0, 0],\n",
              "        [0, 0, 0],\n",
              "        ...,\n",
              "        [0, 0, 0],\n",
              "        [0, 0, 0],\n",
              "        [0, 0, 0]],\n",
              "\n",
              "       [[0, 0, 0],\n",
              "        [0, 0, 0],\n",
              "        [0, 0, 0],\n",
              "        ...,\n",
              "        [0, 0, 0],\n",
              "        [0, 0, 0],\n",
              "        [0, 0, 0]],\n",
              "\n",
              "       [[0, 0, 0],\n",
              "        [0, 0, 0],\n",
              "        [0, 0, 0],\n",
              "        ...,\n",
              "        [0, 0, 0],\n",
              "        [0, 0, 0],\n",
              "        [0, 0, 0]],\n",
              "\n",
              "       ...,\n",
              "\n",
              "       [[0, 0, 0],\n",
              "        [0, 0, 0],\n",
              "        [0, 0, 0],\n",
              "        ...,\n",
              "        [0, 0, 0],\n",
              "        [0, 0, 0],\n",
              "        [0, 0, 0]],\n",
              "\n",
              "       [[0, 0, 0],\n",
              "        [0, 0, 0],\n",
              "        [0, 0, 0],\n",
              "        ...,\n",
              "        [0, 0, 0],\n",
              "        [0, 0, 0],\n",
              "        [0, 0, 0]],\n",
              "\n",
              "       [[0, 0, 0],\n",
              "        [0, 0, 0],\n",
              "        [0, 0, 0],\n",
              "        ...,\n",
              "        [0, 0, 0],\n",
              "        [0, 0, 0],\n",
              "        [0, 0, 0]]], dtype=uint8)"
            ],
            "text/html": [
              "<style>\n",
              "      .ndarray_repr .ndarray_raw_data {\n",
              "        display: none;\n",
              "      }\n",
              "      .ndarray_repr.show_array .ndarray_raw_data {\n",
              "        display: block;\n",
              "      }\n",
              "      .ndarray_repr.show_array .ndarray_image_preview {\n",
              "        display: none;\n",
              "      }\n",
              "      </style>\n",
              "      <div id=\"id-ec1c5efc-62b9-4498-8857-08e900093c6b\" class=\"ndarray_repr\"><pre>ndarray (256, 256, 3) <button style=\"padding: 0 2px;\">show data</button></pre><img src=\"data:image/png;base64,iVBORw0KGgoAAAANSUhEUgAAAQAAAAEACAIAAADTED8xAADRvUlEQVR4nOz9V5Nk6XXdDz/HZGZlVbrKyjLtx2IGIAmQoEhJIelONwp+K30BfR6FIkSFJEo0AgkCGIAY09PTprqry6Qrk+aY/8WPa8VTDZJC2xm+r87FRE11VubJ82y/1147Cd+xK03TEEJd12maNhqNPM/rul6v1+v1uq7rEEKj0dja2loul1dXV/xJkiRZlvG3RVHUdc0rkyRJkqTRaCRJUtd1nueXl5f8SV3X/GsIoaoqXhBCaLVadV03m00+N0mSZrNZFMVsNiuKIsuyqqp4Z38K/5vneVEU/FxVVZqm8QtCCFmW1XXNn3OrdV1nWcZfxb8MIWxtbfGNeH2apovFgpupqorvuLm5uVwuF4uFP5Tv5S/uz/Kbb25uJkmyWCzW67Wfs/+7ubnJI+KWuGEeyHq9TpKkLEs/ularxZ34gfh9/nld+bd9A39/WQT5L9KfpmlZlnVd81+LbFEUHAYSyT/lee7XBx1Jq9VqNBrxISFYvMwHxmE3Go3hcNjr9ba2tlar1Xq9bjabaZpeXFxcXl6WZVmWZSzrIRK19XrNb9I0bTab6/Xa2sIHccPhunTG0h+kilmWdTqd1WrlP0fOUA/eP8uyPM+Xy2Wr1Wq1WiGE5XK5Xq95w39QELkHnlKapi/oMM8khJDneaPRWCwWfFluqd1u++v7mJIkeUHP/a//jK7vigL4ihWgqqqyLPkvv+SyreXFeZ7nef6bVjBNU8Q9hJBlWZZl1pAsy3g9B4l4NZvNdrvd6XT6/f75+flqtWo2m8ifxRdz+MLd8im1rtVqlSRJLNzoXog0Nk1TFCm20/ZIq9WKm8/zvCxL/pd/9VtZEHk3XmC7/k/IIu9sBYjtRVmWaZq2Wi0+NP4g9NY/80V47C84sRc8z3f8+s4pAFf8rK0SnC6/aTQatoutVitN0+VyaUcRQkDcQ2RWY6dvgQ4htFqtu3fvtlqtjY2Nfr+/tbW1ubk5GAywl2VZLhaLJ0+ejMdjG2/rFdIcvxufvrGxsVwu7XmsnL5D9MSW+IWvv16vMbdBXgIfxeuLolitVg7trq6uCNh4gbURCbbg+iFYAYLcgl0ojzT+mftZLpf8kve09voOXzisf0bXd1EBkNSiKGzyQyTQcZyTZVmj0SBMx/5xGJwx/7UC+J/4lLquO50OkXG32x0MBnmeb25ubm5uEvti/pfLZVEUcb7BO5Rl6cSD39++fRuhLIri8ePHKKedTBwtWB9eMJa+c2IwhxwEVFy8zB/daDT4TVVVfLqVwU8ptiDoAz8QDmE47DAJdRBxwjB/QV7DN/J7cgr/ROj1Hb++KwoQx5G23BwJ580v8bllWSLxm5ubnHpZloTC5+fnIfLyvqqqwnI7oGo2m3t7e51Op9frDYdDFKDdbjebzeVymWVZq9XCEvMpq9UKOfOtxnHR9vb2n/zJn/zoRz9qNptPnz79T//pP00mEwdLLwg6/8uXigOqoOil0+nYBi8Wi8lkwoubzSZ+Y3Nzs6qq5XLZaDSyLCMB6HQ6PEBurNFoEEDa+WALrADcgxWG5+MQixtAJwmKyrLk4ZD+xuf1/5LgN3PFgSxHhchaJRzvYqVsVv1XmCibOn5jc44h7/V6GPubN2/2+/2dnZ12u4057Ha7SZJsbGykadput4uiaDQaJycnyGKWZXfu3Lm4uEiShKggSZKrq6uiKFqtVqfT8fsQPm1sbCRJ0mw2MeStVos3RyG/+eabFxSDl6VpurOzk+f5+fn5YrEg022328Tc6/Xa+tNsNi3idjJOJEJUUnPgFycSfh+MQlEULn+FqLbGOzsNi7NnHnWe5xxNbB3+uVzfIQWwcQp6+rEVJxlF6PP872+bsma73c6ybLFYID0+g1q11H6/3+l0lsvls2fPsiz79NNP9/b2NjY2bt68ubm5ub+/32q1JpNJCGE0GmVZtrm5GULodDqtVivP81/96ld84mAw+Pf//t8vl8vz83MMPAlrXdcXFxc//elP//qv/xq1uX37NjFSu93udrv4me3t7Xa7vb+/PxqNzs7O/uN//I+np6fxE+DOm83m7du38zw/OTmZz+doTqfTmc1mSOFqtZrNZujb5eXl5eUlTpJkAAnGQvM07AqCPAxPmOKmvWv8rz4RjoB4jACJ19glOruwSvzz0oFvWQHsOn0qVD+JcBy4Y6UajQahLbpRq47OD9aQPM+3trY2Njaodrdarc3NzY2NjTzPt7e38zwfDAbb29uDwaDT6WxtbRH27O7u8k/8CTY1hHBxcbFcLg8ODrgBYrCrq6tut3t1dUV0XhTFcrk8Ozur63o+n/NKlAdPkud5lmUbGxvtdtv+qtvt1nVNaf/y8pLXZFm2s7Ozu7uL39jc3Nza2jo/Py/LktpUWZadTgdNcHgTZJudj2LUHeHgMP3M+Q2dDfIoXo+L4AVx9G8vwQE5ubcTJmF4QfT/WeTE3xUP4NiGI3H5HysVZMwcrdpFhKipxL9idzc3N4njCV3quu71ev/u3/27brdLljkYDMgfZrNZv9+3hSaIury8JPg+Ojp69uzZ+++/H0JIkuTRo0eLxYJPpO7O/SDrDkvKsuTNl8vldDpdLBZZlj1+/JjvgljfvHnz93//90ej0ZMnTx49ejQcDkejUbfbPTg4ODg4uLq6IqZfLpfffPPNeDxer9fE4lVVXVxcTKfT8/Nzx3shBHqFcTjOLbmOhD9Emi3QISqt0tCInQBPz+UEZN3xVX29tRdU5npHQvMmru+EAvgYrAA8bgrwDo0Qzfi0nODyglarhc3D1nY6HTpKSZJsb283m83RaNTr9S4uLjY2NjY2Nnq93ubm5mw2S5Kk1+sNBoPLy8uqqmaz2dnZ2XQ6PTw8PD4+Ho/HzWaz3+8XRXF0dLRarUi466gASq86hLCxsYFYOOe+urq6urpKkmSxWCCLeZ4T1fR6vX6/f3l5OZ/Pe71ep9NBbZIkIS+v6/r8/Pzi4iJN06urq16vd3l5SR7MJzabTR5FURSuS/px4U5du7Ttdw0tXK+E+qm+UJ+1ySe3QQewU+7Q4Z/pWP8z0oFvUwEsyhZxH4kl2y/2mTnbWy6XVgn+sNVqdbvdEMLm5ma73d7a2tra2kKwbty4MRgMeB9inp2dnZs3b964cePx48fn5+f9fj9JksePHz958uTk5OT58+fT6RTBGo/H3BIxQ5qm6EmISuBEyeSRWEoy12azSbO2Vs+u0Wg0Gg1qKScnJ9PpFKm6uLiYTCYI97/+1//63/7bf7u5uXl2dlYUxQcffHDnzp2jo6P5fP7NN9+Qmu/s7FALWiwWOCW0wsV+V0v9GCkc8b+4rKBgKVH9lFe6aeivGZe8XIl2xG/H4gN1ovwdv75lD+DIx2dG/OC6vrMrP1Bnxi4Z1QIIEOsnSULe2e12UQAADuSC/FAUBSEQhc7FYvHs2bPz8/PPP//82bNnJycnk8kE+EMIYbFYENOjbPShQtT1tHCHEMiMSRxjQeGDuE/LUIxfKMsSvbq6unr+/Pn5+Xm3210sFmdnZ1VVdbvd0Wi0ubm5Xq+Xus7Pz6+urnhcSDOBOM+NT3QEGJSh1upDJ+qF+yziUpKvODfgfx1EOdxytkCh9p+L9IdvXQG4kP5E3fgXmlmO+50DBD1rZ4GtVmswGGxsbNAi3dzcHI1GnU5nY2NjZ2en3+/Xdf3kyZN+v/87v/M7w+GQsuZ0Ov3mm2+ePXt2fHw8mUz4b1mW0+kULNByucS5k5dT+pjP52TDlDXdPaVvQFXUocjV1RXmmX4TKkd2e3Fx0Wg0KE8hW+QtnU7n/Pz8Zz/72Xw+f/To0S9/+csQwscff3z37t1PPvnkzp07k8nk9PT08ePHV1dXPCI8zNXVVSVgXy0EUVVVPKhwHSRC99CpgjMrP+0g58DveQjEXai6kUX4SXzIxsYGJ/htydLLXt8JBeD4+dmHFFRm/s0XuFWJGiA0/X6/3W4vl8utra2dnZ29vT0wlbiCNE3n8zlGFF06Ozt7/Pjxs2fPJpPJdDp98uQJ8QYpJlZzuVzmed5sNi8vL6nbrNdrvEGapjTIwI2hD1QkCTOcoDuKwE4XRbFYLCjz03UOEsFOp0NYv1gsDg8P0zR9+vTp06dP+eitra0bN27wFba2tkIIrVbr4uLi9PT0/Px8uVxeXl5agi2FaIjzpTiDegFTaBNjz+DfkFmFCO9EvORUgdCL9MBNmH8WTuDbV4D4VBzPcGbGbDrgsWJwpWna6XQ2NzetBrdu3RoOh5ubmzs7OwQb7XbbvV6wD48ePXr27Nn9+/dPTk7Ozs6Wy+VqtQJXXJblZDJZLBb8LQk02W2n02k2m3gVbCcojCAMGXEONr4oina7HULgfUhtz8/P+af1er1ardAueth1XW9sbFCx4U5wGpPJBJ15+PDh5eVlo9F477332u12q9Xa3t4mP/niiy++/PLLs7Oz4XBIODefz4nEms0mXhHdy4SBA+tmTKGLReiDxTeJemH2BqlQeg7wHDXhdhyyfhvS9NLXt6AADg/q68ic5Hr9LkjQUwFOnImGEBqNRrvdbjQa3W633+/jEDY2Nvb29ra3t7vdbrfb5ZB4DQXK9Xr96NGjBw8efPPNNw8fPpzNZkCdqWPygsVi4cjKSBvwQnyoa4gESLWarKvVarVaUSHBFvJ7/oqXgSzyt+bN6U9TJgqqZl5cXMxmM8SUqOn4+Pjrr78OIbTbbdS72+1ubm5i7LvdblmWs9ns5OQE6cdOu3lssa5VpHI+4HPx13FElKrtaPVwFzK+/IcOX+Mc+rt8vWsFiCs/IQR30ZPrtWeDq5wvJoK4gEjZ3Nzc3t6morK5udnpdCj/oyf0uVarFUqysbExm80eP35MVH18fHx5eck0CViDEAKi7xKnW1f8sLW1ReQTFMxgwgnfKQg6PQ0hbG5utlqtq6uri4sLIjFj7Iih8R4k1kB6KGrhUlwODiGQVAyHwzRNHzx48OTJk83NzY8//rjZbPZ6vf39/Xv37m1vb1O6/fzzzyeTSafT4bnFyYnNfCyULmJaJYKqRnVUEarVF6vVlDRWL1HXzKkzvjrLMvKo77gr+BY8gE0mckD+lKh0nQp28pvgzaDclzI/QT9BTr/fRyso8pBcLhYLFOP8/Pybb7558ODBeDx+9OgRhf+6rmez2dXVleMuxKXX62FxwQsFoX9TtVoJYwiTOGP6U2iF88JEoD1/EVJntNReArn3K9vtNo+C39fCpaIMuKxer+fQbrVa3bhxg44HreXFYkF24aIqUksxx7KOu0uul/yT6zgIB0IWbr/Gk3dJ1HmIswUazPX18Ynv4PWt5QAUFjha19SSCGzsI3HIgVASUVDj39nZSYS/73Q6o9Ho1q1bk8nk6upqtVoNBgPM8JdffvmXf/mX4GqANlDNmE6n6/W61+v5Zpi3xOhi+xkgXK1WlGtwHYlmaIIsNEJMoLVcLgHMIX8hhIuLC5rBDBuEEEAaG8qGRhFH2fZvbGyg0ugSGFUiMTLjdrv98OHDbrd79+7du3fv3rx589atW9vb21999dWzZ89ACvG22ONS+Or4UYeoUZBGIxNBHthlrhg1VAoNbi+N2vPQQjR59x0PhN61AjjE55gd33M8cXBsaIPDVoIQxIKUdGtrq9PpEAFvbW31+/3RaIRvoRA+m82eP3/+61//mqIhATHRSy2gb7/f55CQfrJGMgFySmSdPi5w6ywaKCM4xtqlaYpPSNOUmgxDlYTylhVeTIbtWqo9BkERIoU3c0bE/yZJcnp6WmpeB2hQkiRbW1vdbvfWrVtVVdHnHo/Hx8fHxCG1sBsWfX+LIHufqBJdR41hV4rs3Hwz4Tq0u45aY3VUcv1/CnDtwpAT7OIfXfOx+Q8hUGirIug5f4W7x7rXdQ2abXt7mxwgTdOdnZ2tra08zw8PD7/88stf//rX4BfIKUMIVCG3traIpra3ty8uLqgk4gQQdES2LEuqLjT5kRhklyZUiPwVYg38LhUutVZXmCyZT0dikiRpt9vkvny0y/O4FLsXFJ4CKxEgH4qLuLi4+OUvf/nw4cMbN27cuXPn1q1b77///vHx8RdffHF5eXl2dkYU59AOP4AC8HHELfYAsQd2qONw/4XCHVeQN0DfjB2yh3+nQvZbX9+CAvC8mLegawjAsBa0xkYliWBwINswckBoXOQ5ODig1UWANBgMiqJ49uzZ4eHhV1999fOf/5xSI/LHRzAsT0TO5yZRG44DLnURCGFxg6o0JACAI6yitSq2iHhVVYC0XUgJIZDv8oMTaG4Gr8ifJEmCuFeaUaxVcKSfXWgwcrVaXVxckFtfXl5ubGwMh8N2uz0ajegWF0VxfHxscfd/fRaVBi1eSGozjey4R+b7cfzDO9i5+TXxK7/LTuBbqALZfvh5ud7vxxdCIAo3QAVhHQwG/X4f8d3Y2MCK93o9IMfkvpjDv/zLv6Qg2Gw2SXZdvCc84ICBMYcQ0AREttVq8Z78L+e3Wq0uLy9t2LhDRNNAfMtQKUoFxBRUBVE7PeA0Tfv9fgjB9Zkqmml0tg3GpiiK+Xyepim3fXV1xchOCOHq6ooiEp++Xq//9m//9u/+7u8ODg4++eSTnZ2dP/qjPxqNRr/85S9BN+HorLcENq7VODfIRJPh7xt7uVQwO2IqCzdgE7cOQgSte8di9ttf71oB0gjy4MDR/2QLWgnOXgsTQVzR7/ehr6Hms7OzQ/+I+AFzOJlMnj179vDhw5OTE6L88/Pz+XxOWIKs5BqtpGbioIX8OIRAdk4cb4kn/QXwHIPpuR8KOCEKf0keVqsV6ofQYP4BrvqVSKFhTrYFxpNWVdVut8E+OO9P0/Ti4qJWJ2FnZ6eqKoDTVVWNRqPBYDAYDO7evTuZTGytZ7MZn0Ugl2ls2kfjQDQR5jzukdnY5xrafOEoUcU41a5VZOOgk+9Skzj5v7/kjV5wM1msHW+4YAeazWgCopdut7uzszMYDEajEeH7/v7+9vY23dDhcLizs4PEfP7553/xF39xeno6nU7pJVVVNZ/PXUwkIGk2m+71ki4TZ2PVjo+PicUJWviv3Tr1+16vx2vQuqBqadwLwwOs12tas4Q6jUZjNBqRtIQQ6ro+Pz/nK6MVpMV5nk8mk4uLi/l8bv3hu9PcQD9dbJnP5xsbG4PBgMQGyRuNRjdv3kQxFovF8+fPv/jii+Pj4/Pzc4wCCQZ3ZYV3zZTqQgiBHjYtcLsyTg01KIqi1WrR2+Zw/c4oFV0XK+F3Byz07jxAch3OEEKoqiomHvM/xVGvrR3RDpnucDik5rO5uelIqSxLgJzAe6j2IHYbGxuYbTdoHeb6s0IIBD+YTwQd++3c11VLyCOSJEEoQwTiID0NIfBWmDpE1p0jonaXgOto9IdxApfSeb1trbl6kEK8ECKL8pQa2gKER9TXarXIClar1fb2Nu9ZFIX5IFyOiz1YkBPjTfgnnJgdVC1cFif7m8NidgL8E8Xf+p+kLXrH17tQgES15xfKBbXGuDD/9pulWDoMeqP0iRw3m83t7e1+v7+9vX3jxo2yLM/Pz6fT6cnJyV/91V998cUXpH0EHgSymHaHzhinuq4XiwXhOLgJIg23aZFFBlASQWhCCK5FBvFtOfp3Eo8Fxb1QRGJ8GUFfrVbEXSgA0Qg2Eo9BL4LCP90uPs5oi1qQNeejPBniewvoxcXF06dPj46OBoPB3t7ecDj8gz/4g8PDw8VicXV1RXZkEFR6vedYq19Zaf7L+Qm/RCcd2qEABHhWJ8OHKkFKKXskybsOPf6x610oQBzlO6T2EToWqqPLsSYFRAIYgAkhBHSA0IWqeQjh9PQUXGRd1+DbLi8v6RV0u13qPzgK4yzcGXVTgiIjMs1d4UMKXdbMUmDgIH/Cvfnd6mhShNCOP6SzdnFxgXpg9YFR4F6ot9Kk63a73I9B9gZcpGmKjwpiiCAA44sbtnR+fs4XIe1er9ftdvvGjRtuUeMnEe5KeIfk+qhkFlFQ2kunmkDAHJDEZ9FYzAsPOYm4Td+B1P2W1zsNgYJK5q6y8fhSNXqCTE4u/k0mG419QIJDCIPBoN1uj8djxOVXv/rVz372s8PDQ4r94/GY4CpJEqDLtYqt4H9cQh0Oh9wAok+llWPmlTgTvEopZgSkfGNjoyEmLBe/nWTXdQ0mh2iEX/J6hJhsG5tqwCYuAuAQH22XGELg03nDLMsAgAQ5IlBSfIqdxmKxII5/9uzZo0ePNjc3f/CDH/z+7//+zZs3Hzx4wKe7O15peiaOVG3Oa4E9XQgKYumqRVaQi06Lf+L9yaxwVoSC35H4J7wbBUgjth9H3kEuMo1olZKoCB1CQBz7/T5D67u7u8hiHXWdxuPxxcXF4eHhyckJZpKafQgBBBtnEFdgbM8gbsByX15egrDY2NjgtnEamH/kO04hXCFB0xgYqOvaM5C4CEuDI0AECHGPzWcp7uUiIqIjwwlCDSJ2pgYqNFrgZ4j0W85QA9BHl5eXs9mMoYi9vb1bt25REuUBxmWc+FatBg4C6wgYh56UQoMbauGwxymKEUGZhi3fgeD9Nte7UAAMQxLN+DrldREjRFmyI0toS5B+0D4YvyRJxuMxvFGPHj366quvyOc441artbe3R2gB6KAW6oFQBDfCDVxdXV1eXlJ44T7JIF3XDwowElFcceRYcT6FDnQIgTZwJhoF/qTf7xOOF8Lf8xBQ4EKUW3xrfqCfRRKCNFvO+EZBcDTAfEgbQk90xN+GEJrNJjWcTIyLX3/99XQ6/fDDD7/3ve998MEHYAphOqJQE2SznC473kMHCNU8kx0HPy9ESuhqKqBUqfmB//9SgDQaxeA3lnUwiS6BB1UesNlE/0y4p9EVQphMJrPZ7PLy8ujo6Pj42MMlhUja+MGpbRA8y6UVPDgoaHJN0M6NRmM6nVronfjWUUO31kwJH5rnuWe7qAIhtS7sENEhOnUEtUcHak3M8BHYy36/v7GxwWC+RRzJpp6DN7NNcbmG57MWnWhQVc1dqtVq9fz58729Pb4j1QXMh4/AlyU+CLFSRwW0NKJLQb45CD9kV5ASMbdW0WTCO5C9/+v1dhUgFYtlUHYI0oaIE0tgyKS7pyEEiJqpt9DP393dffbs2Xg8Ho1GW1tbh4eHP/vZz8bjcVEUeHaSyxBCt9slTWRu8Orq6vz8/PLyklIgfDvYb4622+3u7u72+32wPdPptK7r8XiMAFmgjeGhru9gJs9zmtOYZ7BDSHyaphhduxTGtebz+eXlpZnn8jy/uLgIITAM2e/3u90ucVcI4ezsjPyHQAXIw927d5njQc8bjcZkMjk5Odna2oJfCEQqDxZNponG1el0Hj58+M0333zyySeffvrp/v7+gwcPvvzyS562GyBu/IVoYqkhNlJXhOIyBs8hiYB9yD1FYQOwKViF602x5HoR9t1cb90DUDlBVkIIdvpxTOkUij/hEdNbBbkAYVstEHySJGjFxcUFpgvZNbom0ay6CzhVVQGLwFBhj0vN1oCDSNWttImiCBt30FJ1u5i2STW57+9LocY6T1CB3XWAhyHArruNwPG7ORCinRdERGU0CU1zwz1aP1vbF4NSYdeKEwxmNalBAc6DUoARIgLLJElg3XIoVUVwoFqwqzgDDtFscXadbtFuyrW1+jvTCnhbCpBcn7SwAtSiNomrDa7N84ftdhuhB+2cZdmzZ8+2t7d//OMfYyCfPXv261//ejqdeggd64tuACtINZJHFD4cDhFfkJ6II+Um8M+l6Gyp2SNDQQ1gkNjYwkajcXZ2tlgsINlFMzlUaxpfxI3VmGuR/MHdhiBZzAToSJKEBnalQU1kOhPTqOUYeW02m1j9g4MDJjyfPHkC6xZHgLoiiK6NggM/PT2dTCY7Ozuj0ehHP/rReDx+/PjxgwcPLi4uYACIE3cfovMlP8YqIqhz7uuyhzMuahKYnt+Umfrb6A+8RQXAtvmh1EIL1tH8RKKCg/WByg94NaJnjGKv17tz505d15CCkLy6gxZCACmNOXzB/AcF8RjU+XyeiKUZt4PIIoJU5QkbKjU7jX0gXievqMSN7BjD05V8NTQzi9axOFJvas2RsaVOu+PkmD5GkiTYaQYhqqoinoltrTME1Hu5XMJ0Hc9thhDAdVdaLHJxcXF8fIyl52mPRqO6rp8+fcoDXK1WlMUyjWdwvi4HhSh08QsqdeiSCEnlKpOPPvwGLujd+4S37gGSqPNVC/tZRnQPQTYDO9HWRWUGER+NRh988MHBwcEXX3zxP/7H//jJT36CpyaGwasSahshzIcisnR8EYtEqBsOj8CUfAP1gPIWDWSoN8hluRrT6/UorXADgLFd6nmhB8ydcEskHltbW/gim0YUgECOeeJUfDuE/pBzubbI265WKxrAGPXFYsEgBB2Px48fe56GO8Ei0Fq5vLw8PDyk8nt5efno0aOyLGez2Q9+8IN//a//9a9+9as///M/Pzo6mkwmJDzUUt1wKARlN2SVY41T54a2vIXIDjpYsgDEevXur7eYAyTXK98OfqwScamBJ+LGLWhkcr4syxj4wlw9e/YM4iqkOchyhwjNT0bhG0iFquDAnKVZN8hHuRNG451OBAEQHPgS5BBkU2h/AcbM64Mg3IY/ULaPqzoODJraIYBC8gB9nzb2CD3IKJrKtXrM3DOlrRAC+kx8iILV6nkHMTugWkzkcIeLxWJzc/P999+/urp6/PgxZeVUMCfeM0Qoidiox4Je/0YDIUQ6EH5j4ZW9xLu/3pYCpBF1MMccrtO5WfQT1T1BPTDetbe3Rx+gruvNzc0PP/zw6dOn//k//2fIfACTYWN4W6qQNtLYyDRNqf/w6cAKsNxWBkSESBozvBbrP0LvTjBegnSZ2TFe6QCd4gbjv9RwOFc+BXkF1xlCQOiB6KUa10KU3STOhMhwMsAkZ57nxPfkwev1GtwoeUtRFGjIzs5OURTj8RiQBbrqDD6EQLeEAI+7hSp4Npt98MEHGxsbu7u7v/zlL588eXJ+fh5nO4nq17UYskoN8aVq+r5g+F6wd7aGTiHekhz+X6+3GAK5PJxpQiK+XBJJNPZOQTrLso2NDTIwRBYM3OHh4eeff/706VN8gj8ozs9iPAKEOWnEL2JxcZe00MaNRAU+rDvvVkRzXsbq+P5pGqTiw0pEDFirFc2nu77Jy3gTZ0dultXaaYcKFSLZxTEC48uyDLqHXHDrTqeDBK9WK1d7XL3d3Nykve37JDgk+kJPnORkQtTBRnrr1q3RaDQajW7fvk1KgJeoRP5FToU3w2sZ6OHJ0rVoT0O0SyYOeFJxbH2L6KA3oABJ1NpMxFXoqk4ZwQwxYPyMHJci/OFnaJyHw2Gz2RwMBjs7O7B9EPqfnJw4vMZdcAyJgOkhhEpU/TxTSpxYXyw0LD0bGxvg46+urngN4uswHdtWluXu7u7l5eV0Ok3T1Bwqts3gohsid6GugmGjv0bwsFwu5/P5dDoNQhQHjVa5M02LALg/pBKJ5iJwKScnJ6goiUq73b579y5x1/b2dqfTmU6ns9mMiDxN036/v7e3x16ZTPNfkP5yFpPJBJ+DPWKz5ePHj//rf/2vH3/88Y0bN2Cl/uyzz+q6ZqETX4oZtH6/T7hYa7wYT5gkCdkRKmHD4afKPSdqqKPnxfXVt+/semMewLFgFu3irKMZ6kzzH46LKoFbKoGQCYEIDwaDQbfbhdvj8PCQyuNK3B4N0dO66O6IH/tUCukexGqGm8algDcm3w0CLfK2yIHZRGgUAJfIRPdpuBtKhQK44xEU6WIvUQaYnG1oX6iDoZOeiHcztdCmIzSEJ7kSFft8PvcsKFVRwJ5Ya5YSgE3yeCdfDS+HLiGOIQRv35hOp48fP16v1x9//PHNmzen0+mXX36JT+71ep6odDRvaEkt0HuhtT2JJs5ClCdwVQLMpdcxwm9KIH/L63UVILnevcvUe3eUkmp3XVAUZFEjiIfTr9FoQGnIAff7/Y8++qiqquPj41/84he/+tWvGO+yCAaFEMQVvh8CAGA/ca3NpSdWaxGrwMMMxRWunEijFkjYe/JoAngHHl6o1NAmX9ndAxLKEMJ6vWZoy8qGhPFuyPf5+Tl5f7fbrarq9PSUz03UZA0hmI3Uk0PIFiNd5BIk8VgTBuJOTk5ardbu7i7LMDH/TBXTZ6CUVGnQp9PpkDaUZXlycnJyckKGPRgMbt26Vdf1YDAYj8dPnjzBodkE2NGFiCYoUVOfgC22gEXE2mu/HcTt/poC+bLXaykAh+EMJu7/uT4QoiaiiwNptMGX9K7X6+3t7cHrFkIgVmFRxf379w8PD8k1naqmEWxupZXutcpqrrLlorIpNXLFx5EiA2qoRN4fFJ9g+F3C4vWGQ8dpgyUVH4IOkMUiHwRUhmlw/Ov1GhAEYQPhonvAhUZMnKwHzc4H9XT5gtPplGiEggFK7nrOcrkkm2L9DH1rltD4Wdk3ol1oUZIki8ViOp0+ffp0f3+/1+uNRiOmyVqtFhs9qOpaFR12luIUihXACXGInG1yfXs5bsSi8jpi+VLXGwuBUjEF1FpMEkukpSRE2Djb2p4uzDPlwqurq6Ojo4cPHxIQhxA4Hle+y7JE2pwsujCXCqybaUsc9cdco4bELXVdU7RBhtwVDkqI+RSwQ+fn56m2ahv8yPsQETW1iZXqJNHU5eXlZDIxMo9nhWiSPxA3oypoIx9qX5SKkyLV7sC6rplPwHXwngy+pBpyyPMcuE5RFKzYIPmho7fWVBrtNiKu09PT+XzOt8PpLRaLBw8eMFH5H/7Df1gul//tv/03bD+IqSpqZQYB8rJoDX0QxKuOiKO5/PsQ0cm80G57B9ebUQCLGueXa4+a7XEc/6VR35ejBU25tbW1vb29v7/PbNfR0dHTp08fPHiAvwaLZoAQMTqRN2EPH11HQxiuPASNkiQCzSMZNpxxZ8CJdS2ATVVVGxsbZ2dnjBFmQnryRRAXAvQg6lw+LkSpjq1dmqb4n1KjP8RUHlOMo+FEUwd1xLpTarXMxsYG7eeyLGHhpTzFoEyt5Y1JkhwdHQEVYUsayD9cIrwSpPhOORhpWC6XT548ASl08+bNPM/Z6eREovwNeLN9owXDgm6AaqrVwuF6/zjRPP4bkcnf8notBfCtOypIIohbJgiAq138VRU1hoNcB+3Jg4ODDz74oN1u/8//+T+fPHlydXUFHSxuelNXpXYyf+40NISA3U3ETmW7YoueaYSXVJKIC/ljlsBVwkq9p0rjfLVW5JKtGvmIh/GMOb9ERBA7R2VJkgDtBIaN+W9orMzqHdSirrX0stJFKJgkCSwBK3GuVJotxqZYP7kfPitJEpAU+IEQAn0S3CMTF+Bq2bFQaX/r1dXV559//vHHH//4xz+G46iu6+fPnxvVG7uCWm0Bh6mlcOB2+xTcyoglwDXr6t32BN5kH8D+2lY51Q6F2FG6AO84gfCATGB3d3c+n5+dnZ2cnDSbTc6jFjMcLX3iZgptBOi5BqYo8rgEVIuphlZxoiptkPbyv0gbS6dpIJTRZulaxbtKyxgxkCQAnLen0VEw3mG5XPZ6PeDZuYY5qbomSQJwIxfbHGGPCdMt7nycoQeIC4lQJdoVAgyk3IbA2OxMkygXFxfwrKDDUHT50bGgyV08agP43slk8vjx45s3bx4cHHz66acXFxdVVeF8UDlH+f4sRIL0wCU1m3+HOi4Yuvy1frds0m+mD2C5t9KnEUI4KHWrNPUbZB4YXjHcipo6c1VYo5OTE0JtDoNzpZ/gwCAXl79/GaI1HCHir0y1iBKfw/A4Fs4gItTJtfNSQGLMfJqmLFd1Op4I9ZkI6szUgeP1VOzqDZH70ovN1K7mfxMxv6/Xa+TSmSIZQuwu+PNKEEOyL2wz/1oL00EzEZO0Wq0mk0lD8/Lwp+MK+Jo0OpIkmc1mlLyCgsDlcskiTbbYF0XBdk108oVKqAtEISK5cXTk5BvH5aHtoOgU5X99yfxtrpdWgOQ3phbQ7DKaFq0iCh1O0ZXjQkMSiTb7IvQYcjZZPHz4kOKmKUno7KYqhzttLbRQnlp4iIpraTS+5DOoVbIkImJOJVU3lxQWJ4MyY40qQTiRKgfKIYRutwuxLjfjcM4RWi3CiLquwXKWZcnILxpbliWM0w7SQghNbf9NIi5bRxdpmmJ6U1GV8Om8LSAFXAdOEv9ACWE2m9F6q8T66NIzWQFYD/ccnKfVYkr8gz/4g48++ujq6urw8DCEwLaROAn2raYR+CoX1XGtec5YouoIKNEQg9ArSvRLXm+gD2DjGhe/1toKGq4nOr5qtY0xAAxkJEnyxRdf/OQnP3nw4AEyhK2ymaegXpalSzE2kw6HECyaA0vR0CKaK1FlYdXQH2PIqMqD8ue0MPOFODQ9wJVEBF61YC28D/KXaaIyqNyBdUeHUZIQgjW8EMPmdDqlBIw2OriHDRdPxW1jlV1LJQNJowWpBISlAIJM8FgrwI3S2eWGQV4FqRDqxMvSND0/Pz89Pb1//36e5z/4wQ9++MMfNpvNP/3TP/0//+f/PHr0KIYbxQ/WWYHP3abEDrCOUHrIvWOK1xTO3+Z6XQVwZG8H59gO0fRvqmgcloucj6mX4XC4v7+/XC4/++yz+/fvAz2oVdJJNJuLYUvV7jW8x+8WO24HMLwAgmjCfXy905Va3GwYP6MVGhHMMyiXyKLNpM7tymgCkCeTRaxv6A9OjH+1TJi/jYyT4qZrwY4ZMMy1Zojj+KfSsplE2CpupqHZRWTRMFiAtGxQpjnAfAWuAObQRjQ+wd1eXFycnJxga1hG+MMf/nA8Hs9ms+VyeXh46KKCw6EgkhtbSfulEEU7PPZUSDtHB/9sFCCJiGtciyQ+djieqMiYqK5HtoppHwwGw+Gw2+1+9dVXf/d3f4dZIomE2QFrV9c1JTlHxomgyORwxtW4w5CoAUkQdXl5iQIsFot2u02kgUxDkJZoJyTwUn8Xy1lM+sAd8u0Y0DEQMkSQYEwdC+1Qp/l8PpvNOG9XIXmfXq/H6oP5fF4KKGofS90zUVk9EYKAOhidOFQ6qPJbCjVNrEUx7fz8nOFSvvtkMiFf39jYAP0PtG6pi69PAZQ0uizLH/7wh7dv3/7DP/xDbv7JkydZtE01EV1SGSHtHBoF7X9wRSREkYLLQe9AB15aAWJ3Flv9MuLFtly6TpyoHOaCDzgfIpbbt28fHBwsl8v79+8/e/bMR0vpA7vC4wAbVwpCVwujj4EnXEG4XVCzNFBhLLTJCw0sImrRRGhhgp8kSTDPTJ0TX5mbFnvvkVn0CoErNI8WVJZlT6tRT8RgJAOEMTw3KvRuQhNHcVks+O8qItkktSBjcQOYf/KqgSA8BaH/xcUF3jITCo0P5Wf34NrtNuA5AryV9gLOZrNms7mzs7O7u/s7v/M7BJzUrLmxTAvC6mh9qmvEjvhd6k2jVnFQQ+A7qgDx5WAm/Q3AT62WjYUpKLbDjnY6nd3d3TzPh8Phxx9/PBqNfv7znzOXRCBYXqdbSiKO1VrlyyyiBIyFj4yt0WgQyNpGkt2iAwstA/bZ4JcYqwU8g+rStU1EAUS7GmQbGMwyAt7B+LDWml4MLbQRRFlxp4yZ5qDeiHtqVhtksRRfRio0hDsVmBL2lxURbRsHhFVipw4cowjf1dXV6elpU0t6QFMT+pOcUEHi/o3syITPW61Wz58//9M//dMf//jH9+7d+973vndycnJ4eLher2ezWRCtQVCEzBf3LdXqEb0g/RYk53UOwF5HSv/p63UVgB8aQl+G6wAhny4vi3NWQv+yLJvN5nA4XC6XX3755eHhIU/EYb0NQ6oVosRCwOIx/y6x19H4AbrhUkmtOYG1djpwqNwYdX2bJeMlifWTJOl2u7wGLeJTkAmDefjlarWiecT90+GGoMWFQidC8Q+WXTTZWAlk3SNg9gY4HIB91mSH2rFtglmMFlhZlqyTmU6nbggmEQE1D7nQvm4qWvP5nKdEG44S0PHxMfv5vv/979O5r+satjkerz1wLQRUiIymxbqOeql1VA7CrtVRV/5tXK+uAJZ+R+TVPzTpnGocMVGLNNUgOVUXwtbHjx9/9dVX4/EYlQiSZtcQUwEofLooQKZhFw7PTSjsN1GWk+mGWJ0TFY6COIiKosB6MenidIVT8TJ6fuPiEgFxFREgI1VEFC78uzTkfLqINqonUc6HvpWCA5D8LJfL7e3tZrNJqupwheZxKjS101y3gR1HOZt3VlqWJfxfNk9FBCohiEq1TwQH2xRfPJXojY2NX//610wF3Llz5/d+7/dQGzO0WkJS9aT9fGrBhGz7/WRiuUrfPofcqytAJpxZUEGQ+hpmhh9w3ystv8BQNZvNfr+fRQCh1Wr15ZdfPnr0iMMjfCwF33d9wz6xpRUS2K0kSdrtNhKGzK2i3SdEXOSOoNMyzSU3teEiSRLg1rU4dOkV2CbBb8UvsW2U8Ewvju+mbsN3N3w6U+PZR1tGbAuJGhREGpmoIkIIeLBamNa2FuORVReaIKk0VuE1mC2tn+H3iDV/wp07COR+fHZ5nm9vbxv2l2plCc3gWh1xOLkWi8Xjx4+73e7e3t4Pf/jDTz75ZDweM/dDaYisPUi13HLm3PM8p4QQx2wkKkst2mg2m5R3Y8F7sw7hFRUgiaANSVQLrwQtjmNWW6lcZDjdbvfOnTvAtnZ2dr744otf/epXWHceU0MQfB4B4Qrmh8i40rJytx3ArqxWKyKHs7OzOC9vRJsssJ2JiKiSJGEmmPQac0ufgWwkLt5V6ka7fLG1tYXTx/OgHsi923MkDM1mkzFzXtlsNgeDwdnZGX/C315dXZEtYC9DCDwl6j+VJoco1xRFMRgMYJFYLpeMQVJpqAU+I3tBAbgrpqJjNUPV2aQ2Ho/b7TabNquqYj8Nt0rBiurFer1+/vz5ycnJZ599hiTcvn37Bz/4ATjqoiim06lNg82/qyb8iUPQRK1SB7EvZMBvLwp6dQXwCYWI7io2S9X1BbS8mD1fkF7VdT0cDvv9/vPnz4+OjlzYDiGQHmS6QAEQBBMW08W0+SRZDDrOeN43RGT23A+oB/StKUIeKjzAwgiccP1BcYgha7xPqdEWTC9K4gYtkQ/vQ7xOdos8lRFpRaJhnRBCURQe4XdqiC1IIuqASjPyuVaH5FoxRrELOxpCoPngQqrfrRB3RiooYSmCPcwNCU+meTrU+Pnz57Y+ONLFYnFycvLw4cOHDx+ynvXZs2cHBwfPnj0jv19peZRbjVU0COYDIn42CCWoJJpdR1a/jesVFaCO1jk6pEs0Wh7U67bc83144qwqybLsxo0bH3/88Xw+/9WvfsUad3JfMPcABJyJptrXSREa6G8lGBYGjMoJwUwIoaUVAWW0lMCFFLcsyMhrgXbwUX5xGhGYplp5jVF0Sl3qIntmDMVpQ9A4CwkoaSJaytvyt6QBS20Kw1OtNVHJQ+AFFGdR2jRiYUC8uH+H2iTiDZFlUAKGF6iMAJi4U7PNocm0XPwAV6vV2dlZlmW7u7v7+/ubm5vHx8cXFxenp6d/8Rd/0el0fu/3fu/999+njvTZZ59BV1qJO3olpvgqosivo24J4a4DsyyaPYoV4M0qwysqgC2Kq9FBVQ7+yb/3F0DUcKb9fp+K/o0bN+bz+YMHD1wfDBrbdSu3qir8eCGuEXtV11V4KEwV8htSz0Qb2pyheoy4EGoFDxCEkMNGltdBrEmEVylEbelaRyo6Nwze1tYW+ztsGgoR+dNIIiTzogM3DSoxRyDB/if0BLRmJUR3ELcKd5WJ8AfPw/0YdJSJfoK3cguWPykjuDKaYDL3nZ0dMigqAUBRkiTZ3t4OCg7X6zVw0e9///v37t1LkuTWrVvPnz+Hgc/VCwfGvhpiMQqCq5QRktT5sSXt1WT1n75eRQFSlfwseb7sGdKopOVjzrKMmBV7VhQFC32n0+nW1tbZ2Rkms9vtEvA4WqXRk6YpNLExWpjPNazt4uJiY2Njf3+f18fDwaX49QkY8PWlAEuphhLJlVNNJBbCG4cQiEDIAbBVNgRXV1eUg7rdLtv7mMByAkP3lxSF8tF0Om2I1yiour9arRC+NAJNoFprcbAB8IT8GY1FsOiuQPKFcDOiiYdpCAJtB0KG2hT/Cq/3k+Qb7e3tDQYDYh7qY8vlcjqdMltDOejq6mo6nT548OCrr77CP/zLf/kvKXjAYo9fTaOJEb6aRSjR0ILb2HEHoCG2lbehA6+iAA5skqh65WqujX1c6cN0bW5uQnlCujYcDr/44ou/+Zu/ubq6QlywvsgxR17XNTKXpinAaXQj9hghBIoqdpq+k0pAulTcaZTkCUJcsPKXajabTqxddcUo0jAyCjoXSCmPRntJH9lVmopHmnACFhZSbV5P1J5q50UZbZ6ro2lmnicKn+e5C/+OfPxNE8FmeVxEO7FDdtkxztBCZNHWYv6hEs0GBjAmpA1k8zi0mzdvsoPn7OyMmQdUmsDp8ePHPI0X0tmgCkoQW1GlIrLLa76xTOD2t3e9igI4hkuvw1yTaPKfV9YCA2MPqGFTa9vf35/P51999dXp6SkSZiFgTjdJEmbkyfOCUIoMiMWnnmji7uLiAsq08/PzwWAA1oCQNBMcDQjAStSFziap/xAkkHPTe1qJp5Z6vClVtra2iNBQWt48SZJOp+MNX2SWk8mEvby8jM4xN4b15SssxZdfCCufCPIZNOAStLip0mYA0AQhBBS1Et54Qzt9Se4pOiVJQm6Kf6OlyH9tTbiTRLtWz87OsN9GoPDix48fU85qt9tQpzx+/PjP/uzPQgj/6l/9q83NzYODg3/xL/7FYDD4xS9+cXh4GBMFVBGVtJ8hmpAkiSt+qfYtrDV7mbyFWtBL77CP7zv2AOH63K0LL46PwbERaQBfSZLkyZMn1OxX2oKIHYqLjN1uFxOF7PpoMdjuuseheR5tgyQOth9Agjc3N+NBkCBGLUImfEUmAIwzZgw5olmI28MePM9zOEzj8J2c1cVsu5QswlfzQJqimEaIQecjnZYMkwAstMuoFhV2IYbGJCKeQfpzjePUAnhStqrFFYD1LQQgTSNAK6RgJABZtCSB3BdfgeavVqv5fE79p6qqTqcz0oXFSUUb8UIZKtcEDFaSjybsScQx7kLIq8r5P3q9igfAcKaaz3Di4ry+FLTYh7GxsTEcDvf29vb29kaj0XA4nE6nf/u3f0sgS3TLMRPvLkXp0dSeIvD0u7u7/GAOBdeMscGO40NESeRMN1FDzVOUDmASURW54sGXJbJCUCiBu0iKPF1eXl5cXJAmlhp2MQkuE7dgRW3DyNHJE5Bv8g1XIT38Re7rEVDMBH/Y1LICj/Kw0oIArCX6aNSMz0V57DzRSb4vqlVrcWDQdAvo6Lqut7e38zwfjUYYEb4aeUKSJFBMoy2/+MUv/s2/+Td37typqmo2mx0cHMAnsBKpGW62FD7ABtSRJxbHVr8UE4xf+QavV0GDJmp21rqSqC9mJY7z9yzLer0ephck+pdffvnFF18AvmW+FinEPtWaPwoqh6EMdV03Ra/rWVsnT0g/IY2fVy4khU2g/9U9l6DlJVivTAzgZL25FlM76XSN3CGH02v3LtwX4/ZciEQEgUI1xQVUanQLaVtHBNF2qjiTRKC9QoRIKDCfRQKdRHgT/ovysDog06gnEp9onXUiCmF+QxpGYRdP29QIKN44SRL0nAdL2rNcLp8/f356ejoajfr9Pg6cCNZBgbsBia46As5k0VCrG4Lx9WajoJdWAAt6fE+5Fir6qrQmxAUvixEtIUJ/WrCDwSAT6oZnClxiQ1y5/C9xMHEC9g+QFk6Dc620M8IVw6AphTSCoIQQChFU2T/gxGutrEu0FtL9skoVWL4jekWnKYRAE3dra4suEtJTqcTubhe5jRcguN9XawQsEUwjVQeAAjngAioBjgcy8YtxV0BZ3eXlW3gEAhicjddK+124B7rI7LREzlbi6/VDoIBRipelVpcGsiCQJuv1+vDw8MaNG5eXl1tbW3fv3sVDPn36lObDKpqjDxG3iJ8Dx1FHEx1phPD7NhUgifBhIar58K928UnUDSCvb2sFL9E/7UN8fS6W4yCkJ/FxrlF3SkapdoTV6ie4ekAZDgnL1HUPMs+F8O7u+2BWccpJhIqjyJ0J44TZJjvMtR0s14Su75YgGzPphjSvJ/hZahtfHa3AQU8qlRdJWvAtIeoBkQlQbEFSm+Jwz69P2fKzIfvIawihFF8dqYgfiGtfGAIOKEmSbrfrvhtmhfehP9XU4pxSWwvwvWhFnufn5+dggZ4/f05Atbe3N5lMDg8PGbup1Hz0Y6wjlBTFq6YmkOoIkmhP+Gavl1aARJ0gi5rrXLW6FVk0I1+WJY2tXq93cHBAjfzZs2esfAyK1HOxgxRF0el0co2rgqTP8xzQaEsErsgH+kBmjIC6/5WIrmexWJDaFpp9aYhXwtJgNeawXZVba1cSukqDwgkc1OfIMQK3ubmJCPLFZ7MZp44oQLwDDah7bah3kiRete1cljZC0LLNdrs9Ho/h2SXh4XsFWaJShMxEaM4pvR2HL4vaO8hciyg3SRKSKGfV9ARIPEBBYzgokaHt/Ly5uYkT4OCSJHnw4MH777//ve99DzD26enp2dnZZDJxwBnXRsm+KpGGrEX0shYhZBx0vKbEv3C9tAIERRQhKujaDiEcuWjgMxFHbm5uDgaDGzdu0IhB+ufzOawQ6DdJVZqmrs/YAHAAZrGlBMmCk3Cd9YTLw1nx3q44uCT9yrKM+MThUyJqbwLxxWKBqabGQtASBHZyKFVFsH6n0ev1GkwBJiPR6BazKbyMmliuLcKoHGQtTdHAoN7UQEk96Qa2tZ3bZZxa/ZZKJJDEKvg6ZlyAGxkiareG6PNNa9Vwedo+CLtEFDiIySLRvHUlUkBKFN1u9+DgYH9/fzKZHBwcbG9vHx4eEgX5LF4wf3XELBQHSA7z+HZvMAp6OQWohR2of2OQp1YhyNGLAwbIoSAfZsXv06dPMf9AHdvtNo3SsixJdum/DIdDTHulqQBjJSxApZa2I82uVFZavWH7TePT1qXW0GClpeeIF14IlSgEza2qig8FkY84Yrk5fiIHz4I5BW9oA3av19ve3ubrUOtMkoT6oAtfzhYoFZRlibY0m00WwFD4IjkhLiIWd3wfQgCMyb+uRU8NLIKXmY8awULHtre3mZB0MJkkCS0tfAJfh5CMTnaioa2jo6Nbt261Wq3T01MCufF4PBwO79+/3+/3b968ORqNPvroo0ePHn399deUqkI0cYEUuViXqChH2yeojMGjdi/iXSuALV9D22GTJCFJqjUQnGpoKyiKoOibiZOVZGA6nZ6enlLJpqqYaMWiK/GuVGKAKc6EEOgnOPoqNYuYCJkDCZml30lqJXCboQ1E0sS7hdjUaEE0tI6u1m4YdBUj57yZW8WZ8LfmcQjy1wRIRNimZce+cmOGPBkc3xDbLmbejbz5fL7UHnZMeB31j50PUAvCNkO7kokiYLlcegiT6C4V4p9MptYYBj9QpGq1WkitazhrsUVUat+6X4FBmU6ne3t7kHtT57h169bt27fZDhh+Y41kkG21+XcBsBZxdKISdvZG6RNfpQrkEDy5vuIPHQDCEKImH+FvCAEz/+DBg/F4jIFhVBxezkqtEKDt2DAeBKE81ms4HJJEFuIrZ353LVpwV9wZEmhr40Ya9dsTNQo4Y4OLEvFMoee5GFayLPPwGskAkVsSrQFlnp0XOGFlSoGx4H6/nwvtSIc7CJRhGW00Gtvb26ydzK6TC1Go4R7A0jkEBwVIY9jRf6btQ3gYOhL2z65PcJQ8RtoyWZYR7pPWI7WEUpbaZrPJkRUatEeCwbGPx+OLi4udnZ3nz58DkvvBD35wcnLyxRdfXF5ejsdj+0kkxzlbETFIV5opz4UKcRWuuE40/TrXb9taiyO2+DeOguzIaq0ELTWijg6Qkn7zzTePHj0Cruytt8h3KuwadQ8UIBH5JjZyPp/P5/OVaB1cWSK0KDR4GqK0pNIQSdAGX16QiS7FlSssK0XGpvh/aAYx4rQUKQjrXohY/G7k+iCXkgh71+129/f3aaJZ2nhZFXWj+IFA0UvCm2LkdRodItBoqdZYLhi9zaT1hzNCJ0EiGSzEA2fGn0dUChpIG55hUc5ic3NzrR1nnBc6yV+B9aCA02g0JpPJ0dFRt9stiuLw8PDq6mo4HN67d+/DDz/0aHKI4vtKhdcY31Vrh81aW+EqIWHfYCr8Eh7AWUgZzSvFV3wGZcRZkgtkD3BqPp/bb5YRNYi/W7PZBNITNAqUC06YCYmVCXQEJsysZllEQ+1OUCbWsVSDae46VWKiRfRTLZPj211eXjLjl2VZt9slTacLYeYVV2wcLPnhcJbEfgxt4Uwc7FZVRfWd8S5wRIkwZ9hvvj7Fg5X2t1KSdyG1qiqGM0kw7MGSaGMsou94yQ/HOkC1PoQA9y2n0O12CdJ4pJgebP/u7i43HyNYKYmyrf7WrVtpmh4eHh4dHfX7/d3d3du3b+/t7T179ixujLioGCJqoFIoiRBtmAyCtHw7ChAi+F4Zrb4LEWFoKeLbWotVzD+DqIGLCqKgQgHgguXi0XO0iRr4fAr+JA55VyIH39DCQ3pGtdDnNsmpuu65eITqiCciEeWJ0aCEubPZDNY0vqDBOcS1ZVlC4eavbyGwAyGKCCE0tF8eKXR9LMsy3AsJT6rheruREPWzyPUtjm4bc5G7Q4sUlyjwiqxfcHxYColAENVut6HNWq/XrKIiCnUmyoFi5hF6KtqUQAix8GzkOWdnZ8+fP79x48ZqtWKL6+bm5mg0unXrFtxnZQT9d9rmeC8IcZOpK29/XkWrJ15R6qPrpcugVsfk+jqDRNQGlQq9TXEVclRXV1dPnjx5+vTpSqugSmHFvKY3i6ZCLZ0E95eXl0yQkDQ7N6DIXWkMFwRR0MIpLBx6iMjWERi4JSoUAgyuNE2xtUyCTyYTXsCOylIrBUII8JZmGj93dzYXUppKjusb2Ev+ylg6/BL5MVXITIj/QmOyi8WC2Ss0E5NPvsGb+92KiDKDE2k2myaZC+IwRU/s+lLxQKLbq9WK7gTfyD7KHTHa2JPJJMjLYciMpaOONx6PP/74436/f3JyMp/PWbr60Ucf/eQnP4FO2HF1qQVWnHsZTSMFjaS6zmH9fyPXyylAnLyn15E/QYYqVdMOmaC/iCA+efLEVRpMFOUFji1urASBn1zmowZiNHxQKIz/hUwKfWN6xmabIjoRDgk6VtwpB2WlOFQLIdDOPDs7u7i44GUe0bTEEzDkEbIoiUqfqQgGycUJqRPNLtpVUigbDoe19gwYU4Sy1XU9m82Oj49T7dOu1ZYKIZCqYuwp0tfRZQidH2YqmuFUo6SoinsXeGMDVENU+qvV6nFp6O9lSOQgWCW+UQjh9PT0/Pz8zp07jx49Go/HOzs7Ozs777333p07d549e1ZpnraKdjNX4hzw/Tgismi5hvFGrt9WAVzWTCM6xPiHKlpPhEITDPT7/eFwePfu3Xv37j1+/Jh6ApVBKuvGKvJBg8Fgb28Ps0cQ7BJQCKHT6bATl94wKoeSIPrE8ZlIBZMkIeSgTEEQ4qlTYjO3hy0ZHMB0OoUHoRK9q7MLmlwuzoL4tekl5vHQrSd3c3HrOnsuyzIeyyrEzINBtQeoNBTq0iROr9/vMx2xId5pijAuBpihpNvtkii7dldVFeFiEAiHJgM36aJtURSTyYSupWNXsrg0TdEBkvXRaNRsNpfL5fn5+f7+/vb29tHR0S9/+cv33nsvy7L79+8zXbm/v//pp5/+4he/oOKUi0enqV3iiToAOOpaPLOVunuppp/faQjkD3PBx04gvicbP9oleZ73er39/f07d+6Q12KzE7GmOcEirqhUMufYKOFRcuGJE1ZtaKEG/BxIHhIPbJ0LsUi1gYLgAdXCkNMM8mPlr/hGZVlS0vaXraM5bnQp0dQSRCyZUEBYgU6ns9IEeqUCeSIONpIcbs81A+qbVTQHHORzhsMhQQtOAC0lxKJo5jfhLOgG0jbGy9kn8wIE3Q1mIzQx/I5/6rqGygVt53xx41gWzpTXN5vN6XQ6mUy63e7Ozk6SJI8ePTo9Pe12u0+fPn3+/PlHH33U6/U+/vjjg4ODL774IhEDLI80PohSgIjYt4TfIGN+/evlFAADWUXE3IlgBb57vomBN0STm5ubFBPpndHkwkEzbwGqh1Nke2GSJEg/aSgdsVSgl0oLkVbaMkQE1dCceJzjhqjPMp1O6UJwS6SeNid5tLaWiz/nmOuoRA34BxT+6ekp9XsLH5Lt7J+fV1q1Ql0vESeU/WeSJEVRAHGlCgwah29EkZFnThxIXlHXNTq2XC5PTk4yrRA2XpB6DraD0qQTZXQe0wD1EEkU1oqmirucxIprMZfx5ElF6Bugk0xyl2XZ6/Xm8/lnn33GjNjx8TEUyIPB4L333vv666+tzzxn1yecA/C0y2gSzUYnifbzvo4reJV5gNgbOP7LBW/KRVhA7JgJOHV0dHR2dob3Jy6nZ+TuDE/NqEMM2HQ6ZcsnTQMMJMkfeLI0TaFtI9PlSGxc15rLcZxGH5ogpxlx1BUiibBWpxEMi9t2VS6ozZem6Ww2cxGJoK6KINkhqhw4cffEmQOSVFjXpZbUkwgRCTTE6oUfo63OG1Ixw5c2ow2TzrZ5PTYIBShFPhlksGiuOdgAFsF2NsAdHBBPOIQAxolUynUqkummhp4BsyyXy6+++uqHP/xhlmXj8fjk5KTdbu/v73/00Ud/+Zd/Cfg8qMCfaRRmpYFV1/3C9fwz7g2/suhzvVwfIEQAOB6085JMq+bIybDxPBQG3llDu9QqRbdCkiSxvVmv10Teg8EAdP5kMsHFm/6/0tR2ohZBr9cDRcchhQjwWIhlgMgHL4S5MubC55eIr7iM+CP4CstoG3GsJ+AjGApbLpcwMiBMDmO41VyjJOQPnm0I1/tBtUCapXa2+k3yPCfjL69zrfqGwVbwbsiQRSqJ+NiCQK+lFoq5AoNhSkUJgSpy+tQY0DGSpZXWcQNxpYlBEBtCAI7BoRwdHe3t7eGX7t27l6bp7du3t7e3T09PX8geXeqJM+9aLdfwG43X15T+l1OAEPHg+sycpeWil8mimQYEhfBmPB4T1r/gv5rNJuzevCdNLpcacazwCDniRC55PSF4GnHuVYLE+H4yjZt4FnYpCrcsy4B5xppTaotRJkSKC1+2Qy44hhAonjCJ39DoeqGJLd7Z1iHV4muixFr9f+4KrUuShKoiURaJNcoWQlho4YUjUp4qg85UDJdiQ6k0NYHbWWuKJREjnQFRG1rXWWmuwIpKjaEpUl4bmqOjIxQAH9jpdEDsZmoLEgM/evRoZ2cHh4A1PDg4ODg4YK9MLWiZ05ignlKcg3HVysRe3/a/tAL4JjKBh/0oeUEmjBqHSsudg8myDKOyWq0Gg4FjHp4mb87weyqanU1dHE+mhgjNILwBEVEIgeAHG9nUAtCg8CO266mW+FofsoidJtG0p/HG+Pq1tuU5/uFnMxdNJhNYHxn/o6WfCmxcaL1Xql6p36FSZ70WRo1QhC+YagMkEychBOozVGAIZiy1RHRghMhwcFxxnY17aGi9WiVO0hACPSwHb9w2L+Yo+V/zPWLacIAEWru7uxz0hjZhpml6enrK44XTsizL0Wj0/vvv37t37xe/+AX2jjjCD+2FJNhSZ7PLk8mur2R96woQItBSEhUuUzVZndhxW+4rEXCbOiqPCLJrzfgixMaHkWmlaQonK08HnXG4RdkHM+bwFMOZR1zbqFmixnOqaiYWrhJulPfnbzlaL8LAmubauh7UkK+qiroqqcv5+fl8Ph8MBtT7iRNc36Q06ejWqZ5jqlTTMO4h1uqCU5nBaVjzeUM8VaJ2L7KeCTmzEr9+GUHH0whi4EC00nbKhpgBXBRG6Knw1HWNrYFButfr0aDEBGD1aL0HLV2lB3x6evr+++9T8xiNRjdu3Pjwww8phTnFrzQQ41iojlZsWQjrqBVTXieOfoXrpZNgJyWcHBY0FUTU50p1hXygLEumgaiX4SKNp80j5ALFCoxlp9NZr9dg6BmtgiaoEkWPzYDNA6VGnC8ZRaW16SZTKSMeFMuu/XstJB8Imc3NTTrBaKb7qSTl1M5tFFCVKhqTd6gWQmhoqxIXT8b1Ir6LC1ZkFC6VNiPKulKbl6jn1FFVl9sbjUZB2TPvQzzDJ1YRJw/dtFRjojZtIZpbb2q5ZS3IXa0UyG6K95xOp/P53GRYvHOz2RwOh5eXl59//vnt27fRhBs3bjQajVu3bvV6vclkkkb0IpbsNJowqaNJbq5SOMvXkPy/v17aA1TXwXBFRAfd0mqJEMKG1gohGaenp5PJhISVEl4psp0yooykBoe7p4ePcPMOZVkOh8MQAq4AV+s7QSsofTAdUoiuOajwyvPFEqeawSfIJgArNIaHDW5Gi5jiL45LwV7abiFntWb5CHUcSLiC6XpLIjqGoJ1CBB6r1YrK0s7ODhFUkO4hghTKmM+k7h5CIKzi9yEEZBFcmhHgiZYqoMaMBxijmqiDaR8SRDZKM6Eh+k68OpkGb4jSzmaz0Wi0t7fHXAR1i6qqHjx48PDhw1/96lfvv/8+k0MUsnZ2do6OjsposVVynQkiRLlvFRFJrMRW9rri/1sqQBKBvTKB/nMBaFciJKujQWFMFDFMVVUMs/plrqY5rsD00llMxG7b6/XIw3Z2dkDmrLT6PBfCudSoO2NZ2PtKbXYP3OSaien3+4StVVWBsGi1WriLVHymlfYMDIdDI17oUvEdN0QRngpQQI6LLgUZ4KW25/KtrS3umWxsbMCjT1ehrmsG2AnAQgiI70KLwUut+EUnifcwCkT8MCZhUBuNRqfTITIJIfAmzrbXWuNAiGIPUGjexe/sTosDUbSCVi503CEE1qXxh+TN5CHof13Xs9lsPp+DC6LOcevWrZ///Oc8uoaotrnDoFCn1OaOWA7dvli99j7tl4ZDI98Y+3C9RZcJCuISIWE0AENMS1Bs4IJdkMOlPohRd1De1m7nUls+Pf+eiirDtpPYuhCJAzK3jhgnMfwA99faqZhGG2pL7dTgnXu9Xq/Xm81mmHB74ToC6Npc1Zq6MjQVXI3rsLZt9XXSY5cjE41oktqWYh+hqO/c1JW3VLuYVtrz5VgihOCuOTxLuDu8K4+XVyaCb9gY+ZgMH2yIUimNMH+VepEt0UfTN8BtQiDJPgSOZjqdUnVgSevGxgaloePj4zqq89jSOwpK1NZMIuhNHU2QvXUFcFBrg+fqm59FnMu7/ogA1XVNByCLwJ4h2pvgVpQ/a71en5yc1GqP1+Jd4n7QFgu3mwM+VysnJ2cF4JdMk52dnTEx2BABJXJPjQ+zPRwOx+Px0dHRWgT/PgMfD5f9Boa2EL1PUE/QclkKBpdqFUhTe1HdXV5GxBBYEG4S2F8uiKvDKhQjVQm4Em0rbfhClD6pIA+l2IWDJigoCXBkBqU2xSXDPdRCJaURBTKDOyjA+fk5o048Yd6Q2m4IAV+3Xq/H4zEti4ODg+FweHR0FKISop9nqtUHyfWGl5PgRL2C14mFXhoNGitlpaZpkCuoNZlaivNjMBjUYt5zfaASOi3R5C7fsxSqFk5ZUmFXne06QpTCrq4vY1sL3G/nkEas3CvtACa7LbRwwAqAmDY0MNBut2lBsL0vEQLc+VmI2CtqcUJWwreQOttkFGK9zaOuOaLMb1jfW4txsaHlxCQb1G0xCvw5BXiKVHgMbj5Vmwz9ISgK0Qa+Ugh7zyiTDzS1TcOqywOnaYhpb2hwLBc3AtLMexLnsACFd+DG0CiezGQy2dnZybJse3t7NBphbnxMtiyOSMN1umWfvgOhV5b+l1AAB4i1yk+2NJmaqQ5+bNE3tLKFEzW/eaVZFnqNqHJRFASIg8EAfqUkSQDqUGtDJnC7ngqwQfXnkmS/UGgnlmBwqSl+87jAX0Zri9YiLq+qqt1uD4dD2qLu0TpoyUTM5nqUP5TQOdECMl5ZCxNRavQbV8MjNUC/qdUyNiiZcPa2iLDClOIA9s0jc5UG7lBmRgIIilyyW6/XtK6IUvgnfJ1tql09z8eBK/UoMxvADRpCWC6Xk8nk7t27/OvGxgYdX2wZd27gUKfTGQ6HnU4HhkxLmuUt/g1GsIqoa/I3MRr2Eh6gVtnY9xE7LB8V1o5mO8ZjPB6b9K+p3SeObazuIQSi7TRNCU7SNEXscCDU3Roa4PBhWyzM19CMNoWB0SV4cCLO41uLuNPxiRM4Ml06l3t7e2ZCjvW/jDprcVpSRKB8x2ZZRHdnCeP1Nn7cM9WwVCuhgoxLiCAMuBrEMRMjdC6EDC+jR8E34ukVEWKXg2uKpzbRSHQSoVQKbQer1fH0d+HdsF90ypgIA8GFP+E36FUSsTAV4rbp9XooAO/DY8lE+lBFW3cTVbrDdUiO5eeVr5dOgktVguNYKIm2xyWqtTnBnc1mcTpYCc9IOa/WGndUggfH6eIuXUnc3d31GB7qVGuDbxnhY91dp7xQiVwAuXF8gtxQKXfmkIgBFwmjWrder6kdEZslYsytoiU/jsLRukS8oqWKvK5m4L6DjGsIwbl+qi54kFNKI478IMQhUZ8NM/cDVLPQLqagNAOkCS2qRJDSlgj2KjH54c2IUR1m8AQoSzjAK4rCk3RpmpKu8OmVLmbkKROVmm8Ei+XPbTQag8FgZ2en0+mw0jPX0ttUALM0wiaWuuIAr3hteoiXUwCHZfGdOcyw0FsxSrVIV+LzsQ8xGN1xXqfT6ff7T548ofxPI4w59LIsQVwh7kgSMsH8lwOMUi10++gqmuPhgxx1oABWEp/6aDRiq8Xe3l6e51dXV3bTnIoTUHeXnAa4vOhgySJlFXUlAHfh50bIhzja3JLn0PQA/LzWsAg6gOwSXmJ9LSK4SlJYsgtSCOpUVYS7JPJxeQMTU2hSrxZxbxB1YaFpTAd1cYwHOpCUF2wSvyQSC1GRjUZnojoPd5iIgDDXBJLFzC7RD/B1pD+81DwAzysTwwLHX6o5SoyI2SP3BQVNEBxkkFpagUiQCgwdwwlHNCvRGQmA0oeHBQam1+tRNmlqKtIoOpcRwCSawYFUpCiK+XyO/bbLQj2o1mG/W63W9vY2SMatrS1iocFg8MEHH5yfnx8fHxNJNzR8aAoGbq/QuKDPmEdHWIUmJyobTCYTgMrYdWqyRMZIfK7t9gTZhRiHWloitNBeboSSEN/5zGAwaLVa6/WaAJ0+OqdZinE/yHch5WCwOZFWqwUQY7VanZ2dMWkQR1wEbAbSNZtNXC5MAvP5nEbYYrE4Oztrt9vYlNls9uGHH+J4y7IcjUYHBwcPHz5k4tlppL1lHTWJ8+vs80mECX3lcOilWSFSjb+U0Th8UKDGmXH3IPhDCI7wiHPIg129KlVpLsWC1NDqOFIIfu+mbFDCUGn1XWyNatEnBo2tYC9NHphpFTu9MKfCNDtrAYm5ybVwudDjuG2JoHPPTj19h44rHE9XgvhWWuudiwAGyXNZpo6KmCHyFSFawlmJNsJ9a/+mjnAKjq/W2uMSxJHqPMeBmbMI8gR+ieSRJbsGUEfwVQ4d995qtQj6zcfqdNn3P5lMyO64k1arxdLoXM1pC7FrCUGVnzg5dtCRRTNPr3a9ugJYDqwGcYjWbDbh4ajrGtNr49EQi2BcSsKa1uqzDgaDuCcP1o2qYhHxOWcRTZAdy3Q65cFROEK2CEnraKO9AzCmuhLB11IBIpKo7cIYx8nJCQ4H3gSU09G55cMEidZGK4lzAJ5kJg62NLpIBD1b44zLdRLHLbhB7C51AldOc0F0EGWnwlQF3OhwqQp5ajQafC4nWKt+DTorCFxIOkQFgvhqHe0pK0SYjtqb2z3VYqXDw8PhcOjyLoXXEBFPWcQtV4kufknyU0dd+VfOBH4rZrgkKrTnWmDmOp1vztJArQYFSITcSDQgFqIMr4oQIKApqazRrK0FIzMVuAem4mQDR+zHRNYxm8288BlyK4Ar/i6Iu1sTNmlphNcP6nCFEPb393d3d90TxWs1tErDTwmJccnftsqPzq/ksL3JNKiYG5QWMwbkoNHS7AQ0iXa0ESCtRY3oQAJxN+NGQ7P/jYgEIFVVLRe/fNCQEO15G52yLK+uriDhcmRCwaoQMq8UHybnVQhwjkadnp6enp6iqxwi37HS/Ltth71B7AFq0cUFeYlMGORX04GX6ATz3DMNA/g3iZpZPEcqJ7DqMRWKoDS1Gw97xhSfTS/mn7f1kGQdoUpJGOJlOzx38hBK2twA5Q7CDDsZTBr4dZfqyrLc3t4eDocE4hSs8DMwgLsTGUJot9vb29s0pIIitxBt9eGDyApi4mhHQUiMCxeOx5raOuHAA+ELEathHY1eJMKkFNEeSEc4fIoF2n9SqieQim07hABpzVpLkEIIkNL5TAmBUtW1jR9pNBqA2+sImMCZwnTGW1F+DcJlkRkTW9LHaDabOzs7uIugddlVVGRPoj0aPspaRPCl9nTUUU3yzSvAC8pghUuiqbxEmTunvrm5ub29TT7qygkWt1IhuakZVr9hLXbIptZSOM6LAYCOByihJBHW38UBw9H4J3cMOCEXWPI8Z4yr1gZFqiiV5gRCtAqSsh2jHi6hIMRVVGxdrVYIViUGuDqCPCXqSfN9oWV2VufQv4rY4wqNiSSij06FTyZNglKO0Mv/6vOq1cBxUaXQ+jM3fTkR5NvtYf6VEB9DU4hWvq5rHGxD0xecBS7i9PQ0qFLiojDWB/2hM8PbDgYDbx6xnlu0KnUDYluWqPxYRkCg5JWaYi9XBnXkHYdoftBBPWqeHUtRWYleRatLM8378E3qCMtRR93lUvw2IMsxQrXQE6V4RJBXa2YWbYCbzWbj8ZhPxLPbied5zhwmiOWgLfAOWPlcizWOHl6noiiYcvJ0VaWBQ5ySw4Cg2cg0Gl9y/QpVRw4ovNjHrjULn6nLnkRjLi7mED0D8nGeCjqNeyAot4GPhSlRvyzRKp1Cu6RCBN2rhBOxtyc8s9PmOy4j7ugQwmQyKdV4bojMFJrE+/fvP3r06OOPP64E5iPla7fbkIb4gzh0g4XLaGtGHrETxKr+CgrwcotXK42fupsYq53LoJyfMc/wfNARLLR7gi5YGs3UhyjWcskviFYxjkbc4aq1UCgTVDCJGplXV1fj8Xg8HtP9sWegRpFl2ab2jebihyJ99A3U2g9Qidrk5s2bLAwNwjy7ToJRd3c51dRYEe3xdWbviNFPNU71Co1Qxqf+9wemXAJZb2hWPSiFSDXgglqCIkFtSjUxg2DkzmQq0bM1tLa+Vn8jzoh4c090ZALSQazLQHCj0bi4uGA1KsVA7nZ3d7fX6xVFcXR0VAhbQbIHY0UiSGyIKv0hWgCFeQ3ioqs0XRii9Ollr5eDQiQqDlxpw1yp3qrj4EajwazDYrE4PDw8PDw8PT3l+BOVwJEVnulSHNFxrQOVcCCBsZzP52BLaSvyDthprkTcT4V2WacqUXP/mENUkUoOEQi2lnA8VY/CvFp8fWz8zs7OrVu3IGtxQ6qhOTWyxouLC6bJlsvlfD53RZWkArFwkMN3oWkKxgkDj/kAQYjuAa8nTsOo0zV7oXZ+dXWFy8UooMCQcqcaLuN+aA8j+p7+ATAChhQu+IUWGrxQaUD0qV6wfGBzc9PHQeWt0WjcvHlzd3c3SRIKEgiJe52r1WpjY2M4HBrlkYopzLbMpcUsWoxC6G87GF7VA7ycAvBDqW5riEBBzoRw6ETt6/X65OSEvIpHxh37z1H62A84R8zUccuEIkS2nE4EOYdCoyqJ6GAJBiwixrWXAq7gQ5IIY+P6QxBhtyOEEG1MIWkbjUa0cuJgvdDuGe6Tr+/efrg+oV9r3XKtzq41llCK7Bk9d5PBfWvuE/10/SARJJtNqcB1DDpEiCFucV5UiMHFeGkKx85VSu1LztTFt7/lNNcRyZe/XVD6Tvmbr+nVHmmaelKv0WjAw8WZ+smUukIEHXe9oRAlh4PhVxD9l1CAJOo+ePbCkUaIwNz45aqqTMrA97QbZTc6IoKQsRLP1c9M/W3kLx50CprMWkcQTtq9w+HQ4suZIehmtHX2Qn0mhMC8Dj+kmolB07iZXKRATnsKsY/s7u4yTlAIXk90h35ScTfnu+9qqSWwiWosmXptBjM7Mo4jTHf6mlr8mERYAILvWigMPoXPpSKMPqRCE/T7fSo27JWpqipOBurrZETtdhtYv/WhjPae4AqM0wwKX10PZG8DEaztY1VV8/n8/v37lApBxXnip44GTmotli0jrrhKuBW/vnqNPsBLL8mzjto0hgi6zSML2qG7jqiYK60MQ2RpxEIlQpKQJAnhoGN0TFelZTMUK+37eGcmOba3t4Mst0HFngLjMAhPMw2PYw7jhNu2hOo1YhQnPLRdNzY2RqPR8fHxdDolvPafY0oT9SJ6vV6u6QVU1/lrfb1sF6e5PtQyWjiCJyTWqqJ1XUQsjnYw/y4mUgnAH1q+yWKh8aENl0W7X3lz5/TMlPrZ+sbccQshuGds944/IRagaLYUmQ3udzweP3r06MaNG+RgXjkV1Oi0RqHndnpV1DhCT14t9Pf10hNhzkjqiHLQB2lnjZ89PT09Pj5OksRkq5VAL64eJhogLjRwTGkPN5JrApAeTUzaiihY9e1ViqKglk9ITfoBiQOWDxeMNjaEtcSrZAKc0KPw4EEaMUlR5B0Oh8fHxystg8Ix8m5ILbO2MYC50vBarancIBu/jkaf1lqEUauuRVOpjgZ2U+GuS6GL+XO3yWqVyBynYYb4XrVQTLyJjw8HYheKGpC5MshLWBUUNLowhV8F9RhUiuD4kBl+wO0cHx/ThyGDJxBoipUjyMYnmnSLhb4WpXsREZMlL1/+fzkF8IU6llGL3hri00q1GKssy2fPnlExRDF47p5KQRAxG3TgU40dksjGjhv7HS8ztMnhGQGitpEOEc/wYrFg0VWqZiepJ3eF5iy1o5LHSrNsc3OTYm6iCr2VgQWm3D9Ck2kotI7A2DgEl1CCSr0uB9lhNgQIx0C4MMrzXGsFIDJNAkqLiiMoNc3sT8Q58EGFhmbquqbST1YQV99TDUxWGrbi3Xq93mKx8Gh8Fi0gS5IE6iQPCtuZkwQjysDyYkQGBOvOnUIIuYhhYnXlCXjyvY5oXXKNgL6a3Pt66UYYV3KdLtxGqFZxyiahFksmMk1U46ofMQmhc2xUUP1ut7vWWl8k2CPzIYTVakWmgdlbadVukiTIOpINBNflCyR7oV3CeCoS1oYW6YUQIPkYDAZ+7kGzyzyBNE2Z+wbG6EfBxWtczqct7fQxFa2I8wFUwgGevSthDMPmfmV9nTywoSkW/xMhkxfXVWqc20tTU0qF2gpS7Fzow0QoVIwX8ZULdDZJ5fWmNeN7cBfYUhTR9hp6w4CvfMOliKSsjbakQb3tTCTbjg/tfHwir3a99ERYErEZ2+pYvCpNyiPZ5iNw7QKyf0fbrN+5uLggFgTvXmnbV5qmMJCV2h2da9TDkTHKlqkxzjszhYhkO1l3FkXaEES2vBYdVRENfIKmLjTbjl5l0UAPgRZI42a0tMISnEYjXQ6afQ+50Nc+TqJ8igSJFslgwtfrNZ/ijMImsI7aQJXadnw1Ros8FpeJ2bylxW1BtV1Hbq6t+Qiwvk2tzLCeU95BIVviA+broHupAK2uC3EWhHAIjLslQXsVeOC5hp6xC5mYeHDdZGguJYdX7QG/hALEMaLvNUSJf7ieIdR1TfpP5XhD+0yLomDUPRWua71eI4vUwja0Aj7TgBVJcKGVw7n2EXGoHKfRVITOaUSgu7Oz45SOuLap8dygkYtCoOI6glInGuEjjKlU66w0gYDCcwM8AbiPiPutokWELs6us6Unom20DUs0hoLcoADk9Pz+BRIrv3MVtdJdcwQOWEbjjjxVohFntIh7KoaOVI0aJLtSF5wSBcLH8aEbqeAnuWjwmlolVqttT2MEhAUpONEBDoF3pucT5GazCBZq+U4jEjsEwAY3dptvXgHsc1P1qlyb5yBTUdY0xLrK9h5q/yRSmGSnXJwEO3zYI41Tdo2ZZ0fdAyVBsCiVGnMGLNkUccRaWKZms3lwcLCxsUFHptIgYqaFWRYCVz9qYWC4bVq8+CIeBQoQQjCAEf4vZI6QzyNOQcE9p1tGzKSO0CxnfJ26rtltgRrAjlGWZa45CiTVThUN9DSJz4gddSgA3x0HQp0a4mscArkTAroWqJOvaSuTCsudJAnEJ7lWVGXai5NpZtfphDNgOpgcX7PZpA4Llq7QUkDT4FFTcm/bybHb6qlaPTyuQuCa8ErZ8EuEQJlWkMcVa5t8ixeJUZZlk8mEziXQlELA/aVoPUmtnG8FubxcDAW1Fv5kGi9EtpDLRIxOpsoyXWaSJLzArsY9dgQLL0QA5gR3LVC7s4JS8C+fRCVq3jpip+Ed+v1+obXsjrBRMzqDa81tuIaWqtZeabjHnpaAgSq+9bYQIS7Gz3XeUripWmhhqsy28agi5wLTTFxLwZwR8pXaa2bTsNYMTVNDNkRljsFcvsNOZRrhwOuGECgHX2n5MfscYqQTHoCuJcarvL4MzwF2FQFFiQ5iEX1Z6X85BXBwto44lZKoDoU+hBCI1Y6Pj+HeSSPmwDqCGcb4rdjrEVpgscicHOIjsizRQNPopFgsEB3OO0Tz5h6WDYrcut1uQ1SBhAT8YSkOlVp90CB+Gw6A0CgoKarVYMawnZyc+OGQ38P2Q1mMBAORbWilCjWrEEK8xJf81fNTKBuFIOfZDe3LqYWi9Wu8ZiqoC0HZh1Iyyml4XBbRDDp/c23XKU11HZXNywrhMuzYm6LyzbUThEpD0LBlp9OhN1epNcToSK/Xs3GxjfAVR/xJ1FO31Y+DpbelACFaDONjCDL8lHHsyieTSdylD+rj4jqKogAvACDHOWJQM4FmjdNBHpy/fCJuWuTSeV6qUiOFuaYYjMHuoqLoMLfHSbun0xDnq5XZIZ8tYikGIddh67qm8ptl2WKxYBUISpWIaCiIIJoPTSMalVJ8Ag45UFc4FFLB2pbaeUH+6nw0RFkg6bKDsSyizsbQgrvMtVrB5jaNuEFrdcGdjJXC3hbqheMP7UNItWvtZaPdGUTPiLdn2wMPlviKKWFeA3rKwlb9RlUtLrS84Byq14ADvYQCOGGy0/StZJp1xACQLVF/JF9xpshDoQzvKBYklmNN8locbhw9m8sg08QdYTHYL99Gqr2FbqM0m03GtHEaBEjgw1AAphcYbK2F0smikbdaQAPklQi10NSBs2ckzNDiENE54fdQANAf3C364OeDWSVBnE6nzWhRAEFzen2MLmiyLKj6OZ/P8R6JkItEXx7ScBLi6sJSSwmCyo4uafAtnM66nFVqkrvQIBhNiUR4RBQAN2jd5gSDiKmfP38+Go1IP/jXTD3pOioEh4geNBX9pg/31eT+VRQgNg9ZtFguRO3MtfYvQIxRCCXKvdoUpeIXQRmQfhdPWAhpmWaQwi+wbJFGN5tNwoxSAIemCEsI/d10A4oIOQL+gY0PVVWBwUw1DVwKKhx/cdQ7FULdv0fJPbBGdwzaceSDRDYoFM6FpC9FMOGgwiH7fD6nhBC0wN1jlmhpQ8sw7SEBvVH7J22IY3RbbqaBq2j/biqKiiDIehxdgI1LtMa8FkFiEAtyFcHRWiJgRXkSzeXZprimiRAzp+o+gDGUdVRhjwMNvm8mtJir0u9IAfi2IZoDzgWJw8yvtEqx0WiA9iHCCbI3mZpctqM+e0xFKri5wwZbJpJdVwmTqFfCM6LeEpfPsG1LEc0mGnlhjWGn06GKv16vPS6z1lJUaoJ5ROSGUlk+QoTuRKY5VEduhFVLbTumRYoOQBqO3/eaylpjfgYhE9CjePSP4kooAaGlH99ycXHBNyKWK6KhZLraDTHaB+1mDiIvW6/X7LoLAlChildaUkZClUWYTdTVcYEluxItBX1oVhbUdW14CNEjaEIbER6dm6eJWmm+/l5klTxYDmMleYsKEF/V9bZcHU3HgveggL3WWjiXdCptsLORziJ6zeQ66ibXLiOG/Sqte7ERwr6Ox+NUGAR/kE/CriaLIKt2r44BLPSIr0vaVqq1qBG5NysALnupnTSUMvg9J0qttixLvkUt9q5GNFCPNcVYUGOoBPFwGFlo/M1FTzTHNCRoewwrqjQ2nuf5YDBgo/1KHAWAOEi1ESZ+gw8MAtuBrquEj3DggYhjsI0gclhI3LXW+FEtIBOHjj4jJHBDUWOkV1Bd7wBYKoIGRXCtZbRb7ZWvlyuDOvflQs4wUQDRsLJ37959+PAhRjFo0pn/sqQajwzZW4hWyjW1Lsr1uGazuRJN2mw2qwUrajabHBUrUjxYxKAjzwUDQ9OANnPzOt/BxsbG7u4uQTPbLnq9Hj078C0EY3x9vjIaiEp4Xa5VaD6f86XIXnhEvV6PF0wmE6JtZJc0l6Ys/nBra4vasYsHMFUxLbTWlDMldsNsseh2SomwCdynibdu3Lixv7/P48WysOEPKSw12IQLoowBZoQnQzOrKZ5qAneCNLrmPB+XoVEMJydBU1CEZzxJ5P7p06foZ13XTAW4sx6EwIU/1NFRMyIPLl5vVczLdYJtroKWDtkxOQMGBVSKcQm7RWzHV8JGWtp4GXlwLqAbZinVUqBKrVAazIhdVVV0mpFsihsuaJTRAK7TjELgAqDqeOG2tkFi2vkr8sjd3V0W0pTREG0hhkD0kwWplbAxxtXh6OwkKVq7Mpio1hk02os8URmrBUOYTqdxYJ0Jl4+Zd6ZYCz9TCWrq+RIwFCyeiovXscL4WBkEq8QsTfRoMBxPryE6sKC6yErD7ygnHonHSDY8mUzYHRgX4iqth+M3G9qXkURQkaAQ39xqfFljTJLXAEG8nAIEhf4Ogp3cJBFVAeZ5qf3vLusmGphyAY6KBOJVReTJ2AaAbqn2zGURaUIhSLD7MnR2QBNxw7VAs5n4Nzl47NlyuWStAz4kz3OGEBaLBd6Aij7lKSKiEOUDicajeGfq7jyHQqgKN19DtBMyzkqDGg5c5KZo/kqrHYvrc6Sp9jA4SHBWFhdD4qqrO1aj0ajf71fXKVDraBevH9pac578LenvSiOsVGMrUW6lIgMuNK9XliXjL5nAF6gEjDJLbSqI68gNUd4Ph0Pj6hAG3idoGsGq64LKa8Y/v60CWKqoQqRq4joQStRzJVWaTqeQqCE0xuW7FEjGAyaR9u1aA+boDDk0dR434RORZGAzLI7AuXJNF/hmXKutBd8lTvMHGX/qwh/DOk1Br9tavco7G1rHHXpuhhvINM3El6XZHJcsKzWtnK7wDCmbLjUliGgutCvJ9Sh/Xyc2IWrGJepDcc827bSob9++TUiGjhUaJKgi/Jzvh1NOhLrllAlXyojXg2ut6bxCk3S16oSOiEgeguhYePi08/2NCAFIP2r1jgr18nz0sTFy8v3WFcCq5ieFdtYqzdbqTAGmPTk5OTo6AhIIwxSGnEOiMwp7h7n1nBpmmssmBEqShP6I/UMqVEIQnT/PN1E3mpc1BBLOhFFxwRGvjRlGn5fi+Gasm3oIu2GC1sd71CNJEm6vEnOJaXOCGKCc/6QaAlxFxAqIjsFntsRx57WKiA3jtLsSL1qiDlcp1AA63BRjsStXBwcHN27cSDVrQZTl9wzqY5LIgVvh6blZlmUZVMFcPkoXvsto55JNUqUWm+slpaiUsywj8zYc3QGwv2apyYpwHeTDKbsF8TrS/xIKwA+VdtfZAVXR5B4+HablINwYB7/Wyl6yN8KV+PxqlcA9e1FrXzxv3tScR+wHcjHp8sTRQN7B+SKKVFWVNw/whwROjqNSAR757/7+/v7+Plaz0Dr7+FGkUfGe3xTCdUKZkUfczlW09wE/44o42SR6SOfEauAgxDWuENHlNkUrZlG2i0jVow0hbG5uHhwcbG1tWdwdq9iLZmogEsuR0lAatlugBr3WvJEjYcdgDq4cD4doq2l9vbZDzEn0O51OoY0gKODOeX1DVEuVUOVxOah+ve1gXC+3IimoG2Dzg+92X4xStOFWhAqkm7XK55lA50vNDdsiZqLryAR9cU2QR+maaaYFeBTOMAmkUCRMlbYwYbEKwdSciFN9M6c5niHLsm63e3BwwP427pMGTaWO70orVVKtZ3UOmmoGLdUOAbwf5dGgfn4mDBXxCTgwDDDNLLBiBEJ+tqUGG5KoB+IIwZefFQHk7u7uzs5OEnH4oWnL5dLrwOqor0wYw5tYHJtag1CoTWvDTKbB2TW0ttBC4tQIr15qtIXCVxoVx3nO3sBXRTMPa00U2NdVQvgl76wM6kjUzxFRjq1U/FCutJ8HpFclmo1aXWHAtAstiQkhgIiOyz6YUpKBhnb0Bnn/IKNLfmm9SgRk4OO4B2DSDeETQwjU48g+EVM04caNG7du3YIwx6Gdo75Ka96utF4bb44ahBA2tE6Cv2oIuox4URQHGxyE1aN/TB4PyC9Vj3wtogdSgjTqvldRB9RGsYrYpKmr7u7u4sdcG20I5p2pMW+Lm+c5VX/CEo/DZ2q+1mIjzARnouZBqNbQ/rw4+OTr8ECKCLvvyU8khFIhN+laaogy+1rdsbhxlL32jozfVgFKcXQ6CQuR90+ShGiem/aALxZ3rZWm3DptsvPz88Vi0W63OVr3IAkZiVMp4fNkm2KQDeqM+Js7cKR4h5vGvJVl6TkybDCiQJk5z3OcfipoRpIk+/v7EIBmmn6mTATSoRQRC9OYTS13IvR3SYDa/1rzuNySXUej0ej3+/w599nQuDO2lsiYOj2gmul0mmpEMGjEzCbWkY+Th0IjWjs7O2T/g8EgrkottN/OrpW3jQd815rfCGKfTiLAnHUAE1NoxdN8PgfBhY4FLQVFQkqBiBwSj0YjXAQ+k2flbCcXwVFQ+xXrxmOJg8O3qwAhwoGmoq8oI2oKbFUzYmB2I8nAniTqaHI8mIG2tvc4UkTyEIJMjIV0Z9Jo0tTxD9Unv0mQzyH+xpmcnp6yqTIX3SxH6848gzXYS39BDnI2m8HnAU+R64yWQpdinGovRCBuTTCweTqdotK8Q1mWp6enz54947YBTTi558jn87nv2TFGqSaxjaUfHd9rb29vMBg4A2FbM0N5bDLlixCR25DXUUOdLoTjrjzPKdCtNW5aC+cTFKKkYlxMkoRkg3E/O3xuHmQH45SskQQ/H6KCeyrGtCoqvAa1YtJ3vCTPahAn9Uk0TQJwBUGpVXnkWolhGN3ALdgbWmiSaEc5irQUw1SiPDgRioHOOfluuN7TqcVc22w2gXOdn59DlNvUXEsqCPfGxgbm3Mko1sUVfdr1IYTlcjkej9EBTmgVjQW6HpLqqgXqQm5Wmq9NVLJ0WEi3CHdEb456Wib0FE8jqEJSaTKz0lhSqkqO0+I0TQeDgaMRQilCyvV6jTejSxA07LG5uUl6QHrK4woyvSgD7HSEanW06dk5MY+lJfY+nxT+2d67EgMx/8sGKoBASBpfaiV24SDf5YTbXaZ3qgCFoE4hqs5WKifXKkQ60DQYjqfgTngQn0xTu6Cb2sOMSWa3Ie6CJQPriGUE9221QXR4kyJaPJqqm+jwEeGgUoTNa4gBimAUTXZF5SraH1OrVx/UkMKmmtCzFP+F6W54/3a7jd9w6R2kYF3XR0dH8QNcrVYgLMiU7Nbwcq6uYlxIkZsalk8imHqj0djb29vd3XVzsFKtHZj606dP67rGH/L0NrSRZLFYEI6CJbGZa2jdKmqACtnFOc2tow4d5obSNl/KgtTr9dI0PT097fV6u7u7DDnZ3ofraWemmUH7t9jevc710iFQHXGEJFFZGjEi6N/Z2XEixakjItl1OFqj0aATjDQbW0EEjCcBMgVtxGKxsBMIanmmGiWrIkxeS2vqCg1JUWTwQ0y1lAlbjutPhatJI+wqJX/qIZwiSQshDXUb+zeXa1APVDSIO63SXAvqh8S4lQZGFWi3Iz3uKtPWdd8/kTHtdlPkOg0IIfT7/Zs3b4IYdbeVyBvrfnx8jLsmkuH+C6HBHaaWETu8f0lM7zJgqQa2eVpzYVKI14k5UXhOGYsTQqCEuLW1Re3LKmRJs267NBLEDu2n9I5ygKAidIj2o9i4ohKlOAyx5Q0N3XlTBvdNdGtkcpqmZrxKNX9N+G7ebfwJlinX/FRcgKuqijlAPzWwXMvlcjqdEnY7yHFCb+/ssGQhZn2njJ7of/78+ZMnTyiTVyqz1sJdF0VBu7TSZDPXSltZG+Jl4Gm4o4IeVsLJBoVwQUuUM3GuYB2IpMP1rMyuOFEBNC410t/AJFFgMHLJ9UdCFD6IaQTzRxCyL5dL8nLKCYnquU2xZtRq5jjLCiFQ5qoFmwWVPZ/PY9ZX/vbq6mo+n1us7UNcWfb3zaI1Ra95vbQCJBFBqRPiOE3h6XM1NabonMH5DQpA9bCltbuFxqszDVY3tW4aK77SZIxlotIy9PV6Hfe5gpbkrVYr4PXtdhsS1kTrTBwjUXupNTxlyGfQcDe2+fT0FI4GCkEcgEktuX9ABI6snLTQPLKV5UvRbJrNZs+fP5/NZvxtJtJ9ogvUkmgkF89CJeQmN+NIfS3mH5OIWY1rMfaQBPf7/YV45tKoyIgeUnzDpWPOCUQ9aRk/+VxrnWyPHZ9kWdbr9dAuTE+n08GKIesEh8SEXIlGz6toXzz/m0SYNAda7zoHiNsxQYMshZhlm5rBpSdVq/xcRb36NILxuP9ViYCgoUkOt1QyjaSEEIyhta3FdrqKH+tqpWYhSaTbz7gCIgekDRHhJDCcGEWiXlzQ2dnZ0dERc4nu4hEa2edgv9FbKoOVyOfWEVW6LQVSgiGYzWaVMJVB0DdcE7X2St0fjLdnJChoolpLbaXG3i+03iuJ9oasNJJPj4KBbArT7tCRt+QCXZOaA+f2GmbeijTJgzi4Qdu+PM/pJzJ8lwk4Q4gLKzpe1yQuqTrTnH6pceRS4BFHtrUKsu9OAVJVmhsRoUAQLDsRCCTLMiAMfn0pdHRDu2zd0nI5pVJFqBDd0Eo7iIjOMzFVIUPOO0txN7gXk0RQ4aAp5KZmYghAXaJN1HhyMpNFJJur1YrZbeigPeqKL2prMTURbVCfwYVdi3ulFQdoI8l0KRrahlA3pUA1pKeY3qbY0pfaAu/4eCkq7EK41Fw4FNwmNYZKw1lBeWRd18AQW1rnaItLYg0vpSd9DXJOxdeZa793mqYm8LIM8KE8Z0JTpJ9KIE+MZQUcLu7F/Y1auA+HzbG4uz62fo0NwS+tAEnEL5Bpd43NfCaCJHdV+SvnLo7UMV18ZxtaUMqZBo6c5SBMRL2l9oUkUeOTHooDbisP0sYDwpjVYkawN+BPWO/soNMj7ZeXl/P53MA+QiNnPkgwp7USuxFvbtOObJVCxW1oZXQIIROUIzYEPCtw2vHXrNWvrcRKlOlKVIY2StkPKlGFxPFDM+JzJrOHrOVKu4xcscCEB+kDWsr0khPcVA2ZRMgUjIiTOlxBIWAsXtGhAdEXkTDVrXjEp1aBtY5aT3W0OcXp/mteL+cBHL474ENoCJRfyMna7fZ4PK60RatWe6UQ1OdKO6J5AYKISFmgyQ0QSrfT3UMoRdOwjqatU/VK1prNw9JwD8SgG9H6I4fs64gJi4zi6dOnz58/Pzo6MgGoA1y6xSQwQSBQps55H3yLu2Z8F5KNQgyYcU3TMD7kbKWFALU27KZae7qOVtY1ou3tdjWu1djkO7BBWImplsslA3ErMXlBxGLDnGVZp9PhmSDNWZbxhwDXXC9GPPzd8c/9fj/Pc/qPmB4mQHw6tGi2trbIB5YRk7vlzQWocB3yZLfw7hQgFno7pkpNEM4ASsrlctnr9ba3t4+PjzGBGPhERB3kZxSL3Fip1X8lMsHJEknz3EEgUxVdi8w5yzJ6Rsbkcbe1INCE+6nQAfFr/BwRGjbacw8UjihWuC6Ew/GYb0tc6kh2p9MxeMaqvtKwYhqhI511EFpgXCksUpkhrnBuTXxIdFcKdGk/41JYEOiA/qCToiJazwph3vb2NiEc3xehrDT1S0vEBSUnIUF7hUMI5rxARR3BOjQlXQZ0yN82m83hcDgYDGxQUjV6OT7cbBKlvEhCeX2nqM/3W6gCJdHCrBCBcPgaDPWdnZ2hADjBtZa6BY1NlprpzPN8rdkXot5UyDbSsuT67BVmnt4wxVbjBQqBJWNrgW3GMDs4ToT6TDR67wER8jAi2vF4fHZ2ZhZvvj7nxKnkEbsgBXW8it0991xFtDaFeLNd5eCWCLiRxfV6TZWmpQ3bqfDAlviGyJyDSk+pUHfOF7HrVgDn6MgifKZ0hVmyDVFFprZaQyjRVNVbN78pcmRiKU1E8ZuIUIwjpqFBdTsRPwp9TxKGplZzYzeZLOVlfuC8xsY+DntcJnrN6xUXZXO5thPULXdlgBdzVE7bM6GOa3EQrMTnsdRKiPh9nODavyfXV8amgh8TLwUxnvMmvCGiaSHw4aViIkHiLy8vz87OYAehwO9AvBEtgczEtYb5rOuaLU+c098/0zxHt0PkNlN1xFoi9DTsLNWYJVI+GAzoPTfED0mvwFHTWgzjlTqSvj2c0nq9tjdzLETiHt9PKsx2qU2vlbbDJyLes1vGoPBfuiLkPEWERALJY9/FCd66dStICR2sbog/GAUmA0Y5QzR35VNuijUwXM9t3mkI5Pgs0+xfiOqh3GuiRLkWS148zmyXvdZMN+puWXchwrbT1gV0EKfC+6QRiwQhpjPsoIpQkLN2ihbUw3b2FkKYzWauctKQT0R9HmSDMVrMBqA2RGLD4ZAlQpyf6znOl+oIScZVCnkfIh6Hpvi8gKm5ysS3xi00RAdSCY3LTdKIzcQwh1/FoGbCtLpAl2lOOkmSbrdba+e7HbUVADUmAUN1nWaEiBYlRJzv3GSmcY5M8xLYI9SeImGloUeCW3bGpEIoluJlCcLRWNydH38LHsBuMRGEOFGqXkd7r2D/g2xwNpslYvMqNBOMAlxpfWdZlkwCWEPsYYl2UkHPAZC4pBiirU0WbktSEBLLkXolZqFaK+OLopjNZsfHx+PxmBq/LTEKU2lgH9efa/MzLsvrDVfajsHNOMrib2s1vyuxq/vpcaK8FZWZEALQa7SayhJ/iO2ohAhYX9+4GsfKhfiAmyIMjsOwXMuOnGBglXmMRHc+NUdBlcigqqqijLaMlpnngutaVIIi0iRJYHwISmkAiZkAk2blUuzFdTR6VWhDZiropNXgXSfBddRaSqI9MYVGJWAcod1448aN7e1tvp7NXiVqS84JVJZLZpm6MHxKriF3vmceYe49NllFlwNQoudUjbZEWGVeRpmCxOvs7Gw8Hk8mk5OTE+IZU8T5CJ0XZsLAgSkCl3Hjxo04N/WnVFVlrF4dDY66Nh+HYUgVFcnNzc3T09NWqwVIBLPtnhTgjlzMQnC3uCjJw88FOAM/AknRWgQtLtHwMh8BdTwXKvzYEwG3COvt0DAHVYQy5BwrkYcnGiRiwrjT6dDPIZ2AyolaAgcKwMRhgkMMNxDqCGPn23tN6X85BfBt+eRcW7RLWusqy9LZEtaUSB3ziXNMtHmKilgIgZiy1CJu5wNlRKOZiizaZIkvPLJakJ5c6FlU1L0ISk+LxWI6nT579mypxbpOOl12DGJ95B7cyFtfHwAPmiwrtVa6jirWVvsk2uIYVBfKxRGdpmm3283znFa0w3Tu/AVYMpHGWtS8mfYNJ+oqJklyeXk5nU5Ho5HvkyNj4CGPurxu2hCx+Oc8Itog28GiGQHB215cXDREHefonxc4ja5EredsDZuCllJti7OUVNX2QtjeOqKmdXqQRHWht64Afi4+DB+//R0tcW6O2jYqzpM13nO9XrtJxNeG4TlVh7iKKFdxyhgMHij1U1q5ifDuDrsL8XbUSrXjoLzRaADJPD4+fvr06dHRUQgBOIC/VKJBmbVYnxz1ERZTpfGa4Uqt8aXWRfImuVZ8VlFFpY6gLLFvrKoKkEy/36dd6qfK+3OTBslxV/iuMlpdVYnvcT6fn56e7u/vb4hlnjdJBVm1U3JRgcIaViPXeFodFf3aYmZ39rzWlicLrkWTC0FHKhoiLkAPG43G+fk5fphY16Yhj8iU4hA3/ojXkXtfL60Alcht4puwE1gul7PZ7PT0lCW7G1rqmCSJpZ8GimWdGGMtrHwluslS7UxDdg1dxre0Wi2AOnGQU2iJuY/EITKWG8N/enp6cnIyn89TzbLw1WzYHNcVEe29fXRd16xJdWaWC21Wa4zYTyy+N58f91mrhIBWM6HvUL6OAGqWUR4XO677/T6wvDhNWoiBdLFYQCaJjtFgIbUgmlqLjsAdAwKhEC2DQ82WIrRqikLdX2Ep5tZUyL9Mu5ZdLEk0HlkLyJCm6XA4vH37dgiB4ltc9Y6l3H6Ah/lC8PP6avAqZVBnVPX1ZgSCfnl5eXR0xOYvwnEcIjlWVVWIb6rlasQ2VcS5kEdoFhQA6Q+qe4CTCSHw4OhW8mTdQnKQ7YusdzKZHB8fHx8fn5ycAAEIIRRq17u55liujvA87ldkWcamCWYDMrESZQLuN4TdD5qhc2cg1/SgdclfKkRZI6KGvc/znMQxKHNtaX1dt9tlDU+IBkfsB+i147Wok6aqqARV2ApNOPlmHHNnakUnmkxI1DzhB8rHcb01aFTIwWqhQXh+Q9sny7LhcHjz5k2yGo/LcUzxu8VBjgPa1498fL36nuDsOmNRLuorTPjFxYWngahFEAthyyshrtCBXNxPkHFTWQ9RThmU9dseBzU4HWDYaYYQSiEaONemBuox/5PJxLRWQQKaCHTtYn8RjRbYBqMJsPA65HVclIhH3xCGUnjmuq6N9bAauEbkJGpD2/4qsRfiVTKBRIJmu9AE1q44GeBZuSIE0/r+/j6JFvlofZ3do44A6rgCcm4H67TYCd8rFUAZTzM+qhInqd34WmOxNiL0y3nNYDBgwgm7Y//PswrXDUQRkUEl0SKFN6IGr6IAcYTn8IPnZaGZTCaVds0WRUE5giAEs4To43NdZSOlDmJwsNnII9hMQ6RLJg/1gEiQ8cMvxw6HkIBky13SVrQKDsy6pSSNGhdB5HCJir8NLXRqREzrlYqJFikngpnWAMeur47Kl1QtHSVj8inAk7HQbHZ5oNbowsbGRr/fX4ni3MKdiiCeKCjTzq84+ieGjAULMQXRxFdLNZhGBBsP9zCnX2m9Hyfrlk6iKQiPCpG+k+zt7u42Go3T09NEDYcQQX0s1un1qmgm7LrT91cXfAvMq/1ZFRUonV/yzYnLqXPBLoiMYnSrCESdpinb0YzXpbWUqFlGruyanUOmVLOLSCEF0LUG/7gHn2uiJiuHhGBBsW/6Fpso3ocSVlDhiK/MoRpMn2mZTzyrhai5i1dFAwmUd/gi/nN/dBDE19F2KfZpnkNQ9sWbE7zxFdhIu9SqlUTdKOSDZovtfSluKfINj3cGFRtwpPT77EUrEbNxA5RuoHEvBJEikim1ySsViQOVVida4CAIIElIck35xNnRWovpU4FDbfuqN9EA9vUqVaBEbGQ2SIgOh3d1dTWdTre3t0H/HR0dNZtNYhuOHFBhpXEqngXOAVZNx6/uGaVpSj/Ij8l5bS2WWbpsGGB7JJQn14KmTLDnuq5dQXLkQBpKR8a9glp5J4J1dXU1GAw4M0QH8YJJ1zAQTOxKZLfEFQ4J6PottVQiCBhnEBu/T9XWSCJ0N1/Egy95tCjWZQPENCiZAb/EF6dfnqoeNZ1O42pbI1oskIrzgrvCLmA+ptOp+3F2oTiroEH4XH0x4FVbW1t8L3IGgrebN2+uVqsHDx7Y3tlx1VHTN9HG6Pj43oj0h5eiRgyqTzku5yrLkuJxEoE0uG9WAGFsHMzxxXDfRM8QQIBZSKIhboAAlXjzzHvMuSI0VDMcx7uRWalb7LtFphci6OOj7WRTlTiDdDvT+mV/NWcsfF+3QhNxcvndQChkWoqcRVTJecR0TVyEE/Ospp8zX5NMaTKZJEnSELOdC6yOGJ3pcnuoIjdwfn5u9F6hQepU63zsrKxsoEHRIncVS+Fhl9pcz++JcBI1Cni8aAvdYndRQghL8dHDFATe1oXUEEU7uci9a81IuTDll70RNXhpVogQJb6utyTqQ9nDlmVJNDkcDnd3dx1eY6uSaNahFh838YwbNIS8QUisDXG1+vAS4XI9wlurOk58XOgyUrpWK5RqtA/GlQd/NWeTqQpKpbbdMFvcaDSutIt7rX0FmQaaAfDEKeY62lzkh1mJe8JRuH8otDKn1t6dlYjlglpshVascjnSy9UBJNCazWbQwtmoW9OsdWvxmsXZtnMzR/bYb1sWF5dLdQk3NjbIDfCWOKhSPVAMEPlMVVWnp6fPnz+nHFdGhCjOv31APpFEdY43df22CmCx8PkFjZJk0XBaJWyJE7WdnR3At0HUKakKxn7uxjU4UMbl1RHOwgpALJGoB9dsNqfTKe/AmzebTUg2Hd+XWk5hP+Zky5pTRyRW1oQ0wjIgGaZNLyKMd4is/oY2gVoVOTPSiUr1R1sKHm8SFWRqsfiT8PDpBur8/bGpxW7PQ+xHkkr1qRAAczabrVYrbqzW+F6hfSXUWzEoG9rVRUBijeIezs/PYe8hG6aflWnZK6lXKRIhcvdut8tZBMEEMW27u7u7u7tnZ2drDUtwe2iacXiJwCwvHFn1JmBwf/8kX+rVlhLnIqlAGljZENE+M+MCzoc/b2tLj4301dXV1tYWtbAymhOotEKv1GiVhZuwh4A1ETI5qFDDvTGaVEQcExwz7Vt77TLCXARhDzP1a6zqznE7nc7e3t5oNOLma7HfERF5ZmqlrdENAVf9EXyLpXYopdFojp8wwofvMpKP2cK1SFOSiHgCKkUMh5nZy4i0byVCjaDCawihFIlqqgl9ypSJ1qvVdY13rUSCNB6PWWxqnJLxKXVdn56enp6eZlkGONylkWazSdCPvvEY2ZhkP4MuuZjrxxKub/pIIlq4N3W9SieYUNglnRDRaDa0h8sWiICS6DOuk/KsOYBCWGLe2aFUGrUDa/H0VxGiE7tO6EklJNX2Gj++2Kd3u929vb2iKFhikGksJki3bfITVdyDIoHNzc3RaHRwcDAYDBAjIm/Uj0Ny8tqI1nPwT1mEzvBHpFpjkYmyDlNC8FBo3DnVPHEdsclbvalmuodtbxYk7rl4rf1sMc+OJ12MTjWJUUeT3zxwZlaoGoUQKBOVGvimYstTytSMc43Y4puKUB4ULcRQFEhAUmI1al0hWjBVauvHG8yAw0styUs01REiuxirQSpgTOziOZhMYytrEQ/yxGsRWb7g6SqtS8ERu4hhEcFA0g9i6JHaP3PDMdtuJmayJEmgC19HtDxGU3LeltdEYOBcJFPb29uYf4obhGSJ2HBrocFLsXf4yoSvdnyfq6PEs3LEmGrwwHdo0gePp6wjrD9PEjtNyGdxV13x79tPGIumVmuaHtSexHERZ2HrwAFh+51/B1G/rDU8hLc3IzdPz/4wi5ZV4roHg0Gv1+O7PHv2zBuz45jTspeoFROivSRv6nppVohEZb5aHdkqYu6thGhIkgRKhd3d3e3t7V6vx4C8Q0874slkYm4Ml494BwQ6z/Ner2duMy5rkblHfQNOBA1RtHlOkqTZbO7s7GRZBi1rnufU6YJwfmgLEkA4wQKLnZ2d4XAImpX3d87t4D4Vf1GhaZv6elMsKNCqxOBAtGP/sxbO1BrC7ym2okW20InyZpd6g3KShignMrWl0YfYtHO3lvVE4ym0X0IIWH08kkd7U+2MqdX+w5/U1wdimHBotVpMxANS4lsDeoULsSxLYHCWhypqzIWoopiq0fQGE4DwsgpgHSgESSCkSTVjsdaSs2azeXZ29vDhw9FodPPmzd3d3W+++YY+FxkSgEd863A4bIrAzIjoqqoA9LrsY4tSqdMexMfIkeTaDsb7VGotlyJbL4V9h9PBLB1G4W5oZ0xTy13sYZidzUW/nFxfkmU37TpsUHHJ0uaohtY1H72OCLNcYrZGhRDwLe5tObzBoq9FU04MHVSGT6P+UaqWhStLqegznGs5kTNbCSYMQqsQQiFWDs4F6H+tnh03accO2HN7eztJElbBVlVFz4GwJ9V+b5fXcsFh6ogtPKj/6EiveBN7weLrJfoApaiP/RunerVGjXgEZVkeHR0RliBbjUaDjn0Q6LyKoJeIKa9simKWiNMGLBecgWdUqs9vRpZUfKtEC6wGq1VDtGjSbnN4w4vn83lTW+7sjih3UlPiABxh1+LwqCMQRKKcL9PwFAcPPwKig8KUWq5IcbOKRnudlFusQRNw6uYY5kLOMNJETeACbR2cyZRlCf1EiHAEvMz7mPEGa1F/WjoroRKhOEAGzs/PG1qQjmmv65pYsdFoLEWEGEIoigKSarC3o9FoPp//9V//9Q9/+MNut3t4eEgrwL4uRHsGEKpCCF9MZ3gTm5FeWgG4bH6cAMT1Kf9cluV0OsU+LbTukyJJjCQ1vgpEu/OzXOu1Kf+53MZbldGC3lrMfo5lE5VHQzRRmmrQm1CkoZ3eqUDI7qQm6tMVRcEmYyeIhfb2OBcqNdrLiw19C2ogENAX0Tz4Wvi2lRYBxnOAdiYcOVa/VgeNv6U9kmm+Aq8VU2evtGMvyGkDRlyKndy+q1QPpFbBKlVNzxUnR+QOnEoNWHK3JvTk0WHaSlFh15rfCOo053k+mUzm8/mHH37I8jIOuhRJXiW8Z65mn01JiGbQ39T1226JtGSE62A4XpBcH4aoqopdqGT3nU5ne3ub3NFP31ENURDCR36WqEXQ1CA8NtvWkToPb+JoOxHqMygEDxGbneM0HzOnRd5G0mx7Qx2T9XWIdSNiIgnakBUnaoXWd/Pt0BlnsalasEnE/OrKWCZUKZ3XSpPmyFkhZBHeLxeswz0HHo4LMuQDZjGB/q0pQjGnwh70CdKBNNr0s9KgsM8UVcRH4TQaovywAwwhNDSys16vKe/MZjNwkPQNKWeZCDBNU0NCiqIwZj6oHl1qNXUlatRvJwTicrEiyLJWmurIRBLKVZbl5eUlZeksy3Z2dra3t0F9NLXIthZLHL6i1qC6MzagEJxZHu0+Qa8SjeCgIXhwRxcmWeEwnHljbBztxAWWSj1sjoRQlbNZC4PpnMeOxTMiZDghBOblibvsMPlz7sE5Q13XnjYutNULR4e1JmFgVKDS2lln/LX68RsbG4PBYC0qT9dD6bnu7e3xpdai0KrV2nOkxNfhHZxTuccXxCpHUY73D7Iv9Cg8TMMt8XHn5+cA4xNxorVarVu3bi0WC1yZ0+4yKkY7jrCz5WRd3X6D18utSfWVRFzYdYQgqCPADwJ6cXFBQeDWrVtff/01JBGpsAyYAZcja/X5YNVzXyxo0pfggboB9m82mxED2IesI4b0Iro8yVlFKJpEyIJEVfkQAvaypS0b8V85pElFSVRrqr2hyVc+zk8mDhHTaDEoMTEJRh0NnWTRaimUgTSgodXT+W8QJBL9029KxCXBE3MDwX7Sqmi3lgjKutQam9jWJlEVi0/vdDpYdCfTxGY+x6BFO6RSqbZW8iZ7e3vtdnt/f7+ua3hojKIrxE9sFU2i+ek3GPr7egkoRBLxamSCD8QvCBEPa6kO7mQyaTQa9+7de++99z7//POTkxN/meQ6gU8pBCWl94awrySstXbZQjlGZJmIfNNC9kItuRaLFjdZXJ8rDdGkSyOiG3JMUqvz7UC8EsMCfsx1nqa4JPy5mGquoCN0Q4o7R/L8Mj89snkbVIIWXEqiplJ5nQ3SMJ5MUwcODu21EjVYQghGIvLR7p27lpVoxi2PCMXINLIsY/g7F/wkEYQOLG0QdjpNUyJJnvzW1lav1xuNRtvb26PRiGng8Xhsm+V2PtKVRSist3S9Sie4iqD2dgUOKEMIiXDzRVFMp9N+vw9T4sHBwePHj11abmjBqMMqp1mJQA2JkGQg+A1DB8WV66KwaLEmTHJOCfQKmcAPOJoi2glCw9dRibOIZkcS1UwqgfILgZabEes6xRlHWe5Ah2iFo1PYppgyeEGqjrg/3eKFH2i32w7kbBS4KjXUErXzbD58KKlGHVxBCvKr/DldF387V299EK7IldHEBd89risUgnYGxX70s4ui6PV6bKEFnHd1dQX/ZKUxbqccISph5YLcvXHzH15nJNLxmW/akQ9PgTYKZfWNjY1ut3vr1q2/+7u/owiAIaRUjKykAghV2nTiw16tVgQMDrUZyWs2m/1+n25LLuoyx5QGbFEcdKmu1NR5FfXVXV/jfwvtX8m1eiMWOATU9UTEyNVJvJCNaK2JRz86EJHsaAnyQrG/8gA0T3g6nTpz4LE0NH0alCy6RBYitlYnKpX6AFTkWtoZnom9j2IOLM32ciGafa01M5QkCSSqSQSF5B7QK/yzE33w2Ht7ezSAGRTh02ezGWtBElUmHOYFdXjW63W/3yf5+TYVwJ+N6MfxWYjIirFnuLOLi4uTk5NGowHxYL/fPzg4ODg4mM1mMDpBnlorFS61oI7wkZ4r50fRAPNP1z0TNX4pMh+LdZZlBgtQA2Gc3Plo0LIzbtJmrBQFQ1AdMygkc3iDiI/HYwZ3qPZQCa0E/eDreJCFJ4Zko6KFpiOCGBZ4jbGQiALSkKYp6Ti1YEqrlWYJHIW7kBIiPrxSpPtBlSu3HXxxAySsjl5cl6yjRooFtFZ+XIjEgKyj1K604vqQfgjh8vJyf39/e3s7TdOrq6udnZ31eg1zug1KLojrKloIS5y2fqMI0Ph69ZHISmA1Byo2OUEbhyiBzefz4+Pjg4ODXq93cHBwfHx8dnaGTF9eXjY05IHZtvVyMI19oqw2Ho/p4NZCwhG55pqsRZLW4ljGxBKjx9Lp1KpSK9TBsQMwDoaSn0tMmRbuukWNRFJ+QT1c2SxEnuU8JInKJnE13a06ly8t7pnGVoiaptMpxp4uAYlsrq2BzoJc2EXCMo2ScnCM58elJGA5saOwdUtFaVErj280GmB4iTPJgIEkUp6mueFWeioaNfAsHAHO3HN/RbS63D4HG2eNehvXq9Ci2O9XEd9T7LkE2FnzRFzq6vf7tJY6nQ7W2sOHDqMToT4qAWhtogqNBTUiAGYjmt1ea+SX8ivxOtFRt9t1gM5jXWsEhKyA6NwpXYgqP07R7JSJy+u6pjmaio2LmC1EuTWKh1iHSMnjYqINOTXfLMvo7rne4Dtfa8CtilhZ7U98J7kY3dZCQYcQVqJvyAWacuu9KAoshR/sWhC9EHED+z3dmvB5tbRlNX6AQZ45SZKNjQ3YEVGDxWLx/Pnz6XQaQ4zWwlBmUZvFMefryfk/er2iB6hVNefKNL0WZPAS0ZBgGpEbxiNCCPTME9Xy4vQxUVOJQkojogyykMU00Q1dhbZRXF5espTKtLWuXTSi4ZWVxogbmrirI/xtHcFUCyFJkwiKQ72c8qsn/daapuUpucNgC11pSsYhliWGcjDxD52jSki1IKEk/0EgUm2bcz5DamF9IBSk2JCqy45jsfN0tkYk4wM1O3wtSgsUnkMxjIdH6hPhs0jkHNbjNtvt9mAwYDfP5ubm5eXl119//fTp03gvqsOzuM9gO/vaov4PX6+oAEFoiKbWuCYRSTomyq0c3Ot0OmVMHvPmoKWpxVVJ1Gy2B/AsJbUjGkwU/hNVZlKxuzl4RfFQKhc0ms0mfsD+fb1ex1VIDi8T7J5Iwzab1M0iEkIgAHAN1+ftgkausX3oPm01XfyJa6yJyo5VxCiRaqF3qioZAUwIgXCi1JhYVVXcTyLmyVSAM3h8m2JhMhgkUwuyEJmPi8hL7d4MasAValnGFjoX7YBnnty6STUUwXNgHTxwWgoYFxcXcMKFiKQoKJ92xM+NvbKU/l+vV1eAWhXDoEwxKMXkyjTuPZ1Ox+Px0dERwc/Ozs7JyclkMnH31yrkPNUJMcfP+pCiKNjwhUVxoYaPqyLWEIxlqVFj7ByIlBCtD6sEmEnVW3U2TH7ioJxYwukNYmT76nJnEvVH0ToX3eNM1AzPhQbT4pHOTOT6a6FxCrFpxHODuSgcE9FAkK5Y21PByM7Pz91ZyzQixxtubm4aDb6KtiMD182vI3ydWjQaDWuIo3x0z9ww/DnfiGIdY5AEQjxbShpBTRJ7wiqioHQw+cqC+k9fr64AQTpQRWx1dQSLCOJRnM1m4/F4c3Oz2+12Op07d+6cn58vFotnz5659+6Ts9mez+dwngF8IOD2ZHCmUjeHSiSA1BpZVAoBGiSaBLtOPLjJShwHQcU+5J4Ura5royN9h1QSy7KczWZpmsJ95LAwFaTMCHhiDFNurTU/HbRYzi2tTNRxfCOX7Uu1V/l2jnzQBMy8C4VImAd2mxGxdkPbPZKoiu1UmCtN016vl2m2E1+aC6HIbIB1OFXxuo6a2eiqK12MEw2Hw+3tbRiFT09Pnz17dnJyUogcKVwnq3M3pnybXbDwagqQRM2dpTbXFhFIphFtweB0Z7NZs9kcjUb7+/u/+7u/S5Z2dnaGdW9pI7zFmoqn4QwYG0YQUw3yGShaazUB3obGCo2eKoLyIii8rBTyNkRqHBSTlKL3otRD4FRo7BM7R/mF7gQ6GVQnJTxwYpDn+Xg8domGczXa2R/nOyGcoE1Gy4+SCzdJQ7COICfkORTmCd87nQ5pD/O4TDJgkhlZTNWMd7mGv21qQJ5WNLMB3APd6LIsz8/PKZj2+/21JuD4OIYESOUbjQYMfCEEpklpCW9tba3X68PDw4cPH56cnATF0kGFf6e8Dv3rCGvzxq/X8gBBIVouJoVELWEkL1PPH9vMFpadnZ3RaMS5ApgLSvJSoWKc3hHaUq5hfWcubJwr5QCEiHcX2p3hgCoV7LQheCbpBJW7WuAO33+cxiy0/SCPFny4LpEkCdhVQKNOW3Nh8jDJRVHQG2pEK7ccxhSigyYjdziE9MdYqVTITe7TYcla6B3XghDEVLAiai8Av7OobxWk8A67a+FNTIzHI+XG7GbLqN0WezzeYXt7u91us1kefdjZ2Xn//fd3dnZ4OKwSpZfiMlERUWfXUSfYj/o1BfUfu16RG/SF3zgfqjQiHWdyds2Qkt+4cePu3bswSPM0CWzQBOPjSRxxuDQRB4NBEGkMywEqgc7X6zUPNCgPIxH0wTOQUNf15eXlyclJnuf7+/v9fh+VoB8XQsCfJNq/G+R/XsiPMYFYrMlkAgwGqSUn5ibTNMUdlVrwEULINNhQC1iBAtOxIpzgq6F+V1dXKABy74JJGi1+JaY6Pz+fzWaQMngngEsOnU4H/tOgnAT5M6UhDyeJYP3ArghTMQ3ErlU0puhBuRACjCkMwd6/fx/DcevWrffff//TTz8dDod8ZTwDs2ZN8S5SArLnCVF1+B8UuTd1va4H8OUyiAUoSIkRssVi0Wq12B7Q7XZHo9FoNOp2u2SrgL0I+pda1JNqlo8qsrPGhoZ9Sf4S9RPwGNi5TFvGXHDEzJiJO4TAjIiF1ZmuyzW55rixyi4yxkVbCytV10LrXGthChxjcK5robV98NRY+NaNRqMpVh8XQ7hPZA4PxtuutCyDXmEIAbvgbxQiHCXWxA92rX14VTR7mQjGQm7K4yWYJBOohP/BHJALGV5Vq9vFEmV+bjQa+/v7yXW8MJg5u9ygAlepHmgWtYTf6vVmFMAekP9NRbTPdyM+4VkA/9jd3b1169bR0dHXX399enpKvR+mgOVyeXZ2FkKgtY7FzbX6gRn5hgbMS8EfjKbmffI8x0jnoiXkX8lEsbVUSxnhywU3X4sNysdME3olTlwkfi1ixkyknwQeGGPK7YnwfKlIF5daKediPNriUm+ldq9DmkorPzqdjluKNI/iAhpalGUZwVic7NYaH8WfkK9zWIlaaShejIPw0uIi2mtouxNCQMRT7aIty3Jzc7MQJQw60O/3IRH76KOPOp3OZDKBQXUtWgrn95UgD26xxe73jYjoP3a9lgIkv1H7zwQEiF+A3WVEeDwez2azsiwNDHzw4EGpAe0iWl3qx5GqC5tG26bqiFPf0aeL0C75O1VI1QlyqTsIB28NcRuB6Jlug+EM8Sc6q0bOVqIyz4WszEVNZRFMBJTKRD7nKLzUlPNisaAomUawVoSeZe5BOg+G3qUzp9QAqIKWgmVC1/LmiTa1FNFSDG6M6MgTBZmWXKBO3MxSC99rTRqYBwXlTzUmBiM0g0r37t0bDAYgI5nsAR63jJYJ1BG1ay36VJfm3ur1umXQuCJUiTMr10ie02LP4FGuKctye3v74OBgd3e33W4bP0j5mUYJpWJXFWiZMRpC94RgN0TNB4IQDD+2sBJnv80t6kQ+2mg0sFsY4HW0JTeL6IZCCJZ4BjhDCBw/skVoYfbzWsAN9JmfNzc3yTRwOE6TQrRMe71eg470Ji8EAsUIakGUWs3S0jZ5lzsNcg4hNEWt52IaCWgdEaQmmgUzrR13CDcHeDtbBJN6VBoboiezWCxGo9Hp6WlRFIPBYLlcgtri3n7/938/z/P5fI5b4H3Ozs5oVtYC0oYI9ZBG/Fzh7czB+HrdECi+s9geB5W3crE54MHn8/mzZ88eP37cEMvsYDCg3O7oualtQqmm+8g7KeasxSZJVOrEg1A7FSyHcy20XMQi7siE/kOpljOHERfIcxHmEHpl2sSIBW21Wt1ud71ez+fzRDu5MIS12CsQSiIc35KtchXhUp1BGV5mCgZGutx4smrF0RqvIdf3nXM5DSsEt4zn7IpoPySPF8XIRSVGtlBHDSnDSxsRNWIqclJexpwXgJdOpzOfz6F+gCaZ1bROYNKILDkIBMrRhKjm/pauN5YEh2jKhFg2Rti7QHl5efn555/zDVlhu729vVwuj46OptNpu90+Pz930ZrkgSLJ+fl5KbgY1wsFMkpJmbCTBPSFptQdZBdC6qIPFLCtt3HkkAgmTXEjCBdJkooCgKHnT/iCdM0c0CNYKzG34TRqtQuWGpkP0VgFPZBS8+bgZ7xdwV/EWurqfkMzFY766mhMj2QDG4yillro7UYEIR+fUmmyj2ulTU04AdwjPqTVai2XS+YkOSbemT1Iz58/p6DU7/dv3boVQmAQjKQlExWsc99KlT0f7tsz/yGE9P/+kt/6qgVZ4xmlYkkJ4tJYr9dEgaRxTExvbW0RzMRVlyDyvTSab3TBrooQEHbiVD84e3t5/3khJmq3V+15m6Ig56HnQmJxD1TEba1DNBNHWu9g3blpUKXfSlhGUGcnr3mEhvAZI46ALIjsM+F/ChFlrzSxnmimFElqiB7GJde4opKKWKHS8MZaNKPOjojrWhEjmFMXztTYPrakpdeHzozLWAtpu7Ozw4gMMz04lslkAh6+jmamy4gTjlvi+HzKb1BQ4+tNegBflUa6fN6J2mHD4XA4HLIc4euvv3706NGdO3e2trbOz8+Pjo4wWlgLRn6NZqG0Mh6PLy8vb926ha/HntGVTNRNbGpBOcYyE1cX9vv09BQTfnBwQGumEKsrsIu1aKWpoNO/cyjldBZmqMFgUFXVyckJw/6kB3Q9AS/R8VlqfzBRAXV9T7TYZKw0G07cRVxO2aooChIDukv4uqYIY/I87/V65DPA+sGTlqJR8YZJzArxics+cQWs1WoR7xFWkbmVAmJkWdbpdIbD4Y0bN3Z3d58+fYo7unnzZik+jvF4fHx83Gw233vvvR/84AdXV1fUOT799NNWq3V0dPT5559Pp9Msmh0tBTKvNBtZRvXZ8M+iDxBftXj302gglfDx4uICABaWdXd39+DgAKBos9lEylfRojVSBVtQp0e8OZQbVTTCh5n0YqyGeNQwgbSTbPttSsnaafs7DUgFwGwIko0XChpFqMW1j3blWhV8dnZGIMTlimclZjhb4jTiVFyKM90+EIgBmoNrLa+DJioNZ1GUJHl1LrSO2MYzoWJd3nFMzydiUIwYxcthMoi+/K15qt1utxSVFboH4bZBuzs7Ozdv3qSuXVXVvXv3bt++XZblgwcPzs7OHBr4EYWonPhWY54XrreoAKU2CQQ1YpBX8zTt7+9/+umnH3zwwfPnz58/fz6bzeiqEvo7jWN+aj6fQyZjS2zeXHSmFi6A2Hq1WrlB69bSdDoN0UZ1esxsMEA/GZUydb2LSNStGxpS4W2DEP98U/61ElksGl5GsE3Xc1KxXTilJrpLRYHm6NG9Ob6U1Y+XUVfpdDp8BXpPZClrjcKkAkTYdzlmW2mVCflxoukifJHr9Eut3HS1Cp6bs7Oz6XRqZjGAsVdXV/P5vN/v37t374MPPmAe9eDg4I//+I8//vjj4+Pj+/fvP378eC0ij6DBfGxQ9Zaxn795vRUFCJpw42e8vAO77e1tjh9HnKYprEGHh4cM8hZF4c1qnAFvSBxs/4jIYulDVAytxOznfhna6PAgKG6O7WilmXS8sP0+BnU2m6EtDlsd/dus4h/4RmzwduiFo6CAW2hSB6ObpinhPha6FgcoakZizc0YlJ+LSIIGOVY/aEF3JmbSUmzpdV0DMXCWmUYb9ULEcRa7vjrixXBiU0f0PoYYhRBY0lNpKGcwGNy9e3cwGJyens7n816vR8Hj7Ozs8ePHDMEkERFTnOmFt5z1vnC9LQWIfZmrQzy48/NzaJ/39vbu3bvHtsDJZPL48WMmB1wb4UTNskYy0NAMMWxwBN+dTsfFaZeTl6J5IiVYilnAktGMqBSDGIqQRU84ZJojA57t6opbXYmmCg2joOhBfSmNcBB+Z4pIpbAbhpeV0dJI4nvEcS06+ET8u4iLuXJrcT8G8Rzmgs1Sh22Kvi6N2D+zqF9pfchFvUizgojLKXUh4m7aaltbWxByzWYzkIXr9Xpvb+/g4GB/f78oisPDw7Ish8NhWZawhR8dHdWaKEjUKPwHg5+3Wv739SarQL95WQH8DQl/Ew3+zudz9h/u7+/fvn374OAg16ZrrlIjMpVawi56BFUqU3WRkWz6ZYQxldj6Cw3+VaKFK7WVrRDOOdfCLAfcjnqzLPNYQh1tLgvKLFNNhFAOQtZt2l3PcUmHOs/5+Tlr6x2X2x2hjbTPHJm0xJJZiR7U83EEh7Xa1aWguLVGMV1vCRHEgIYjrtVWmYeM+4q3wrhFQPcjTVNW3K60RWEpuieCz/Pz87OzszRNb9y4MRwOV6vVw4cPnz59SlJRa3TExxdnvW+7/O/rbXmAEMl9rVUaqfqdDHZtbm6uVqvJZDKbzRqNxo0bN46Pj4+Pj6mfBM0lFZqpT9PUrf4XVIL6I31QXHOlhZ6ceqUmdCpKwyri4+ZK1AJbR6w4vv8iIsh3FMENeNLKVa+4U7HWzgugprgmAq212DxJGGoxFmZqYBlkytMoom2zuFOCEDPtOD2oI8YrHk4WkbbjFauqcr8W51ZdvwwyR9WNfcCb7e7u0qBotVoQn1HyJ61K05SG12g04n+fPXv2zTff0AOuo55jkiTUxOKDeHti+cL1FhUgRKSwmVq2aZpeXl42RVJydnZ2cnKyt7eXJAkEcoPB4OjoqNRIl+10qnVrpTYoZhF+kFAhj7hvXX3Pxavh5k4uCiOLbxKNAdSC34VoKDvVpOxSo+LIZVOz+XmEgGpoe18pzrmllglg5+qIsNF+phJvFyEfn0hJnvy4Fj9FfR3pEGSb02iHCmGGK4y0rhMV9R3uYxRykbpRJStFMbTUNsFUi6/NM4Bbazab0JxlIg6D9PPGjRtpmp6eniZJsre3t7W1dXV19fnnn9+/f59CH73/EO3A83MI16fD3/b11hWAagxHWwlmSHwMbejx8fGzZ89Go1Gv19ve3m42m71eL9HQehCv/O7uLlG454MZ2wM8k2tKBhEBb+i+TLvdnkwmZKiZCH+oILlh55q3bT+iw6AT/YHT09NUG37WGoayMOXi0GTMwI4+FzI5aMDcVb88Wk9EI6LVah0cHCCXXK1Wq9/vT6dTyi/8ebfbdZOu0HJLvgLpcrvdpugcQmAJ1Wq1Gg6HmcZHK03AAcVdahvDWkOqxGmOEnu93u3bt0MIp6en5B6U5mD8Pjg4wFj0+/0PPvhgNBqhAIPB4NatW41GYzwe//SnP3306BGBIj6TkyUaDJHE//9CEuzL+ZbtnA+g0vpB/CyiMxgM4H4DekVmiYt3rZq3BUJ3cXHBo7T9M/bGboe0uxD7p4Ny2/tKa4CpqFg+8giji+7h8T3kzpfKtQ461ZIlp48om+13dX2nWNDCvJU44cqypFLk7IWyJiQAmN5E3MM8TIdPVVT159EBTOAIKKTylPiyPFsOBV2lssxjXIndtSxLRhkz7cbc3Nzc2dmp6/rk5KQsS4Y6zs/Pe73evXv37t271+v1Hj16lKbp7du3e71eXdf3798/PDzElfE08JC4mncp8S9cb10BgiiR1xoTIbKEI6iqKvKwuq673e729jZEkHmeP3z4kDQx16YQDCdRAXDIJEmw6/weI0SE6kQZIK4B6CQVpKdEJhw/zsHTsWvt27LMMeZ3fn5Ok6vWWIz7BpmoFoKaX46sQkQc70TWwZgjYFiGxuMxL0uEImk0GkBImMHnO6IA9mC1cCjoGC6LBIDKGIrdEN1iomXxfFniwPPz81bEUQfGu9ls0r/P85yqa57n3W53PB7TVgehuF6vP/jgg+9973s7OzshhPPz89Fo9OGHH25ubp6enn722WfHx8dx8SAXPrd4a6xvv831LhSg0pYKR70OLquqOj8/H4/HjUbj9u3b29vbn3zyCSTSUIgCms2jJcmpeq68A5VNi0slJp9MGC9OcanVElTruDErVR1VoEuBUvzLXLw33Ko7o/ySWk0mLFqWZSR5dnoObevrrPy11p/wSu4csQb4wNvWYudEbxviQsQQOC7nZYjUSiT97gA2RJueqOJp9D8mKRcJsfFLnBfYDTbb8WXNaIZ76fV6VDLYxPH+++83Go3Hjx9nWTYajQaDQVmWjx8//vzzz4nHfHCJCHWqtzzy8k9f70IBggKhSlNIOFbs9Hw+Pzo6WiwWnU7n9u3bn3zyCVHp119/zfQM/LUr7Q4L6pxXEW4kFaYgHnmh9Gk4mj8306h4lmUMKMUx8VrbSjCfQb0FYDnT6ZRACOwG92A6/zoizAtRhhci6U/UFebjUIBUSDXEixTWupGoFEuqA+YUpwR2LaiyuRbq268PIcxmMyforqEZVVprP6Tb2yvxwLmPDtAaVeGuADxTbsYxbm9vb29v7+zsTKfT09PTVqs1Go1CCGdnZ5999pmjf4vBWovx3o0E/mPXO1KAoC6MEXIYG8Ll8XjsEkSv10vT9MmTJwTTGKoQQlN7kLB/vJWL39h7akQ45UwYeo6zEs9Zonp/FYFh6uvTPLXYz0nXcs2vGGVA+tEU3SLvxpeKC6/hOuuOp6ucMcft2DhVsJh6aCuo1ENqROxnxFGpgc/iOn2qFdvOgfTDlQC7zUqzkUBOnFFkWUZi5mIXiG6OrNlsgvXv9XqffPLJ7/zO7yRJgjkbDAYU954+ffrrX//aiU0pfCupWnhXDa9/7Hq7jTAujpAn7moXJcWgqXCmhIDigOuCXIAZ1rXosXhDrClBAs3ITJh75CMTfYPz7Eo8m5jbXMA1LiQgE22g/5wkAXGE34FwH2Yo/22e5xRGQlTWtCcJ0a6hWtyJkLLEowi8jwu7pcCVScR/mIhnif4Uxp7bsOi7N5KKMSWLtjt6BYYVtYgYnMDkklyhuu12++bNm5AZNxqN4XBIuo/3rqoKhr+9vb0f//jHH3/88XK5fPLkCYZsa2trOp3++te/Pjw8LMT+UolaBgX4FkWf6114AH/JRIsFQgjIJaE5AS74CPqa7XabWIjLJAKE3bagacTJbgBFpb0M6IyjzCRiLCTAiO0fb5JpbisWu0wUsCQDrDjvdDqFEEf4HNTMrWtPCYfrHXHnfE4zarVg4x/8V44ea0325Hlu+XP5y8XcWv3poOwLbec3Cy1rwWlUarpjZXjU4Ha2trYGgwHkHYvFgpo1XhoXwfdN03Q0Gn300Ue3b98+Pj7+6quvID1gDvj+/fs//elPmZa0uNeCxsRf89u63l0IFK6veqWox6grM7UYNmBVW1tbH3/88WQyASUKSM5V8xAC0RFXKhIKXuMABjttq8M9JNH2FFO6hgjXUGvqzyVwEsEQAhC9pvjE6WQ3xaGZav6dPNI5dCkGKxc31+JCRJKaWrJUaw69UieLXlVRFIwQLMXJjGqRMDj6J7cJUSe7jth2c81AokjGz3IQlVasuo3Ybrd3d3fv3LnT6/V+/etfn5ycdLtdtr3zr3aJN27c+PTTT7e3t3/2s5999tlndV3Dg39ycvL5559/8803pMtBwZ5b2u9K7v6p650qgE2ai4+Xl5cc7dXVFZnTbDZjj8ZgMNjZ2XnvvfecwBnlH0JIkoTyMwbYB7ler6fT6VqLAtbijwgiSnCqZ7SFARFVBMQnUGECM1EDFRHBCUDy4YJpIhwOjdtC6x6sbLmmbLHf/r2rWw4RCcOCHCaubK01HKVGJQkISzHRE0G1RAi5FlGcwzAqb2W0HBujg5Pk22VZRlTZ7XYR4kajMZ/PQwie/3LyOp/P2+32wcHB97//fcz/N99802q1dnZ2dnd31+v1/fv3v/nmm9ls5g6jQ7tvt/ITX+9UAbjqaEYMrw24qhYLGtLf6/X6/f5HH31UaZX8UuxaFLNd/qMrSVSzXq/H4zF90xfKpqDY4Vc0WIi3CjKQJKBwa7JeCS+B0QqCORRFcX5+Pp/PDVViEBn1IGPJNPRYC0HtLDwV4giQDBPAQalqIqw1Ir5cLg0Z5J6drUL7DMdWdR3U7emCtbZz05tz3MX42HQ6tQvFt/T7/W63S1e+0+lcXV0dHx9vbGzcuXOn0k6Nqqow6mma7u7u/vjHPz44OPiLv/iL8/Pz999//7333hsMBo8fP37y5Ml4PEZp/cW/I4bf17egAHGgbEfv7izFnPF4vLGxwejM5eXl6enpeDze3t7GtOfagDIcDhEFgp9er4f1XWtvgK0s78bsUiIgEMdZR7w9yCiCYlAkhh+tQMRbrRZr0KnY8nsHM3g2pyJxpc95aqUGOQl9EJG6b8bjYMZRpxHamX8Fk0zYEzSHhDJw/41Gg0SLp0polESt36XotJgpoxfpO/EkJ1Vgh3Yr7RwZDAb37t3rdDqMNNGw6/V66/X60aNHNHNKceiH3yBQ+y5c34ICBEWipJs0d4KKRQQ84AoHgwENyOPj4ydPntR1fXZ2ttawJSS7dV2fnp4ul0scN1Ua4uYi2gpMscjFexccXZKrBSIoNbmWCnhciZua5ZbcM4Oa7F8CQRBCcHU1JmG2Cawi5q9KeFJ8lwc7KzV3if5xfZXG2GNEAyYDSKmbwStNz8SIpqXYFAsxzWAjTKLY6XQGgwFjvt1u98mTJ5B0gH6FlHKlRQeEUmTh9+7d+/GPfzwej3/+85+fnp6y/yJN00ePHn3xxRf3799ngtntEXuqb0Xq/sHr2wmBXJYJ2stQCK1JwYH4tdVqsU/cIeZ0OnVR8uzsbHt7uxahcYgm4t05DppabGiZQFPMgaWuSqgbMtpKI+cOIYpo9SI3nCQJsAUqhgRUqRY90bIIEVGSGVkq1eD5YaUZZe6t1Nhh0MaXlfb2eeQgRIslaUfUGmsmvEaxHXEBNfNS61rgVlrIgJo2NjaI+LvdLq6AN8HX4QOhq8mineHvvffe3bt3i6Jg+fnBwQHmf7FYPHr06NmzZyBQnO9WqvC+e5H7J65vRwHi/62EOw8iBSECKcsS+d7Y2Pjwww+xu+PxmNeTmTWbTfZuEPlcXFwQkdvMECG4X5ZqQDYTfNdhWAjBLWHKOxhR3hlTnWkSv65rOPvJXvr9frg+XuixtaCpXMcVIcLr11o8SjBjZiuH2itttqtFpGwHQtk+CDBHHZMXkP2j8wSQ6/V6MBgYZc3QOuPUOBA8J7zNZAuQ+lPtgb+VYQDYXUMIf/iHf/j+++//9Kc/XS6X77///u7ubpIknU7n8PDwm2++efr0KQstMxGyr7Tz5jt1fTshEJeLHvSwKm0sreuanHg2mz1+/JiJ0v39/Zs3b15cXBwfHwOeq6qKiCgRbn6lUe5ms+mpi1p7LHMtHM+0bfcF0+7qhFXUN4b1whxSfCQUIRMlQoD50GEMt+T0g7lBCr4GwxBlEW0brhNkLFPhOh2MIb7smCByc2KQa19LLSAtDW80BzyPwUvdbhdymqC0JNOoGs3E5XLZ7/fzPF8ulyD+SaOLopjNZq1WC4nH3FA7Gg6HfPrZ2dnp6elkMllGLEko87eLe/sHr++EAvDoE12gGPI8n8/nX3/99fvvvw+pxo9//GPbRczbbDZjNg9bxZsAnHRkTAxjLjT8AwFP0BhuQ5uLSnGQ8HqiZwIbog4Kf6D0sGreWYQM4coaEWkp0YjH0it1r0IISJU7o0g8i3CcbgLuKERqgkbhM3mBx6BdyOIeUs3FM3jtyIqFjcAoeJNcs2P0W/A/+DpIrEIIm5ub0+mUnS6/+7u/+yd/8ier1epXv/rV9vb23bt3ef7r9frk5OSzzz774osvTk5OHJ2irt9B6Q/fBQWoNByIUC61HGG5XJ6cnCwWC0aqW63W3t7e3bt38b9Pnjxxyc+AAh40pY8QQtzW4en7MPy5qIH/llcmAucYtUpZ0/UZU+oyqLDSOJ8bvU1tfCKeptXNACHGnkgpROhI7Dc45xBRZLp6WKmd50QiEa5urV1Mldgdg9ZIgtZmiIdYzpMV5fU98jQcrrQuG9Nea6AH5EJZlvRnbCbwzygh5/Ls2TP2maOWlYhi37F0/ZbXt6kAQTpAcIL5AaGQitsH0MH+/v7+/v6tW7fa7fZoNPryyy///M///NGjR5BBQKpDsN7pdBKtH26IxqeONo1yKnw6+uZeBNqCD8k0uhBUxsEAd7td1AOlRZgMxUujHaNB3THkMo34ebJogLjWTl8Sj+VyyXK0dbQ1mpetxaVTivC5itbc80+tVqvT6cBahY4ZMQrTG2kDlS5Mfl3X0MsRedKKqarq+Pi43W7fuHGj3+8Dalgul9vb23/8x398586dn//853fu3Pnkk08GgwFPoKqqo6OjX/ziFz/96U+Pj4/riPX2u1b5ia9vUwFcuXPrHt6oRPOQpIaLxeL4+DjP89FotF6v6TKCrwKWQ+8Ji45JTiNiqVrQBlBcPpJCA5NBZrgWR9p6vWarHw5hKUY6txco2iCjXkGXCo3jhDuotmvPk10ns1hHRKWJ6FXcgnAoEhemSBXo5fnbtaIVYN6mQ3BF48+1yExTchQSQB/mmi326IyrQCEELBFZDYXOEAKatre3RxRHevD06dNvvvnm5OSEGDWGJP4/BfgHLnclYUokGSCnrIVfuLq6ovrZ7/dv375NlxHo5e/+7u/+7Gc/+8UvfoH3wI6aXBrf4r0P5I6pdtZzYEw/0Td1h4hcoixL6DUXi8XFxYVDCAasEk3B04g1V1QhMhXHKivtbqHEFEJA7nMxsQ2HQ1AG7tQi3yCFEs240YDLtH+31+uVZcmAjuvFN27cyLS26OTkZDwe13XNIAsPh14Y2UiIKAtKbeggkT0+PmYGo65rNjovFgvIy5jwKsvyj/7oj3Z2dkCzU4148uTJ3/zN3/zkJz+BTNs2onj7W15e5/qWQ6BECyFrkeHA/4yFqzV2SKfp7Oxsf39/b29vY2Pj7t27NtXHx8futq7Xayjc0B+CXTxAoQG8SjO4FjsKO+iGOZ9xFEEbbrjPEIKLlVj3oBYsqcJSjLP8K4FZr9fj00MImXbauYATVELNsgz0UVNbpmsBJ3PRpeBnuAEScTqypM44IrpXfLSjeXrqiRhiKPWEiL3Gt02S43wGfUYBSHbxLR5Tns/nJycnX331FWEScBVCWUt/8q2C/v+J69tUgEog5EoYKcMqeUGmoV6H4/v7+6PRiII042N37979q7/6qz/7sz/z2Dt18VSQafcyjZYLEQUafwWSB+XJ83x3dxc3QuZKcRDbX2jotor4V7g3l1Zrjbzk0eoxt4SI1wstf9/f38cbbG9vTyYThL7ZbEIZj0Y5r0iE6Hax/+bNmzdv3jw4OMBHhRAKIe9RHiYHYJHodDqE/qwqLAR0hQqgqio6BvTU+cNGo9Hr9egb3Llz57333mMG0sjQy8vLhw8f/uQnP/n5z3/+8OFDXAc36aXl4d0ynbzU9e0nwSGaFCnEH7GMFqK4cI6hurq6Iqsjcbxx48bOzs7BwUGz2YRWkb/KokFbivf8xviIIpogcaWoEIEcpZigOikuiHcGJ8eL11rdXkXjLG4P47v481JbgRNh3ZrNZrfbJUQhCIFmEMpUNxwIaabTaaWRHSJ+mtn9fn84HJIPGHQJxA0XtNRGKaMtQFjwiBypx+n4C3jsLMt2d3ffe++9g4ODhnZwAA2az+dPnz598OABHKAxro5qbFz6/A5Kf/guKICfC3kbxsNFjFQECojU8fHx1dXV3t5eq9WCVKLf7//u7/5ut9t9/vz5L3/5yy+//JLuVSYuukLrjLDfpciqcAUIOvpWaRaeeg6/ZxqBrM7kU46mDDKrxUvH3DDV+lJs5iEEF0wNZOj1eru7u+woWK1WEBzBpkb/FYfW7/czsZgg951O586dO+AUtre3GVY+Pj7+4osvNjY29vb26EMh0LPZ7OnTpxjyPM9Nr83gET4KvqMsy/r9/v7+PqaEPjGKevfu3T/8wz8cjUY8h8vLS7Y+Pn369Oc///lXX33161//+vj4uIrIY1ByG7jvbBrwLStAfLkWHmQRLy8vCUZx5fQ+g0oQtegSmE25efMmwzTQdq/EjJKm6Uq0taVWnSbarEptPtP8lNuua9GL8zL6Ta5toyHkEtwVFJnriJI/RNUem3xQnAg0xF52eqh9rel76jM8iqaI9Aw0IgpPhTZlUxMWF2BIqX1evAD9qaIlrQ1twkPt8TZ4Ena3lUKS93o9Vn7wvagInZ2dQXX49OnT09NTAjxbLjyPTdt30/ZzfYcUgMuNUqr4NDXJw05OTp4/f97tdmGEbjQao9FoNps9ePDgo48++tGPfvQ7v/M7X3/99f/+3//7Zz/7GRyUVHWSJKEyjQXFkBPqJBp+JRLINBHGDQD1oXbu+TWkilyWMDfPc8aj2BeGcW21Wq4XId/0KNBMtqtXVcVmtBDC1dUVWCYSnsPDwzzPAahZk9kGkKbpdDqdTCZBKy1KMfJ6eD+EYMA2WXsc/oUQwFB5JG0wGDD4e35+vrOzc+/evYuLi/F4vLOz8/3vf//WrVu9Xq+qqsPDQxANX3311V/+5V/+8pe/BDeaCPBciIDjuyz08fVdVID1em1wDrJIJfvq6oohLOJvxkFCCKAOYeLudDrf+973ZrNZXdfs4VlrRj5onT15BQFAIlbKVPtgCHIQ6ER8JInW07t3QaUVcXexvxJqjVZaInwbAwN8Qb8nwRJSGyIF4A6pR1VVBThnMpl4chKPZC66oMqSRw0Bg1QaNMOL4tCMtQ4hoM+AL+iZZFlGlZlcgrGYfr/PKlu6Fqenp4vF4vnz548ePTo5OaE2QFnZpYVKg87fhgS93PUdusUk4s8xKLfdbgPkStPUVjMXixMFu/V6/Xu/93u0un70ox/t7+9/9dVX//2///fPPvssZi8DD0MMQyDRaDTg9EMTSKAJaejHoSQerVyL17KqqpY2imKAM20xoh9HluKy5ko7nUqh8xmiZy1aqR2MzrzX6zWvAbFDvtHpdNA6BkH39/ddRnN3L4QATAOVoEXVbDapTtLJJneirtXr9Rh8A9R08+bNDz/8sN/vowzMtg+HQ/7k6dOnX3zxxS9+8Qve9pe//OXh4eFaHERAPDqdzmw2W2q58nffD3znPECQ6eIK2j0IXIJItBBZAz2suq6Pjo5CCN1u9+TkhFbo97//fep6jx49Yiy1EC+NO/8xRJ4ohTEXzKFTW0fq5CFueBHJtFotcDIUEw3GRiip4aJytUbmp9MpkVgMeSDWD+K8oNAZhGiieF9qPisRP0qapoBDMQfcG5jTRJS93Cc3AGbB3909bIqhu7u79MJK8YGynYBe2JMnT05OTp48eQLTFtMIfKitUvFO1ru/weu75QFsMHJRCFIQxBLTDXXNnho2Vb9er8dJ7O/v/+hHP7p169adO3cuLi6++OKL//W//tdf/MVfTCYTKvohBOae1iLD8cQWYXrcfio0tcg/eUIliJcOHMRCG75yMd2mYuolNkDcbafhVKOownAZ8uRWBtIP7TjDBuS17XZ7OByCdYNAoK7rnZ0dspFMu4dbWjSYia4UhlreH2HF9lOtByB98+bN3d1d8o39/f3d3V0e6Ww2+/rrr58+ffr48eOHDx9++eWXrL0ANocPrDXeQBT3mwf6nb2+Kx4guU4MTyxbawrEw69E1UG4zhAC9Y3xeNxsNhlSOTk52dra2t7eTpLk1q1bP/zhD+n7pGnKmBL6gzRn2hSWik0R8cIuInZxbRT0BOeKtGVa145hpthKSspNNrQ8zwUuIgRSFCq2wBzIE9yWamgdE0JmFAbaZf42V58ybYDc0G5j15cSbRR2GYccvRRRZKfTYcS0EvceOQ+Y3Pv375+enlLzIUuhfmAsIMn3OmK6/WeRAITvjgdIxRfghhe/ZHd5CIEa82g06na7LtJTMkd0kJ5Op3Pv3r0f/OAHJA8ffvjh3t7e8fHxw4cPHz58+NOf/vSbb77BdKEA5t9saEE8x4lzd/WahBv0CzXZoihoh8WkN5QXyRnIpImkKy2GQiUSzYKiPM2IfNNlK76181eElZCMmL4Q2zvVqlp4aTJgXknfMCiLwGf6S6FaLCrf398H2U+1hzQMk/Ff/st/+fnPf76xsfH555+7rcEzdP3ADtPH53TrHQrRq1zfFQ8Qn0r8S3I4g1IIVxD3RKMzRjviDc7Pzx89egROnQrG1tbWaDRC/mD1Ab5ydnbWjPbkFdqGUmtspdLkAE6JFi/eg3kd2+BUC3+WWsVXiZoBdaIQRM6aaxk9IZNBPnXEDOdGntGy+fXlLiiVy2JEjBY+955qsa+RFnvYH0fEmC90AQcHB0yN8YLFYjGbzb766quvv/76+PgYNXN3JddaKuNW/OkvHOh3/PquKMA/djk95cky/5VpN7oDEuPMiqJ4/vz51dXVaDQaDoenp6ePHz/+5JNPer3ee++99+mnn3Kc/1975/rTRLeF8T3TWi7iy6WArZBI9P//Q4yJX8RLwBiTAikFeqFIoO3MPh9+eZ5s2ldykpNjGOP+YBSHdtpZ9/WsZ52enn779u34+HgqjrR7UeHGZI90LmI2boAwneohY1nuRgWVUH2rboWSeBAzeAtBXRvvmNPnt+60ji6EUCR01nBXEfvxKzEZM2/oZMmqgZom7jmeUYZS99mzZ2BFWXUBldX+/j6WZXNz8+bm5vPnz4eHhx8/fvz06ROeFt8Vxbdl1aqEpf/VeeoKwJdbEw9misgnH4iC+wfFUXTjiRyoCJEgEk40m02awZQyPQbV7XZpaQXtkMs0b+VyitF13Bs/t8nENFoaMPM2kBNtR4VSHIPtclYmeFxIhtwpGTkaIaRxiamueTdcn0Oguui3Zhp1IBwqtG2NwI9OxdbWVqvV2t3dBf9HWJhlWafT+fr1a6fTOTs7I9UuHw522TH6ltII9ndKyP94KqAACEQQerQQtQYYrxgje02C8MmUR6jMtFotooher+ekmX0nb9++hQq81+udnJysrKwwxoo+OAsEPJOJGbxWqzWbTZyGS+DAgUgbyNdr4qCmJQx+Bml2Bw0FwJ9gvA1CBglXiIQ5iNzF9Bm5MGf2frgyVAuNInRkLQXlTpSQNkK73T44OHjz5s36+jrSj7O6u7s7Pj7+8OHD0dHRcDhkFKmRsFg7vneIVSS73bOnivr81amGAtTE8GqDGpJ2gXu9mGHEkYr41dUVUDAwwFh90PNu0xql3Gw2CfGh5YoxjkajOUefWtkUMUoVHEPb0OpIRzu56BmRTq7hs5C2ug2HG3kmpvWaMK04QBIM95Jr2ukSNU2BEPNGz7TvHh1mdofu3suXL7e2tg4ODlz3DCFcXV1dXFyMRqPv3793u10QdRTNcD5+Im66RU11pxJfIekPT18BgsARmajMHVfwvItkxzoJ5fX19fLy8tbWFq0inHhZlq1WC8MMjpLAYGdnBx7w3d1dBA6EAsNWJycn0HswqTPV1kqbWCe1QbCcmVhKUc5SLLb2DEGuzN3uJa0/YpQEiWcSANMLuJJ7c1sw1Y0QAhVJGgI0ZWmbQHpFNZYlLnt7e+12m0l5qFzu7+8Hg8GPHz96vd5gMDg6OmKtIJVfa4gz70JbpNLgJ1Qw/gmVUAA7AZcpXTMlG8vFAUrcD1TOVbnpdAp1GdcgGSQPMcbxeMwODhwCa2kIkWm6wbu4vLw8Ho9Ho1HQloqJiNFd+/PrmxGIfDTTOmhnETMxktMBsPSbHismW9QLDRvw8VHCtEgVHm4e4EpcEPMGeAC0fXt7e3d3ly3l0+n06uqqLMvBYHBxcXF2dgadbbfbdfmLr9296rrofv39Vzf44TyVPsCvjr9WfLoTPhdDMYHUN+viX+Bhr62tAXQht6MWTtNnY2ODeY5ca59fvHgB9MVMsYQulLrJK7rdLi9yeXnJHCbBFUYX20/agMgyHkWZH4nn5rkYcrtms+lmAuk+ZRmCcrN3If2k7KXITOfKoyEEZN19QJBI9Xp9f3+fEie02xSmLi8vUW8If6B+YOMLgb6B4riUidZo5yKNNIeKn1flFKACHoBTJLzKKIBLLqW4Y7GLTBKyppywweywXG9XTkPA4J8sywg28PseuwEgSTjhGWIQ87A1Uk5xq4viKYLo4pXDNie1hShYqFyVQrbBvADLQ9CwTl3cJxTgGQCAbS7Lso2NDUd3hH/NZrMh5vQY4/r6uh3j+fk5hr/X69EaJ+Sjgnx7e0soFaRUzq/KhOY2E+OGH1DlRJ/z1D3A3KE4E5I+fxT7QxAZLXFzCMHbAArtQ8cY51qeBbiXbiiTr0jncDi8vLzc3NwEEsP+ViKlkIzAZ1nW6/WOj48nk0m73WaQBdwY7QIkhiyCcpBr/yBbPXHLh+IDrq6ujsfj2WzGm6bkcGtra61WqygK5lGgYZvNZixnN1xqfX19bW2N0V7qoaenp+/evavVant7e3QAl5eX+Zj8SZzmPqMn5jIRtZeaFgoyQ9Sjqn4q4wE4iDiW0hEwgUpIQmEE9OfPnxMtEyDXRBnSJ01KR7hiEOVwOERqHQoPh0PmykG/ub5JHeb+/p6xdKIj2JjpRYQQwM2jTthvSJidp4J98EA9I52gXAsRGRFsGH0UYwS8+fr16xDCwcHB/v4+GQXYb1IRDxXBqZqJ6eT8/BwYEpMGoJKoEZUaczNKiq/IBR//vIop7+KpmAcIIdR1jIdzXMGJogp0mBFF0+DHXGgDEvuUiByQMKOPyAQo1JBhLy0tMYS+s7Pz6tWrZrOZ5znBA0sRa7UaxSLGXCj2Hx4enpycQKnQaDQIrF1OQQkHgwFLkanzwAnpFSEuJbG1jvIr4AVUqN1ub29vexDHyQPEzhcXF1++fHn//j2wn2632+l0bm9vzdRbCkjSENtXFH57JkrJUmuX3LYrqzP29cipmAcImuoKwjY6MA0P97G6SuiMGe9hTE5MdvWZUiEXY6HhBtjyuriXoeOdaKkWJIS8LO8I3saAiKWlJRpnGxsbmHmyF9IS+lxslsZOs0+XnTej0WgwGNg/4NMGgwFYBuZjiHboXYBjy7KMGOzu7q7f7/d6vX6/f3Z2RmzGrA+lXsq7LtqSR6UVHtv4qHa4G8zVAv0/cqrnAUIIWHfi6SJhXuBg4I2/x4zl2owSNePCE52Is7ummXRqiMTQvFRRFMwJICWUU9ilBTSVegvbRWOMnlBZXV39559/xuNxv99Hpvv9/ky7iTDqjUbDizHLsiRVRZ/vtb+oFBN6XQyKeD/S5e3t7Y2NDZweJVSDsWG1KIpiOBx2Oh23Ecn+8Z8NUdL7ZY3uTNNfwz0Ixn73I/+/nep5gKAquMvqtltRiCAEN4ox3LVUO4RM9KNRCJZZwpgShB9GhgoxxpVadUj/9fr6GgVgMhjqHsq1RPBOZ+E8vbm5gV4cvDSLmFZWVuBSxgVBdUqk5HFbxDHXuBnejAueP39+c3OztbUVQgCcF2P0iE+hzYJQwfEV1cUEmou6wphTo27dYfTfM8FUF8OeSicDFVOALJmYIX4g7EmLdDWtyLXBy5ONpf5LTRwefnHqMySO0DxR96RjQO7LDCQ/XNLeuIYYQmm4FkVBN5ryDuE4ssWKp4YIGy18RFYkAF7cgqFFedLiL9WqQovA+DigNafajmorzh0y+ozy8AFxRG6qGNFgt+kv3JUfIrHf+bh/w6meAtjYU+1xUSImsMQUiRnVoy2FrA6qJgUVjnjqaTLN67PjjeuZianX656KpBOEGabMyltPtWmCxdoT8ZCCp+Aa3IKdCW9HUDQT5X+mrcPEQoU4g5kFyzRDx8XojOk+PUQB+o24xdrI/ddEmmTQa3ho8jMtfQKIUWq3ZKVN/typZA7AwZS6qxVEd0w/qCGq8Rijl8mxE45HS8tsoj0x1IUIDwicioSGH49htI91CYNKAbTUbBdS5Wv4J4mp2akcTbmtURQFCXpN+8tcZs01S5kC4NLdHDYKWbKQlM+LsgXp1UxrKkMIdfFdG1XOu+d5Ph6P5wC25Cd/UvTPqZgHmDuuRRguGjQVYMhK1OxIpsWJdvFzbXwX3e1PqAVlQl/GGCfaYZMl82i4BVc2a9olY6Fkmoz/nYoakXuw6nL8iXItQnXLjw/owjwhexqTzEmn7bdhVE5no3glUmAP3ZUofDVBFFWBQqMLf96psAJYyg2Ps3Uvtf/CTzdqUDAXcz+X+fog2GlIGEtTR0+ZpSbyft4UkQVrRDwDgjIXHaIHmtO5dddbg6qNQVOLltqgBbIhASOkhUj7rke+IhfBMBBlMsIStLuOn3DPQaOhqYryjinV4Z90qq0AFvq6pmyD7Bw1ovgQrEJ2aOErRBWaXhMkN5kmwlKhoUjq6eGgSAkNtOg4PXUsFOQ0HFtbCrMER5ka6UKDJra+xcOl836pf/1y7LVcJHAikXZ2c23T8XdSJHt0/Ln+eoAneuLDLlhIxNfCbVcw0brz1LwtZnU2/3YI/Dy1jnSILUz1hPnQouzrQzLdMtMWmUIYY+7ckhoSkz/3mtlDyPHjJtl+jAgeJKw5VMqFKRaXyKK2O9o9/jFtr8VTeQUIyiDDQxruNCm0QDsdDDLAudav/+tJH7yFI6hrhnxQa/eEroFJZbJz0tLssDsVQf9piZwT/UWJ9+dadF/pDc+5CAc8iwJtVUzfy+b/rwI86RNVIJ972ETti6Z9qo3qdZHj/jfFDdvgTO3hkAhiuhkJIatrX4YjLsdIrsmGh45rzi8FifiipU9vZu6HHAc21KCCViIsSr+d2Bz2IRfjp33C3xzg6Z5SvGsh4dgqkpmB9OKZWMItzY+8siUsS1oQc5I6h4zn2LEsapffce7eUuubJQVNq1BISliLvz73hZQaXyYjQhP8K6lvLISlTW8VBfDbGXb1yHdVxfMfIWEVVvmWzOUAAAAASUVORK5CYII=\" class=\"ndarray_image_preview\" /><pre class=\"ndarray_raw_data\">array([[[0, 0, 0],\n",
              "        [0, 0, 0],\n",
              "        [0, 0, 0],\n",
              "        ...,\n",
              "        [0, 0, 0],\n",
              "        [0, 0, 0],\n",
              "        [0, 0, 0]],\n",
              "\n",
              "       [[0, 0, 0],\n",
              "        [0, 0, 0],\n",
              "        [0, 0, 0],\n",
              "        ...,\n",
              "        [0, 0, 0],\n",
              "        [0, 0, 0],\n",
              "        [0, 0, 0]],\n",
              "\n",
              "       [[0, 0, 0],\n",
              "        [0, 0, 0],\n",
              "        [0, 0, 0],\n",
              "        ...,\n",
              "        [0, 0, 0],\n",
              "        [0, 0, 0],\n",
              "        [0, 0, 0]],\n",
              "\n",
              "       ...,\n",
              "\n",
              "       [[0, 0, 0],\n",
              "        [0, 0, 0],\n",
              "        [0, 0, 0],\n",
              "        ...,\n",
              "        [0, 0, 0],\n",
              "        [0, 0, 0],\n",
              "        [0, 0, 0]],\n",
              "\n",
              "       [[0, 0, 0],\n",
              "        [0, 0, 0],\n",
              "        [0, 0, 0],\n",
              "        ...,\n",
              "        [0, 0, 0],\n",
              "        [0, 0, 0],\n",
              "        [0, 0, 0]],\n",
              "\n",
              "       [[0, 0, 0],\n",
              "        [0, 0, 0],\n",
              "        [0, 0, 0],\n",
              "        ...,\n",
              "        [0, 0, 0],\n",
              "        [0, 0, 0],\n",
              "        [0, 0, 0]]], dtype=uint8)</pre></div><script>\n",
              "      (() => {\n",
              "      const titles = ['show data', 'hide data'];\n",
              "      let index = 0\n",
              "      document.querySelector('#id-ec1c5efc-62b9-4498-8857-08e900093c6b button').onclick = (e) => {\n",
              "        document.querySelector('#id-ec1c5efc-62b9-4498-8857-08e900093c6b').classList.toggle('show_array');\n",
              "        index = (++index) % 2;\n",
              "        document.querySelector('#id-ec1c5efc-62b9-4498-8857-08e900093c6b button').textContent = titles[index];\n",
              "        e.preventDefault();\n",
              "        e.stopPropagation();\n",
              "      }\n",
              "      })();\n",
              "    </script>"
            ]
          },
          "metadata": {},
          "execution_count": 20
        }
      ],
      "source": [
        "data[0]"
      ]
    },
    {
      "cell_type": "code",
      "execution_count": null,
      "metadata": {
        "id": "9KpvSJz0AZzD",
        "colab": {
          "base_uri": "https://localhost:8080/"
        },
        "outputId": "a26146f0-38e5-4377-9e1c-04848a7c09b6"
      },
      "outputs": [
        {
          "output_type": "execute_result",
          "data": {
            "text/plain": [
              "numpy.ndarray"
            ]
          },
          "metadata": {},
          "execution_count": 21
        }
      ],
      "source": [
        "type(data[0])"
      ]
    },
    {
      "cell_type": "code",
      "execution_count": null,
      "metadata": {
        "id": "4mT8RPlaAdKJ",
        "colab": {
          "base_uri": "https://localhost:8080/"
        },
        "outputId": "d98c5821-6a34-428e-cefa-34a7cc5b46e5"
      },
      "outputs": [
        {
          "output_type": "execute_result",
          "data": {
            "text/plain": [
              "(256, 256, 3)"
            ]
          },
          "metadata": {},
          "execution_count": 22
        }
      ],
      "source": [
        "data[0].shape"
      ]
    },
    {
      "cell_type": "code",
      "execution_count": null,
      "metadata": {
        "id": "GM3VK_kxAgXa"
      },
      "outputs": [],
      "source": [
        "# converting image list and label list to numpy arrays\n",
        "\n",
        "X = np.array(data)\n",
        "Y = np.array(labels)"
      ]
    },
    {
      "cell_type": "code",
      "execution_count": null,
      "metadata": {
        "id": "VKbswLsgAkNq",
        "colab": {
          "base_uri": "https://localhost:8080/"
        },
        "outputId": "cfe80bec-a2bb-4035-a20b-cc24ecc1e707"
      },
      "outputs": [
        {
          "output_type": "execute_result",
          "data": {
            "text/plain": [
              "numpy.ndarray"
            ]
          },
          "metadata": {},
          "execution_count": 24
        }
      ],
      "source": [
        "type(X)"
      ]
    },
    {
      "cell_type": "code",
      "execution_count": null,
      "metadata": {
        "id": "zYU8grfpAnsg",
        "colab": {
          "base_uri": "https://localhost:8080/"
        },
        "outputId": "0fefad64-6c12-4d38-b6f7-3af082892909"
      },
      "outputs": [
        {
          "output_type": "execute_result",
          "data": {
            "text/plain": [
              "numpy.ndarray"
            ]
          },
          "metadata": {},
          "execution_count": 25
        }
      ],
      "source": [
        "type(Y)"
      ]
    },
    {
      "cell_type": "code",
      "execution_count": null,
      "metadata": {
        "id": "JFaKDpsIAqyW",
        "colab": {
          "base_uri": "https://localhost:8080/"
        },
        "outputId": "2879673a-bf8b-4ac0-ea3d-1d04328831de"
      },
      "outputs": [
        {
          "output_type": "stream",
          "name": "stdout",
          "text": [
            "(38430, 256, 256, 3)\n",
            "(38430,)\n"
          ]
        }
      ],
      "source": [
        "print(X.shape)\n",
        "print(Y.shape)"
      ]
    },
    {
      "cell_type": "code",
      "execution_count": null,
      "metadata": {
        "id": "5rEd4no5Aurm",
        "colab": {
          "base_uri": "https://localhost:8080/"
        },
        "outputId": "06a72c30-9a04-432b-835c-9e730fe755c4"
      },
      "outputs": [
        {
          "output_type": "stream",
          "name": "stdout",
          "text": [
            "[1 1 1 ... 0 0 0]\n"
          ]
        }
      ],
      "source": [
        "print(Y)"
      ]
    },
    {
      "cell_type": "markdown",
      "metadata": {
        "id": "QBLOLtssA40v"
      },
      "source": [
        "Train Test Split"
      ]
    },
    {
      "cell_type": "code",
      "execution_count": null,
      "metadata": {
        "id": "1T7pR17SA1rn"
      },
      "outputs": [],
      "source": [
        "X_train, X_test, Y_train, Y_test = train_test_split(X, Y, test_size=0.2, random_state=2)"
      ]
    },
    {
      "cell_type": "code",
      "source": [
        "print(X.shape, X_train.shape, X_test.shape)"
      ],
      "metadata": {
        "colab": {
          "base_uri": "https://localhost:8080/"
        },
        "id": "Pny5Edyf0FZX",
        "outputId": "d38a800d-bc6c-4b4b-e31f-90d2b665ae5d"
      },
      "execution_count": null,
      "outputs": [
        {
          "output_type": "stream",
          "name": "stdout",
          "text": [
            "(38430, 256, 256, 3) (30744, 256, 256, 3) (7686, 256, 256, 3)\n"
          ]
        }
      ]
    },
    {
      "cell_type": "markdown",
      "metadata": {
        "id": "ubh1T6p_BG1N"
      },
      "source": [
        "Building a Convolutional Neural Networks (CNN)"
      ]
    },
    {
      "cell_type": "code",
      "execution_count": null,
      "metadata": {
        "id": "k2nKK_RKBDHg"
      },
      "outputs": [],
      "source": [
        "import tensorflow as tf\n",
        "from tensorflow import keras"
      ]
    },
    {
      "cell_type": "code",
      "execution_count": null,
      "metadata": {
        "id": "HlPVTmWlCf2G"
      },
      "outputs": [],
      "source": [
        "num_of_classes = 2\n",
        "\n",
        "model = keras.Sequential()\n",
        "\n",
        "model.add(keras.layers.Conv2D(32, kernel_size=(3,3), activation='relu', input_shape=(256,256,3)))#ReLu-Rectified linear Unit\n",
        "model.add(keras.layers.MaxPooling2D(pool_size=(2,2)))\n",
        "\n",
        "\n",
        "model.add(keras.layers.Conv2D(64, kernel_size=(3,3), activation='relu'))\n",
        "model.add(keras.layers.MaxPooling2D(pool_size=(2,2)))\n",
        "\n",
        "# Flattens the input data into a 1D array, preparing it for input into the dense layers.\n",
        "model.add(keras.layers.Flatten())\n",
        "\n",
        "model.add(keras.layers.Dense(128, activation='relu'))\n",
        "model.add(keras.layers.Dropout(0.5))\n",
        "\n",
        "model.add(keras.layers.Dense(64, activation='relu'))\n",
        "model.add(keras.layers.Dropout(0.5))\n",
        "\n",
        "\n",
        "model.add(keras.layers.Dense(num_of_classes, activation='sigmoid'))"
      ]
    },
    {
      "cell_type": "code",
      "execution_count": null,
      "metadata": {
        "id": "khtkzeeHCkpc"
      },
      "outputs": [],
      "source": [
        "# compile the neural network\n",
        "# sparse_categorical_crossentropy-It measures the difference between the predicted probability distribution and the true distribution of the labels.\n",
        "model.compile(optimizer='adam',\n",
        "              loss='sparse_categorical_crossentropy',\n",
        "              metrics=['acc'])"
      ]
    },
    {
      "cell_type": "code",
      "execution_count": null,
      "metadata": {
        "id": "0KnaD323HBy2",
        "colab": {
          "base_uri": "https://localhost:8080/"
        },
        "outputId": "75cb6b72-1812-4c44-e7a8-6eb71661ee5d"
      },
      "outputs": [
        {
          "output_type": "stream",
          "name": "stdout",
          "text": [
            "Epoch 1/5\n",
            "865/865 [==============================] - 451s 520ms/step - loss: 4.6096 - acc: 0.5951 - val_loss: 0.6020 - val_acc: 0.6540\n",
            "Epoch 2/5\n",
            "865/865 [==============================] - 448s 518ms/step - loss: 0.5601 - acc: 0.7054 - val_loss: 0.4802 - val_acc: 0.7789\n",
            "Epoch 3/5\n",
            "865/865 [==============================] - 448s 518ms/step - loss: 0.4244 - acc: 0.8041 - val_loss: 0.3355 - val_acc: 0.8641\n",
            "Epoch 4/5\n",
            "865/865 [==============================] - 447s 517ms/step - loss: 0.3022 - acc: 0.8718 - val_loss: 0.1889 - val_acc: 0.9255\n",
            "Epoch 5/5\n",
            "865/865 [==============================] - 451s 521ms/step - loss: 0.1906 - acc: 0.9244 - val_loss: 0.1269 - val_acc: 0.9554\n"
          ]
        }
      ],
      "source": [
        "# training the neural network\n",
        "history = model.fit(X_train, Y_train, validation_split=0.1, epochs=5)"
      ]
    },
    {
      "cell_type": "code",
      "execution_count": null,
      "metadata": {
        "id": "MxNcPltfJXgA",
        "colab": {
          "base_uri": "https://localhost:8080/"
        },
        "outputId": "8fc63ab9-a2d7-4033-d7dc-b937156899f8"
      },
      "outputs": [
        {
          "output_type": "stream",
          "name": "stdout",
          "text": [
            "241/241 [==============================] - 23s 94ms/step - loss: 0.1239 - acc: 0.9543\n",
            "Test Accuracy = 0.9543325304985046\n"
          ]
        }
      ],
      "source": [
        "loss, accuracy = model.evaluate(X_test, Y_test)\n",
        "print('Test Accuracy =', accuracy)"
      ]
    },
    {
      "cell_type": "code",
      "source": [
        "# Save the model\n",
        "model.save(\"my_model.h5\")"
      ],
      "metadata": {
        "id": "kRQMmL2Kwo0y"
      },
      "execution_count": null,
      "outputs": []
    },
    {
      "cell_type": "markdown",
      "source": [
        "**SVM MODEL**"
      ],
      "metadata": {
        "id": "YWI8Vq2DAHuH"
      }
    },
    {
      "cell_type": "code",
      "source": [
        "#importing dataset\n",
        "!kaggle datasets download -d timothyadeyemi/dementia-patient-health-dataset"
      ],
      "metadata": {
        "id": "Xeke646itCZ1"
      },
      "execution_count": null,
      "outputs": []
    },
    {
      "cell_type": "code",
      "source": [
        "!ls"
      ],
      "metadata": {
        "id": "4crA37b1ZSTe"
      },
      "execution_count": null,
      "outputs": []
    },
    {
      "cell_type": "code",
      "source": [
        "#extract the file\n",
        "#from zipfile import ZipFile\n",
        "\n",
        "dataset ='/content/dementia-patient-health-dataset.zip'\n",
        "\n",
        "with ZipFile(dataset, 'r') as zip:\n",
        "  zip.extractall()\n",
        "  print('The dataset is extracted')\n"
      ],
      "metadata": {
        "id": "xorTZ3xkts2Y"
      },
      "execution_count": null,
      "outputs": []
    },
    {
      "cell_type": "code",
      "source": [
        "# Load the dataset\n",
        "import pandas as pd\n",
        "\n",
        "file_path = '/content/dementia_patients_health_data.csv'\n",
        "data = pd.read_csv(file_path)"
      ],
      "metadata": {
        "id": "6q9enzugufGb"
      },
      "execution_count": null,
      "outputs": []
    },
    {
      "cell_type": "code",
      "source": [
        "from sklearn.model_selection import train_test_split\n",
        "from sklearn.impute import SimpleImputer\n",
        "from sklearn.preprocessing import StandardScaler, OneHotEncoder\n",
        "from sklearn.compose import ColumnTransformer\n",
        "from sklearn.pipeline import Pipeline\n",
        "from sklearn.linear_model import LassoCV\n",
        "from sklearn.feature_selection import SelectKBest, chi2, SelectFromModel\n",
        "from sklearn.svm import SVC\n",
        "from sklearn.metrics import accuracy_score\n",
        "#import numpy as np"
      ],
      "metadata": {
        "id": "aWNS6YnluwTL"
      },
      "execution_count": null,
      "outputs": []
    },
    {
      "cell_type": "code",
      "source": [
        "# printing the first 5 rows of the dataframe\n",
        "data.head()"
      ],
      "metadata": {
        "id": "3Zwo7YTTu-tQ"
      },
      "execution_count": null,
      "outputs": []
    },
    {
      "cell_type": "code",
      "source": [
        "data.shape\n"
      ],
      "metadata": {
        "id": "IZN02NtlvUuc"
      },
      "execution_count": null,
      "outputs": []
    },
    {
      "cell_type": "code",
      "source": [
        "data.info()"
      ],
      "metadata": {
        "id": "-pqNXTw2vkqz"
      },
      "execution_count": null,
      "outputs": []
    },
    {
      "cell_type": "code",
      "source": [
        "# checking for missing values in each column\n",
        "data.isnull().sum()"
      ],
      "metadata": {
        "id": "BhML5FMAvpjm"
      },
      "execution_count": null,
      "outputs": []
    },
    {
      "cell_type": "markdown",
      "source": [
        "Data Preprocessing"
      ],
      "metadata": {
        "id": "hoZMxlBDwp8g"
      }
    },
    {
      "cell_type": "code",
      "source": [
        "# Handle missing values\n",
        "data['Prescription'].fillna('None', inplace=True)\n",
        "data['Dosage in mg'].fillna(data['Dosage in mg'].median(), inplace=True)\n",
        "data['Chronic_Health_Conditions'].fillna('None', inplace=True)\n",
        "data.isnull().sum()"
      ],
      "metadata": {
        "id": "t3dxsNtevyzO"
      },
      "execution_count": null,
      "outputs": []
    },
    {
      "cell_type": "code",
      "source": [
        "unnecessary_columns = ['Diabetic', 'AlcoholLevel', 'HeartRate', 'BloodOxygenLevel', 'MRI_Delay', 'Age']\n",
        "data = data.drop(columns=unnecessary_columns)"
      ],
      "metadata": {
        "id": "IyeYAoCpbgHr"
      },
      "execution_count": null,
      "outputs": []
    },
    {
      "cell_type": "code",
      "source": [
        "# Split the data into features (X) and target (y)\n",
        "X = data.drop('Dementia', axis=1)\n",
        "y = data['Dementia']"
      ],
      "metadata": {
        "id": "NCFaMwcXw1HR"
      },
      "execution_count": null,
      "outputs": []
    },
    {
      "cell_type": "code",
      "source": [
        "# Identify numerical and categorical columns\n",
        "numerical_cols = X.select_dtypes(include=['int64', 'float64']).columns\n",
        "categorical_cols = X.select_dtypes(include=['object']).columns"
      ],
      "metadata": {
        "id": "S3Qhf-mmxCdn"
      },
      "execution_count": null,
      "outputs": []
    },
    {
      "cell_type": "code",
      "source": [
        "# Preprocessing pipelines for numerical and categorical data\n",
        "numerical_transformer = Pipeline(steps=[\n",
        "    ('imputer', SimpleImputer(strategy='median')),\n",
        "    ('scaler', StandardScaler())])\n",
        "\n",
        "categorical_transformer = Pipeline(steps=[\n",
        "    ('imputer', SimpleImputer(strategy='most_frequent')),\n",
        "    ('onehot', OneHotEncoder(handle_unknown='ignore'))])\n",
        "\n",
        "preprocessor = ColumnTransformer(\n",
        "    transformers=[\n",
        "        ('num', numerical_transformer, numerical_cols),\n",
        "        ('cat', categorical_transformer, categorical_cols)])\n",
        "\n",
        "# Preprocess the data\n",
        "X_preprocessed = preprocessor.fit_transform(X)"
      ],
      "metadata": {
        "id": "yMkgM8FzxJWr"
      },
      "execution_count": null,
      "outputs": []
    },
    {
      "cell_type": "code",
      "source": [
        "# Save the preprocessor for later use\n",
        "import joblib\n",
        "joblib.dump(preprocessor, 'preprocessor.pkl')"
      ],
      "metadata": {
        "id": "wNiWD-F93nGL"
      },
      "execution_count": null,
      "outputs": []
    },
    {
      "cell_type": "markdown",
      "source": [
        "Feature Selection"
      ],
      "metadata": {
        "id": "VuFPQW5oxvJE"
      }
    },
    {
      "cell_type": "code",
      "source": [
        "# Feature Selection for Numerical Data\n",
        "num_features = X_preprocessed[:, :len(numerical_cols)]\n",
        "lasso = LassoCV(cv=5, random_state=42)\n",
        "lasso.fit(num_features, y)\n",
        "model_lasso = SelectFromModel(lasso, prefit=True)\n",
        "X_selected_num = model_lasso.transform(num_features)\n",
        "\n",
        "# Feature Selection for Categorical Data\n",
        "cat_features = X_preprocessed[:, len(numerical_cols):]\n",
        "chi2_selector = SelectKBest(chi2, k='all')\n",
        "X_selected_cat = chi2_selector.fit_transform(cat_features, y)\n"
      ],
      "metadata": {
        "id": "pDTuyD2vxVIZ"
      },
      "execution_count": null,
      "outputs": []
    },
    {
      "cell_type": "code",
      "source": [
        "# Save the Lasso model\n",
        "joblib.dump(model_lasso, 'model_lasso.pkl')"
      ],
      "metadata": {
        "id": "YAUHbiC93_zq"
      },
      "execution_count": null,
      "outputs": []
    },
    {
      "cell_type": "code",
      "source": [
        "# Save the Chi-Squared selector\n",
        "joblib.dump(chi2_selector, 'chi2_selector.pkl')"
      ],
      "metadata": {
        "id": "JMWf8b8T4ImC"
      },
      "execution_count": null,
      "outputs": []
    },
    {
      "cell_type": "code",
      "source": [
        "# Display selected numerical features\n",
        "selected_numerical_features = numerical_cols[model_lasso.get_support()]\n",
        "print(\"Selected Numerical Features:\", selected_numerical_features.tolist())\n",
        "\n",
        "# Display selected numerical features\n",
        "# Map one-hot encoded features back to their original categorical features\n",
        "onehot = preprocessor.named_transformers_['cat'].named_steps['onehot']\n",
        "selected_onehot_features = onehot.get_feature_names_out(categorical_cols)[chi2_selector.get_support()]\n",
        "selected_categorical_features = np.unique([feature.split('_')[0] for feature in selected_onehot_features])\n",
        "print(\"Selected Categorical Features:\", selected_categorical_features.tolist())"
      ],
      "metadata": {
        "id": "uthi8TIEyK7C"
      },
      "execution_count": null,
      "outputs": []
    },
    {
      "cell_type": "code",
      "source": [
        "# Display not-selected numerical features\n",
        "not_selected_numerical_features = numerical_cols[~model_lasso.get_support()]\n",
        "print(\"Not Selected Numerical Features:\", not_selected_numerical_features.tolist())\n",
        "\n",
        "# Display not-selected numerical features\n",
        "# Map one-hot encoded features back to their original categorical features\n",
        "not_selected_onehot_features = onehot.get_feature_names_out(categorical_cols)[~chi2_selector.get_support()]\n",
        "not_selected_categorical_features = np.unique([feature.split('_')[0] for feature in not_selected_onehot_features])\n",
        "print(\"Not Selected Categorical Features:\", not_selected_categorical_features.tolist())"
      ],
      "metadata": {
        "id": "TiqiPwpIyXMn"
      },
      "execution_count": null,
      "outputs": []
    },
    {
      "cell_type": "code",
      "source": [
        "# Combine the selected features\n",
        "X_selected = np.hstack([X_selected_num, X_selected_cat])"
      ],
      "metadata": {
        "id": "7zH8jqRo0uhC"
      },
      "execution_count": null,
      "outputs": []
    },
    {
      "cell_type": "markdown",
      "source": [
        "Train Test Split"
      ],
      "metadata": {
        "id": "7NrWTKg61Oap"
      }
    },
    {
      "cell_type": "code",
      "source": [
        "X_train, X_test, y_train, y_test = train_test_split(X_selected, y, test_size=0.2, random_state=42)"
      ],
      "metadata": {
        "id": "xq4KYm8P1LYN"
      },
      "execution_count": null,
      "outputs": []
    },
    {
      "cell_type": "markdown",
      "source": [
        "SVM"
      ],
      "metadata": {
        "id": "eMrUlmPZ1sXh"
      }
    },
    {
      "cell_type": "code",
      "source": [
        "svm = SVC(kernel='linear', random_state=42)\n"
      ],
      "metadata": {
        "id": "4PA3-FI51Ybz"
      },
      "execution_count": null,
      "outputs": []
    },
    {
      "cell_type": "code",
      "source": [
        "# training the SVM model with training data\n",
        "svm.fit(X_train, y_train)"
      ],
      "metadata": {
        "id": "1zvgDMIa2Ujv"
      },
      "execution_count": null,
      "outputs": []
    },
    {
      "cell_type": "markdown",
      "source": [
        "Model Evaluation\n",
        "\n",
        "\n",
        "Accuracy Score"
      ],
      "metadata": {
        "id": "-acA7xB12i1G"
      }
    },
    {
      "cell_type": "code",
      "source": [
        "# accuracy score on training data\n",
        "X_train_prediction = svm.predict(X_train)\n",
        "training_data_accuracy = accuracy_score(y_train, X_train_prediction)\n",
        "print('Accuracy score of the training data : ', training_data_accuracy)"
      ],
      "metadata": {
        "id": "sSEz_MHV3n4B"
      },
      "execution_count": null,
      "outputs": []
    },
    {
      "cell_type": "code",
      "source": [
        "# accuracy score for testing data\n",
        "X_test_prediction = svm.predict(X_test)\n",
        "test_data_accuracy = accuracy_score(y_test, X_test_prediction)\n",
        "print('Accuracy score of the test data : ', test_data_accuracy)"
      ],
      "metadata": {
        "id": "dK61HDmX3y0S"
      },
      "execution_count": null,
      "outputs": []
    },
    {
      "cell_type": "code",
      "source": [
        "from sklearn.metrics import classification_report, accuracy_score\n",
        "report = classification_report(y_test, X_test_prediction)\n",
        "print(report)"
      ],
      "metadata": {
        "id": "b0J_7MWnqiNb"
      },
      "execution_count": null,
      "outputs": []
    },
    {
      "cell_type": "code",
      "source": [
        "# save model\n",
        "import pickle\n",
        "filename = 'svm_model.sav'\n",
        "pickle.dump(svm, open(filename, 'wb'))"
      ],
      "metadata": {
        "id": "3JYX6e_14qJU"
      },
      "execution_count": null,
      "outputs": []
    },
    {
      "cell_type": "markdown",
      "source": [
        "User input and prediction system"
      ],
      "metadata": {
        "id": "Ft3bIMbR5DhZ"
      }
    },
    {
      "cell_type": "code",
      "source": [
        "import cv2\n",
        "from google.colab.patches import cv2_imshow\n",
        "from tensorflow.keras.models import load_model\n",
        "import ipywidgets as widgets\n",
        "from IPython.display import display\n",
        "import numpy as np\n",
        "import pandas as pd\n",
        "\n",
        "# Load the MRI image model\n",
        "loaded_image_model = load_model(\"my_model.h5\")\n",
        "\n",
        "# Load the SVM model and other preprocessors\n",
        "import joblib\n",
        "svm = joblib.load(\"svm_model.sav\")\n",
        "preprocessor = joblib.load(\"preprocessor.pkl\")\n",
        "model_lasso = joblib.load(\"model_lasso.pkl\")\n",
        "chi2_selector = joblib.load(\"chi2_selector.pkl\")\n",
        "\n",
        "# List of numerical columns\n",
        "numerical_cols = ['BodyTemperature', 'Weight', 'Dosage in mg', 'Cognitive_Test_Scores']\n",
        "\n",
        "def predict_image(image_path):\n",
        "    input_image = cv2.imread(image_path)\n",
        "    input_image_resized = cv2.resize(input_image, (256,256))\n",
        "    input_image_reshaped = np.reshape(input_image_resized, [1,256,256,3])\n",
        "    input_prediction = loaded_image_model.predict(input_image_reshaped)\n",
        "    input_pred_label = np.argmax(input_prediction)\n",
        "    return 'Dementia' if input_pred_label == 1 else 'No Dementia'\n",
        "\n",
        "# Create a file upload widget\n",
        "file_upload = widgets.FileUpload(accept='.jpg,.jpeg,.png')\n",
        "\n",
        "# Define a function to handle file upload\n",
        "def on_file_upload(change):\n",
        "    if file_upload.value:\n",
        "        file_contents = file_upload.value[next(iter(file_upload.value))]\n",
        "        with open('uploaded_image.jpg', 'wb') as f:\n",
        "            f.write(file_contents['content'])\n",
        "        print('Image uploaded successfully!')\n",
        "        image_prediction = predict_image('uploaded_image.jpg')\n",
        "        print(\"MRI Prediction:\", image_prediction)\n",
        "\n",
        "file_upload.observe(on_file_upload, names='_counter')\n",
        "display(file_upload)\n",
        "\n",
        "def predict_dementia_svm(user_input):\n",
        "    # Convert user input to DataFrame\n",
        "    user_df = pd.DataFrame([user_input])\n",
        "\n",
        "    # Preprocess the user input\n",
        "    user_preprocessed = preprocessor.transform(user_df)\n",
        "\n",
        "    # Select numerical features\n",
        "    user_selected_num = model_lasso.transform(user_preprocessed[:, :len(numerical_cols)])\n",
        "\n",
        "    # Select categorical features\n",
        "    user_selected_cat = chi2_selector.transform(user_preprocessed[:, len(numerical_cols):])\n",
        "\n",
        "    # Combine selected features\n",
        "    user_selected = np.hstack([user_selected_num, user_selected_cat])\n",
        "\n",
        "    # Make prediction\n",
        "    prediction = svm.predict(user_selected)\n",
        "    return \"Dementia Positive\" if prediction[0] == 1 else \"Dementia Negative\"\n",
        "\n",
        "def get_user_input():\n",
        "    user_input = {}\n",
        "\n",
        "\n",
        "    # Numerical inputs (as per dataset format)\n",
        "    user_input['BodyTemperature'] = float(input(\"Enter Body Temperature (°C): \"))\n",
        "    user_input['Weight'] = float(input(\"Enter Weight (kg): \"))\n",
        "    user_input['Dosage in mg'] = float(input(\"Enter Dosage in mg: \"))\n",
        "    user_input['Cognitive_Test_Scores'] = float(input(\"Enter Cognitive Test Scores: \"))\n",
        "\n",
        "    # Categorical inputs (matching dataset categories)\n",
        "    user_input['Prescription'] = input(\"Enter Prescription (e.g., None, Antidepressant, Antipsychotic): \")\n",
        "    user_input['Education_Level'] = input(\"Enter Education Level (e.g., Primary, Secondary, College, Graduate): \")\n",
        "    user_input['Dominant_Hand'] = input(\"Enter Dominant Hand (e.g., Right, Left): \")\n",
        "    user_input['Gender'] = input(\"Enter Gender (e.g., Male, Female): \")\n",
        "    user_input['Family_History'] = input(\"Enter Family History of Dementia (Yes/No): \")\n",
        "    user_input['Smoking_Status'] = input(\"Enter Smoking Status (e.g., Never, Former, Current): \")\n",
        "    user_input['APOE_ε4'] = input(\"Enter APOE ε4 status (e.g., E2/E2, E3/E4, E4/E4): \")\n",
        "    user_input['Physical_Activity'] = input(\"Enter Physical Activity Level (e.g., Sedentary, Active, Very Active): \")\n",
        "    user_input['Depression_Status'] = input(\"Enter Depression Status (e.g., Yes, No): \")\n",
        "    user_input['Medication_History'] = input(\"Enter Medication History (e.g., Antidepressants, Antihypertensives): \")\n",
        "    user_input['Nutrition_Diet'] = input(\"Enter Nutrition Diet (e.g., Balanced, High-fat, Low-carb): \")\n",
        "    user_input['Sleep_Quality'] = input(\"Enter Sleep Quality (e.g., Poor, Fair, Good): \")\n",
        "    user_input['Chronic_Health_Conditions'] = input(\"Enter Chronic Health Conditions (e.g., Diabetes, Hypertension, None): \")\n",
        "\n",
        "    return user_input\n",
        "\n",
        "def multimodal_prediction(image_path, user_input):\n",
        "    image_prediction = predict_image(image_path)\n",
        "    svm_prediction = predict_dementia_svm(user_input)\n",
        "\n",
        "    if image_prediction == \"Dementia\" or svm_prediction == \"Dementia Positive\":\n",
        "        final_prediction = \"Dementia Positive\"\n",
        "    else:\n",
        "        final_prediction = \"Dementia Negative\"\n",
        "\n",
        "    return final_prediction\n",
        "\n",
        "\n",
        "user_input = get_user_input()\n",
        "file_upload.observe(lambda change: print(\"Final Prediction:\", multimodal_prediction('uploaded_image.jpg', user_input)), names='_counter')"
      ],
      "metadata": {
        "id": "--PBW7WR0ZMo"
      },
      "execution_count": null,
      "outputs": []
    },
    {
      "cell_type": "code",
      "execution_count": null,
      "metadata": {
        "colab": {
          "base_uri": "https://localhost:8080/"
        },
        "outputId": "8e0b29e2-4e0c-4b13-f8f7-01b2472ecf1f",
        "id": "O68ddTIXk9u5"
      },
      "outputs": [
        {
          "output_type": "stream",
          "name": "stdout",
          "text": [
            "Requirement already satisfied: kaggle in /usr/local/lib/python3.10/dist-packages (1.6.17)\n",
            "Requirement already satisfied: six>=1.10 in /usr/local/lib/python3.10/dist-packages (from kaggle) (1.16.0)\n",
            "Requirement already satisfied: certifi>=2023.7.22 in /usr/local/lib/python3.10/dist-packages (from kaggle) (2024.7.4)\n",
            "Requirement already satisfied: python-dateutil in /usr/local/lib/python3.10/dist-packages (from kaggle) (2.9.0.post0)\n",
            "Requirement already satisfied: requests in /usr/local/lib/python3.10/dist-packages (from kaggle) (2.32.3)\n",
            "Requirement already satisfied: tqdm in /usr/local/lib/python3.10/dist-packages (from kaggle) (4.66.5)\n",
            "Requirement already satisfied: python-slugify in /usr/local/lib/python3.10/dist-packages (from kaggle) (8.0.4)\n",
            "Requirement already satisfied: urllib3 in /usr/local/lib/python3.10/dist-packages (from kaggle) (2.0.7)\n",
            "Requirement already satisfied: bleach in /usr/local/lib/python3.10/dist-packages (from kaggle) (6.1.0)\n",
            "Requirement already satisfied: webencodings in /usr/local/lib/python3.10/dist-packages (from bleach->kaggle) (0.5.1)\n",
            "Requirement already satisfied: text-unidecode>=1.3 in /usr/local/lib/python3.10/dist-packages (from python-slugify->kaggle) (1.3)\n",
            "Requirement already satisfied: charset-normalizer<4,>=2 in /usr/local/lib/python3.10/dist-packages (from requests->kaggle) (3.3.2)\n",
            "Requirement already satisfied: idna<4,>=2.5 in /usr/local/lib/python3.10/dist-packages (from requests->kaggle) (3.8)\n"
          ]
        }
      ],
      "source": [
        "!pip install kaggle"
      ]
    },
    {
      "cell_type": "code",
      "execution_count": null,
      "metadata": {
        "id": "NqqCSyark9u5"
      },
      "outputs": [],
      "source": [
        "# configuring the path of Kaggle.json file\n",
        "!mkdir -p ~/.kaggle\n",
        "!cp kaggle.json ~/.kaggle/\n",
        "!chmod 600 ~/.kaggle/kaggle.json"
      ]
    },
    {
      "cell_type": "markdown",
      "source": [
        "CNN MODEL"
      ],
      "metadata": {
        "id": "_1tZT9Dwk9u5"
      }
    },
    {
      "cell_type": "code",
      "execution_count": null,
      "metadata": {
        "colab": {
          "base_uri": "https://localhost:8080/"
        },
        "outputId": "ae21c55b-fb75-49e8-dac7-9a26059471ec",
        "id": "OBTA8hDVk9u6"
      },
      "outputs": [
        {
          "output_type": "stream",
          "name": "stdout",
          "text": [
            "Dataset URL: https://www.kaggle.com/datasets/ninadaithal/imagesoasis\n",
            "License(s): apache-2.0\n",
            "Downloading imagesoasis.zip to /content\n",
            "100% 1.23G/1.23G [00:06<00:00, 199MB/s]\n",
            "100% 1.23G/1.23G [00:06<00:00, 213MB/s]\n"
          ]
        }
      ],
      "source": [
        "!kaggle datasets download -d ninadaithal/imagesoasis"
      ]
    },
    {
      "cell_type": "code",
      "execution_count": null,
      "metadata": {
        "colab": {
          "base_uri": "https://localhost:8080/"
        },
        "outputId": "886ac65e-4969-4bac-87f5-ac448bff09bb",
        "id": "hsh-5msik9u6"
      },
      "outputs": [
        {
          "output_type": "stream",
          "name": "stdout",
          "text": [
            "imagesoasis.zip  kaggle.json  sample_data\n"
          ]
        }
      ],
      "source": [
        "!ls"
      ]
    },
    {
      "cell_type": "code",
      "execution_count": null,
      "metadata": {
        "colab": {
          "base_uri": "https://localhost:8080/"
        },
        "outputId": "8059dce6-958e-47ba-ba8a-d3b2956e8802",
        "id": "YK0tCMeqk9u6"
      },
      "outputs": [
        {
          "output_type": "stream",
          "name": "stdout",
          "text": [
            "The dataset is extracted\n"
          ]
        }
      ],
      "source": [
        "#extract the file\n",
        "from zipfile import ZipFile\n",
        "\n",
        "# dataset='bone-fracture-detection-using-xrays.zip'\n",
        "\n",
        "dataset = '/content/imagesoasis.zip'\n",
        "\n",
        "with ZipFile(dataset, 'r') as zip:\n",
        "  zip.extractall()\n",
        "  print('The dataset is extracted')"
      ]
    },
    {
      "cell_type": "code",
      "execution_count": null,
      "metadata": {
        "id": "_9IHCo_Pk9u6"
      },
      "outputs": [],
      "source": [
        "import os\n",
        "import numpy as np\n",
        "import matplotlib.pyplot as plt\n",
        "import matplotlib.image as mpimg\n",
        "import cv2\n",
        "from google.colab.patches import cv2_imshow\n",
        "from PIL import Image\n",
        "from sklearn.model_selection import train_test_split"
      ]
    },
    {
      "cell_type": "code",
      "execution_count": null,
      "metadata": {
        "id": "fTysKHkok9u7"
      },
      "outputs": [],
      "source": [
        "mild_dementia_files=os.listdir('/content/Data/Mild Dementia')"
      ]
    },
    {
      "cell_type": "code",
      "execution_count": null,
      "metadata": {
        "id": "YzKirhiAk9u7"
      },
      "outputs": [],
      "source": [
        "moderate_dementia_files=os.listdir('/content/Data/Moderate Dementia')"
      ]
    },
    {
      "cell_type": "code",
      "execution_count": null,
      "metadata": {
        "id": "EQS4cO0Lk9u7"
      },
      "outputs": [],
      "source": [
        "very_mild_dementia_files=os.listdir('/content/Data/Very mild Dementia')"
      ]
    },
    {
      "cell_type": "code",
      "execution_count": null,
      "metadata": {
        "id": "35hOtywlk9u7"
      },
      "outputs": [],
      "source": [
        "non_dementia_files=os.listdir('/content/Data/Non Demented')"
      ]
    },
    {
      "cell_type": "code",
      "source": [
        "dementia_files=mild_dementia_files+moderate_dementia_files+very_mild_dementia_files"
      ],
      "metadata": {
        "id": "uGWe-yyAk9u8"
      },
      "execution_count": null,
      "outputs": []
    },
    {
      "cell_type": "code",
      "execution_count": null,
      "metadata": {
        "colab": {
          "base_uri": "https://localhost:8080/"
        },
        "outputId": "8e4ea527-f63e-410c-ec09-a3c10723c041",
        "id": "gS92yOYNk9u8"
      },
      "outputs": [
        {
          "output_type": "stream",
          "name": "stdout",
          "text": [
            "Number of non dementia images: 67222\n",
            "Number of dementia images: 19215\n"
          ]
        }
      ],
      "source": [
        "# print('Number of mild dementia images:', len(mild_dementia_files))\n",
        "# print('Number of with moderate dementia images:', len(moderate_dementia_files))\n",
        "# print('Number of very mild dementia images:', len(very_mild_dementia_files))\n",
        "print('Number of non dementia images:', len(non_dementia_files))\n",
        "print('Number of dementia images:', len(dementia_files))"
      ]
    },
    {
      "cell_type": "markdown",
      "metadata": {
        "id": "IlXyao9zk9u8"
      },
      "source": [
        "Creating Labels for the two class of Images\n",
        "\n",
        "dementia --> 1\n",
        "non dementia --> 0"
      ]
    },
    {
      "cell_type": "code",
      "execution_count": null,
      "metadata": {
        "id": "M4VuevBZk9u8"
      },
      "outputs": [],
      "source": [
        "# create the labels\n",
        "\n",
        "dementia_labels = [1]*19215\n",
        "\n",
        "non_dementia_lables = [0]*19215\n"
      ]
    },
    {
      "cell_type": "code",
      "execution_count": null,
      "metadata": {
        "colab": {
          "base_uri": "https://localhost:8080/"
        },
        "outputId": "5a68dcc7-f340-48ee-bbd8-2a4f8ac2c3ef",
        "id": "KLrgVQGHk9u8"
      },
      "outputs": [
        {
          "output_type": "stream",
          "name": "stdout",
          "text": [
            "[1, 1, 1, 1, 1]\n",
            "[0, 0, 0, 0, 0]\n"
          ]
        }
      ],
      "source": [
        "# print(mild_dementia_labels[0:5])\n",
        "\n",
        "# print(moderate_dementia_labels[0:5])\n",
        "\n",
        "# print(very_mild_dementia_labels[0:5])\n",
        "print(dementia_labels[0:5])\n",
        "\n",
        "print(non_dementia_lables[0:5])"
      ]
    },
    {
      "cell_type": "code",
      "execution_count": null,
      "metadata": {
        "colab": {
          "base_uri": "https://localhost:8080/"
        },
        "outputId": "d6f456cb-45af-4648-b434-bb171a655c74",
        "id": "jVpYBrDTk9u9"
      },
      "outputs": [
        {
          "output_type": "stream",
          "name": "stdout",
          "text": [
            "19215\n",
            "19215\n"
          ]
        }
      ],
      "source": [
        "# print(len(mild_dementia_labels))\n",
        "\n",
        "# print(len(moderate_dementia_labels))\n",
        "\n",
        "# print(len(very_mild_dementia_labels))\n",
        "print(len(dementia_labels))\n",
        "\n",
        "print(len(non_dementia_lables))"
      ]
    },
    {
      "cell_type": "code",
      "execution_count": null,
      "metadata": {
        "colab": {
          "base_uri": "https://localhost:8080/"
        },
        "outputId": "e904feed-f374-4198-d575-2c46753c240b",
        "id": "02Orq_Sgk9u9"
      },
      "outputs": [
        {
          "output_type": "stream",
          "name": "stdout",
          "text": [
            "38430\n",
            "[1, 1, 1, 1, 1]\n",
            "[0, 0, 0, 0, 0]\n"
          ]
        }
      ],
      "source": [
        "labels = dementia_labels+non_dementia_lables\n",
        "\n",
        "print(len(labels))\n",
        "print(labels[0:5])\n",
        "print(labels[-5:])"
      ]
    },
    {
      "cell_type": "markdown",
      "metadata": {
        "id": "x7QYvc55k9u9"
      },
      "source": [
        "Image Processing\n",
        "\n",
        "Resize the Images\n",
        "\n",
        "Convert the images to numpy arrays"
      ]
    },
    {
      "cell_type": "code",
      "execution_count": null,
      "metadata": {
        "id": "lBm9BcSwk9u-"
      },
      "outputs": [],
      "source": [
        "# convert images to numpy arrays+\n",
        "data = []\n",
        "\n",
        "# Define paths for each category\n",
        "dementia_paths = [\n",
        "    '/content/Data/Mild Dementia/',\n",
        "    '/content/Data/Moderate Dementia/',\n",
        "    '/content/Data/Very mild Dementia/'\n",
        "]\n",
        "\n",
        "# Loop through each dementia path\n",
        "for dementia_path in dementia_paths:\n",
        "    for img_file in os.listdir(dementia_path):  # list files in the directory\n",
        "        image = Image.open(dementia_path + img_file)\n",
        "        image = image.resize((256, 256))\n",
        "        image = image.convert('RGB')\n",
        "        image = np.array(image)\n",
        "        data.append(image)\n",
        "\n",
        "\n",
        "non_dementia_path='/content/Data/Non Demented/'\n",
        "\n",
        "#slicing to get first 19215 images\n",
        "for img_file in non_dementia_files[:19215]:\n",
        "\n",
        "  image = Image.open(non_dementia_path + img_file)\n",
        "  image = image.resize((256,256))\n",
        "  image = image.convert('RGB')\n",
        "  image = np.array(image)\n",
        "  data.append(image)"
      ]
    },
    {
      "cell_type": "code",
      "execution_count": null,
      "metadata": {
        "colab": {
          "base_uri": "https://localhost:8080/"
        },
        "outputId": "8b9ccd62-92ac-4e6f-bd04-5ca971be680e",
        "id": "0zRrDSMZk9u-"
      },
      "outputs": [
        {
          "output_type": "execute_result",
          "data": {
            "text/plain": [
              "list"
            ]
          },
          "metadata": {},
          "execution_count": 18
        }
      ],
      "source": [
        "type(data)"
      ]
    },
    {
      "cell_type": "code",
      "execution_count": null,
      "metadata": {
        "colab": {
          "base_uri": "https://localhost:8080/"
        },
        "outputId": "d9881722-3062-4afd-e559-8e2da5f1f9e4",
        "id": "9tiI6bJCk9u-"
      },
      "outputs": [
        {
          "output_type": "execute_result",
          "data": {
            "text/plain": [
              "38430"
            ]
          },
          "metadata": {},
          "execution_count": 19
        }
      ],
      "source": [
        "len(data)"
      ]
    },
    {
      "cell_type": "code",
      "execution_count": null,
      "metadata": {
        "colab": {
          "base_uri": "https://localhost:8080/",
          "height": 296
        },
        "outputId": "232fcbf7-e704-4ff7-e1fc-2cc0d7b0d91d",
        "id": "f44oVYomk9u_"
      },
      "outputs": [
        {
          "output_type": "execute_result",
          "data": {
            "text/plain": [
              "array([[[0, 0, 0],\n",
              "        [0, 0, 0],\n",
              "        [0, 0, 0],\n",
              "        ...,\n",
              "        [0, 0, 0],\n",
              "        [0, 0, 0],\n",
              "        [0, 0, 0]],\n",
              "\n",
              "       [[0, 0, 0],\n",
              "        [0, 0, 0],\n",
              "        [0, 0, 0],\n",
              "        ...,\n",
              "        [0, 0, 0],\n",
              "        [0, 0, 0],\n",
              "        [0, 0, 0]],\n",
              "\n",
              "       [[0, 0, 0],\n",
              "        [0, 0, 0],\n",
              "        [0, 0, 0],\n",
              "        ...,\n",
              "        [0, 0, 0],\n",
              "        [0, 0, 0],\n",
              "        [0, 0, 0]],\n",
              "\n",
              "       ...,\n",
              "\n",
              "       [[0, 0, 0],\n",
              "        [0, 0, 0],\n",
              "        [0, 0, 0],\n",
              "        ...,\n",
              "        [0, 0, 0],\n",
              "        [0, 0, 0],\n",
              "        [0, 0, 0]],\n",
              "\n",
              "       [[0, 0, 0],\n",
              "        [0, 0, 0],\n",
              "        [0, 0, 0],\n",
              "        ...,\n",
              "        [0, 0, 0],\n",
              "        [0, 0, 0],\n",
              "        [0, 0, 0]],\n",
              "\n",
              "       [[0, 0, 0],\n",
              "        [0, 0, 0],\n",
              "        [0, 0, 0],\n",
              "        ...,\n",
              "        [0, 0, 0],\n",
              "        [0, 0, 0],\n",
              "        [0, 0, 0]]], dtype=uint8)"
            ],
            "text/html": [
              "<style>\n",
              "      .ndarray_repr .ndarray_raw_data {\n",
              "        display: none;\n",
              "      }\n",
              "      .ndarray_repr.show_array .ndarray_raw_data {\n",
              "        display: block;\n",
              "      }\n",
              "      .ndarray_repr.show_array .ndarray_image_preview {\n",
              "        display: none;\n",
              "      }\n",
              "      </style>\n",
              "      <div id=\"id-ec1c5efc-62b9-4498-8857-08e900093c6b\" class=\"ndarray_repr\"><pre>ndarray (256, 256, 3) <button style=\"padding: 0 2px;\">show data</button></pre><img src=\"data:image/png;base64,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\" class=\"ndarray_image_preview\" /><pre class=\"ndarray_raw_data\">array([[[0, 0, 0],\n",
              "        [0, 0, 0],\n",
              "        [0, 0, 0],\n",
              "        ...,\n",
              "        [0, 0, 0],\n",
              "        [0, 0, 0],\n",
              "        [0, 0, 0]],\n",
              "\n",
              "       [[0, 0, 0],\n",
              "        [0, 0, 0],\n",
              "        [0, 0, 0],\n",
              "        ...,\n",
              "        [0, 0, 0],\n",
              "        [0, 0, 0],\n",
              "        [0, 0, 0]],\n",
              "\n",
              "       [[0, 0, 0],\n",
              "        [0, 0, 0],\n",
              "        [0, 0, 0],\n",
              "        ...,\n",
              "        [0, 0, 0],\n",
              "        [0, 0, 0],\n",
              "        [0, 0, 0]],\n",
              "\n",
              "       ...,\n",
              "\n",
              "       [[0, 0, 0],\n",
              "        [0, 0, 0],\n",
              "        [0, 0, 0],\n",
              "        ...,\n",
              "        [0, 0, 0],\n",
              "        [0, 0, 0],\n",
              "        [0, 0, 0]],\n",
              "\n",
              "       [[0, 0, 0],\n",
              "        [0, 0, 0],\n",
              "        [0, 0, 0],\n",
              "        ...,\n",
              "        [0, 0, 0],\n",
              "        [0, 0, 0],\n",
              "        [0, 0, 0]],\n",
              "\n",
              "       [[0, 0, 0],\n",
              "        [0, 0, 0],\n",
              "        [0, 0, 0],\n",
              "        ...,\n",
              "        [0, 0, 0],\n",
              "        [0, 0, 0],\n",
              "        [0, 0, 0]]], dtype=uint8)</pre></div><script>\n",
              "      (() => {\n",
              "      const titles = ['show data', 'hide data'];\n",
              "      let index = 0\n",
              "      document.querySelector('#id-ec1c5efc-62b9-4498-8857-08e900093c6b button').onclick = (e) => {\n",
              "        document.querySelector('#id-ec1c5efc-62b9-4498-8857-08e900093c6b').classList.toggle('show_array');\n",
              "        index = (++index) % 2;\n",
              "        document.querySelector('#id-ec1c5efc-62b9-4498-8857-08e900093c6b button').textContent = titles[index];\n",
              "        e.preventDefault();\n",
              "        e.stopPropagation();\n",
              "      }\n",
              "      })();\n",
              "    </script>"
            ]
          },
          "metadata": {},
          "execution_count": 20
        }
      ],
      "source": [
        "data[0]"
      ]
    },
    {
      "cell_type": "code",
      "execution_count": null,
      "metadata": {
        "colab": {
          "base_uri": "https://localhost:8080/"
        },
        "outputId": "a26146f0-38e5-4377-9e1c-04848a7c09b6",
        "id": "RXTUPXsPk9u_"
      },
      "outputs": [
        {
          "output_type": "execute_result",
          "data": {
            "text/plain": [
              "numpy.ndarray"
            ]
          },
          "metadata": {},
          "execution_count": 21
        }
      ],
      "source": [
        "type(data[0])"
      ]
    },
    {
      "cell_type": "code",
      "execution_count": null,
      "metadata": {
        "colab": {
          "base_uri": "https://localhost:8080/"
        },
        "outputId": "d98c5821-6a34-428e-cefa-34a7cc5b46e5",
        "id": "t6Np3aqzk9u_"
      },
      "outputs": [
        {
          "output_type": "execute_result",
          "data": {
            "text/plain": [
              "(256, 256, 3)"
            ]
          },
          "metadata": {},
          "execution_count": 22
        }
      ],
      "source": [
        "data[0].shape"
      ]
    },
    {
      "cell_type": "code",
      "execution_count": null,
      "metadata": {
        "id": "nmaHVmHQk9vA"
      },
      "outputs": [],
      "source": [
        "# converting image list and label list to numpy arrays\n",
        "\n",
        "X = np.array(data)\n",
        "Y = np.array(labels)"
      ]
    },
    {
      "cell_type": "code",
      "execution_count": null,
      "metadata": {
        "colab": {
          "base_uri": "https://localhost:8080/"
        },
        "outputId": "cfe80bec-a2bb-4035-a20b-cc24ecc1e707",
        "id": "G-VxIzy9k9vA"
      },
      "outputs": [
        {
          "output_type": "execute_result",
          "data": {
            "text/plain": [
              "numpy.ndarray"
            ]
          },
          "metadata": {},
          "execution_count": 24
        }
      ],
      "source": [
        "type(X)"
      ]
    },
    {
      "cell_type": "code",
      "execution_count": null,
      "metadata": {
        "colab": {
          "base_uri": "https://localhost:8080/"
        },
        "outputId": "0fefad64-6c12-4d38-b6f7-3af082892909",
        "id": "jB_txZ20k9vA"
      },
      "outputs": [
        {
          "output_type": "execute_result",
          "data": {
            "text/plain": [
              "numpy.ndarray"
            ]
          },
          "metadata": {},
          "execution_count": 25
        }
      ],
      "source": [
        "type(Y)"
      ]
    },
    {
      "cell_type": "code",
      "execution_count": null,
      "metadata": {
        "colab": {
          "base_uri": "https://localhost:8080/"
        },
        "outputId": "2879673a-bf8b-4ac0-ea3d-1d04328831de",
        "id": "AFYQqdudk9vA"
      },
      "outputs": [
        {
          "output_type": "stream",
          "name": "stdout",
          "text": [
            "(38430, 256, 256, 3)\n",
            "(38430,)\n"
          ]
        }
      ],
      "source": [
        "print(X.shape)\n",
        "print(Y.shape)"
      ]
    },
    {
      "cell_type": "code",
      "execution_count": null,
      "metadata": {
        "colab": {
          "base_uri": "https://localhost:8080/"
        },
        "outputId": "06a72c30-9a04-432b-835c-9e730fe755c4",
        "id": "lWAEv41Rk9vB"
      },
      "outputs": [
        {
          "output_type": "stream",
          "name": "stdout",
          "text": [
            "[1 1 1 ... 0 0 0]\n"
          ]
        }
      ],
      "source": [
        "print(Y)"
      ]
    },
    {
      "cell_type": "markdown",
      "metadata": {
        "id": "JaqA10HPk9vB"
      },
      "source": [
        "Train Test Split"
      ]
    },
    {
      "cell_type": "code",
      "execution_count": null,
      "metadata": {
        "id": "BKpganfYk9vB"
      },
      "outputs": [],
      "source": [
        "X_train, X_test, Y_train, Y_test = train_test_split(X, Y, test_size=0.2, random_state=2)"
      ]
    },
    {
      "cell_type": "code",
      "source": [
        "print(X.shape, X_train.shape, X_test.shape)"
      ],
      "metadata": {
        "colab": {
          "base_uri": "https://localhost:8080/"
        },
        "outputId": "d38a800d-bc6c-4b4b-e31f-90d2b665ae5d",
        "id": "ScA66AK5k9vB"
      },
      "execution_count": null,
      "outputs": [
        {
          "output_type": "stream",
          "name": "stdout",
          "text": [
            "(38430, 256, 256, 3) (30744, 256, 256, 3) (7686, 256, 256, 3)\n"
          ]
        }
      ]
    },
    {
      "cell_type": "markdown",
      "metadata": {
        "id": "Q2kI2nj9k9vC"
      },
      "source": [
        "Building a Convolutional Neural Networks (CNN)"
      ]
    },
    {
      "cell_type": "code",
      "execution_count": null,
      "metadata": {
        "id": "CiBgNZckk9vC"
      },
      "outputs": [],
      "source": [
        "import tensorflow as tf\n",
        "from tensorflow import keras"
      ]
    },
    {
      "cell_type": "code",
      "execution_count": null,
      "metadata": {
        "id": "I2YOd19xk9vC"
      },
      "outputs": [],
      "source": [
        "num_of_classes = 2\n",
        "\n",
        "model = keras.Sequential()\n",
        "\n",
        "model.add(keras.layers.Conv2D(32, kernel_size=(3,3), activation='relu', input_shape=(256,256,3)))#ReLu-Rectified linear Unit\n",
        "model.add(keras.layers.MaxPooling2D(pool_size=(2,2)))\n",
        "\n",
        "\n",
        "model.add(keras.layers.Conv2D(64, kernel_size=(3,3), activation='relu'))\n",
        "model.add(keras.layers.MaxPooling2D(pool_size=(2,2)))\n",
        "\n",
        "# Flattens the input data into a 1D array, preparing it for input into the dense layers.\n",
        "model.add(keras.layers.Flatten())\n",
        "\n",
        "model.add(keras.layers.Dense(128, activation='relu'))\n",
        "model.add(keras.layers.Dropout(0.5))\n",
        "\n",
        "model.add(keras.layers.Dense(64, activation='relu'))\n",
        "model.add(keras.layers.Dropout(0.5))\n",
        "\n",
        "\n",
        "model.add(keras.layers.Dense(num_of_classes, activation='sigmoid'))"
      ]
    },
    {
      "cell_type": "code",
      "execution_count": null,
      "metadata": {
        "id": "iarG_KIak9vC"
      },
      "outputs": [],
      "source": [
        "# compile the neural network\n",
        "# sparse_categorical_crossentropy-It measures the difference between the predicted probability distribution and the true distribution of the labels.\n",
        "model.compile(optimizer='adam',\n",
        "              loss='sparse_categorical_crossentropy',\n",
        "              metrics=['acc'])"
      ]
    },
    {
      "cell_type": "code",
      "execution_count": null,
      "metadata": {
        "colab": {
          "base_uri": "https://localhost:8080/"
        },
        "outputId": "75cb6b72-1812-4c44-e7a8-6eb71661ee5d",
        "id": "HkMs4CWzk9vC"
      },
      "outputs": [
        {
          "output_type": "stream",
          "name": "stdout",
          "text": [
            "Epoch 1/5\n",
            "865/865 [==============================] - 451s 520ms/step - loss: 4.6096 - acc: 0.5951 - val_loss: 0.6020 - val_acc: 0.6540\n",
            "Epoch 2/5\n",
            "865/865 [==============================] - 448s 518ms/step - loss: 0.5601 - acc: 0.7054 - val_loss: 0.4802 - val_acc: 0.7789\n",
            "Epoch 3/5\n",
            "865/865 [==============================] - 448s 518ms/step - loss: 0.4244 - acc: 0.8041 - val_loss: 0.3355 - val_acc: 0.8641\n",
            "Epoch 4/5\n",
            "865/865 [==============================] - 447s 517ms/step - loss: 0.3022 - acc: 0.8718 - val_loss: 0.1889 - val_acc: 0.9255\n",
            "Epoch 5/5\n",
            "865/865 [==============================] - 451s 521ms/step - loss: 0.1906 - acc: 0.9244 - val_loss: 0.1269 - val_acc: 0.9554\n"
          ]
        }
      ],
      "source": [
        "# training the neural network\n",
        "history = model.fit(X_train, Y_train, validation_split=0.1, epochs=5)"
      ]
    },
    {
      "cell_type": "code",
      "execution_count": null,
      "metadata": {
        "colab": {
          "base_uri": "https://localhost:8080/"
        },
        "outputId": "8fc63ab9-a2d7-4033-d7dc-b937156899f8",
        "id": "Q8C5mAYck9vC"
      },
      "outputs": [
        {
          "output_type": "stream",
          "name": "stdout",
          "text": [
            "241/241 [==============================] - 23s 94ms/step - loss: 0.1239 - acc: 0.9543\n",
            "Test Accuracy = 0.9543325304985046\n"
          ]
        }
      ],
      "source": [
        "loss, accuracy = model.evaluate(X_test, Y_test)\n",
        "print('Test Accuracy =', accuracy)"
      ]
    },
    {
      "cell_type": "code",
      "source": [
        "# Save the model\n",
        "model.save(\"my_model.h5\")"
      ],
      "metadata": {
        "id": "O1PT_yd2k9vD"
      },
      "execution_count": null,
      "outputs": []
    },
    {
      "cell_type": "markdown",
      "source": [
        "**SVM MODEL**"
      ],
      "metadata": {
        "id": "MuL8FwE1k9vD"
      }
    },
    {
      "cell_type": "code",
      "source": [
        "#importing dataset\n",
        "!kaggle datasets download -d timothyadeyemi/dementia-patient-health-dataset"
      ],
      "metadata": {
        "id": "SDzuLp5Zk9vD"
      },
      "execution_count": null,
      "outputs": []
    },
    {
      "cell_type": "code",
      "source": [
        "!ls"
      ],
      "metadata": {
        "id": "sn1ZTM_8k9vD"
      },
      "execution_count": null,
      "outputs": []
    },
    {
      "cell_type": "code",
      "source": [
        "#extract the file\n",
        "#from zipfile import ZipFile\n",
        "\n",
        "dataset ='/content/dementia-patient-health-dataset.zip'\n",
        "\n",
        "with ZipFile(dataset, 'r') as zip:\n",
        "  zip.extractall()\n",
        "  print('The dataset is extracted')\n"
      ],
      "metadata": {
        "id": "m1GUrXZnk9vD"
      },
      "execution_count": null,
      "outputs": []
    },
    {
      "cell_type": "code",
      "source": [
        "# Load the dataset\n",
        "import pandas as pd\n",
        "\n",
        "file_path = '/content/dementia_patients_health_data.csv'\n",
        "data = pd.read_csv(file_path)"
      ],
      "metadata": {
        "id": "kBMPt_cTk9vD"
      },
      "execution_count": null,
      "outputs": []
    },
    {
      "cell_type": "code",
      "source": [
        "from sklearn.model_selection import train_test_split\n",
        "from sklearn.impute import SimpleImputer\n",
        "from sklearn.preprocessing import StandardScaler, OneHotEncoder\n",
        "from sklearn.compose import ColumnTransformer\n",
        "from sklearn.pipeline import Pipeline\n",
        "from sklearn.linear_model import LassoCV\n",
        "from sklearn.feature_selection import SelectKBest, chi2, SelectFromModel\n",
        "from sklearn.svm import SVC\n",
        "from sklearn.metrics import accuracy_score\n",
        "#import numpy as np"
      ],
      "metadata": {
        "id": "zZinRFadk9vD"
      },
      "execution_count": null,
      "outputs": []
    },
    {
      "cell_type": "code",
      "source": [
        "# printing the first 5 rows of the dataframe\n",
        "data.head()"
      ],
      "metadata": {
        "id": "PQiJvk86k9vD"
      },
      "execution_count": null,
      "outputs": []
    },
    {
      "cell_type": "code",
      "source": [
        "data.shape\n"
      ],
      "metadata": {
        "id": "rDrPAWnRk9vE"
      },
      "execution_count": null,
      "outputs": []
    },
    {
      "cell_type": "code",
      "source": [
        "data.info()"
      ],
      "metadata": {
        "id": "ek7lgcT0k9vE"
      },
      "execution_count": null,
      "outputs": []
    },
    {
      "cell_type": "code",
      "source": [
        "# checking for missing values in each column\n",
        "data.isnull().sum()"
      ],
      "metadata": {
        "id": "CZEeZfqnk9vE"
      },
      "execution_count": null,
      "outputs": []
    },
    {
      "cell_type": "markdown",
      "source": [
        "Data Preprocessing"
      ],
      "metadata": {
        "id": "LCTHS10nk9vE"
      }
    },
    {
      "cell_type": "code",
      "source": [
        "# Handle missing values\n",
        "data['Prescription'].fillna('None', inplace=True)\n",
        "data['Dosage in mg'].fillna(data['Dosage in mg'].median(), inplace=True)\n",
        "data['Chronic_Health_Conditions'].fillna('None', inplace=True)\n",
        "data.isnull().sum()"
      ],
      "metadata": {
        "id": "Rpgqjw-7k9vE"
      },
      "execution_count": null,
      "outputs": []
    },
    {
      "cell_type": "code",
      "source": [
        "unnecessary_columns = ['Diabetic', 'AlcoholLevel', 'HeartRate', 'BloodOxygenLevel', 'MRI_Delay', 'Age']\n",
        "data = data.drop(columns=unnecessary_columns)"
      ],
      "metadata": {
        "id": "GY6ucV-Dk9vE"
      },
      "execution_count": null,
      "outputs": []
    },
    {
      "cell_type": "code",
      "source": [
        "# Split the data into features (X) and target (y)\n",
        "X = data.drop('Dementia', axis=1)\n",
        "y = data['Dementia']"
      ],
      "metadata": {
        "id": "D81pD9a3k9vE"
      },
      "execution_count": null,
      "outputs": []
    },
    {
      "cell_type": "code",
      "source": [
        "# Identify numerical and categorical columns\n",
        "numerical_cols = X.select_dtypes(include=['int64', 'float64']).columns\n",
        "categorical_cols = X.select_dtypes(include=['object']).columns"
      ],
      "metadata": {
        "id": "W53nOa0Vk9vF"
      },
      "execution_count": null,
      "outputs": []
    },
    {
      "cell_type": "code",
      "source": [
        "# Preprocessing pipelines for numerical and categorical data\n",
        "numerical_transformer = Pipeline(steps=[\n",
        "    ('imputer', SimpleImputer(strategy='median')),\n",
        "    ('scaler', StandardScaler())])\n",
        "\n",
        "categorical_transformer = Pipeline(steps=[\n",
        "    ('imputer', SimpleImputer(strategy='most_frequent')),\n",
        "    ('onehot', OneHotEncoder(handle_unknown='ignore'))])\n",
        "\n",
        "preprocessor = ColumnTransformer(\n",
        "    transformers=[\n",
        "        ('num', numerical_transformer, numerical_cols),\n",
        "        ('cat', categorical_transformer, categorical_cols)])\n",
        "\n",
        "# Preprocess the data\n",
        "X_preprocessed = preprocessor.fit_transform(X)"
      ],
      "metadata": {
        "id": "a2z6WAXjk9vF"
      },
      "execution_count": null,
      "outputs": []
    },
    {
      "cell_type": "code",
      "source": [
        "# Save the preprocessor for later use\n",
        "import joblib\n",
        "joblib.dump(preprocessor, 'preprocessor.pkl')"
      ],
      "metadata": {
        "id": "UfEdOK58k9vF"
      },
      "execution_count": null,
      "outputs": []
    },
    {
      "cell_type": "markdown",
      "source": [
        "Feature Selection"
      ],
      "metadata": {
        "id": "550Sz-9zk9vF"
      }
    },
    {
      "cell_type": "code",
      "source": [
        "# Feature Selection for Numerical Data\n",
        "num_features = X_preprocessed[:, :len(numerical_cols)]\n",
        "lasso = LassoCV(cv=5, random_state=42)\n",
        "lasso.fit(num_features, y)\n",
        "model_lasso = SelectFromModel(lasso, prefit=True)\n",
        "X_selected_num = model_lasso.transform(num_features)\n",
        "\n",
        "# Feature Selection for Categorical Data\n",
        "cat_features = X_preprocessed[:, len(numerical_cols):]\n",
        "chi2_selector = SelectKBest(chi2, k='all')\n",
        "X_selected_cat = chi2_selector.fit_transform(cat_features, y)\n"
      ],
      "metadata": {
        "id": "Xi2RYxP0k9vG"
      },
      "execution_count": null,
      "outputs": []
    },
    {
      "cell_type": "code",
      "source": [
        "# Save the Lasso model\n",
        "joblib.dump(model_lasso, 'model_lasso.pkl')"
      ],
      "metadata": {
        "id": "JItnalNfk9vG"
      },
      "execution_count": null,
      "outputs": []
    },
    {
      "cell_type": "code",
      "source": [
        "# Save the Chi-Squared selector\n",
        "joblib.dump(chi2_selector, 'chi2_selector.pkl')"
      ],
      "metadata": {
        "id": "lTHo9xJdk9vG"
      },
      "execution_count": null,
      "outputs": []
    },
    {
      "cell_type": "code",
      "source": [
        "# Display selected numerical features\n",
        "selected_numerical_features = numerical_cols[model_lasso.get_support()]\n",
        "print(\"Selected Numerical Features:\", selected_numerical_features.tolist())\n",
        "\n",
        "# Display selected numerical features\n",
        "# Map one-hot encoded features back to their original categorical features\n",
        "onehot = preprocessor.named_transformers_['cat'].named_steps['onehot']\n",
        "selected_onehot_features = onehot.get_feature_names_out(categorical_cols)[chi2_selector.get_support()]\n",
        "selected_categorical_features = np.unique([feature.split('_')[0] for feature in selected_onehot_features])\n",
        "print(\"Selected Categorical Features:\", selected_categorical_features.tolist())"
      ],
      "metadata": {
        "id": "qkCOhMwak9vG"
      },
      "execution_count": null,
      "outputs": []
    },
    {
      "cell_type": "code",
      "source": [
        "# Display not-selected numerical features\n",
        "not_selected_numerical_features = numerical_cols[~model_lasso.get_support()]\n",
        "print(\"Not Selected Numerical Features:\", not_selected_numerical_features.tolist())\n",
        "\n",
        "# Display not-selected numerical features\n",
        "# Map one-hot encoded features back to their original categorical features\n",
        "not_selected_onehot_features = onehot.get_feature_names_out(categorical_cols)[~chi2_selector.get_support()]\n",
        "not_selected_categorical_features = np.unique([feature.split('_')[0] for feature in not_selected_onehot_features])\n",
        "print(\"Not Selected Categorical Features:\", not_selected_categorical_features.tolist())"
      ],
      "metadata": {
        "id": "x5tPuaJlk9vG"
      },
      "execution_count": null,
      "outputs": []
    },
    {
      "cell_type": "code",
      "source": [
        "# Combine the selected features\n",
        "X_selected = np.hstack([X_selected_num, X_selected_cat])"
      ],
      "metadata": {
        "id": "lxycWpenk9vG"
      },
      "execution_count": null,
      "outputs": []
    },
    {
      "cell_type": "markdown",
      "source": [
        "Train Test Split"
      ],
      "metadata": {
        "id": "qiKH8rITk9vH"
      }
    },
    {
      "cell_type": "code",
      "source": [
        "X_train, X_test, y_train, y_test = train_test_split(X_selected, y, test_size=0.2, random_state=42)"
      ],
      "metadata": {
        "id": "RMTFOux9k9vH"
      },
      "execution_count": null,
      "outputs": []
    },
    {
      "cell_type": "markdown",
      "source": [
        "SVM"
      ],
      "metadata": {
        "id": "cH-taJV1k9vH"
      }
    },
    {
      "cell_type": "code",
      "source": [
        "svm = SVC(kernel='linear', random_state=42)\n"
      ],
      "metadata": {
        "id": "nfqYWeCak9vH"
      },
      "execution_count": null,
      "outputs": []
    },
    {
      "cell_type": "code",
      "source": [
        "# training the SVM model with training data\n",
        "svm.fit(X_train, y_train)"
      ],
      "metadata": {
        "id": "zydLFxuHk9vH"
      },
      "execution_count": null,
      "outputs": []
    },
    {
      "cell_type": "markdown",
      "source": [
        "Model Evaluation\n",
        "\n",
        "\n",
        "Accuracy Score"
      ],
      "metadata": {
        "id": "Ex4hpa38k9vH"
      }
    },
    {
      "cell_type": "code",
      "source": [
        "# accuracy score on training data\n",
        "X_train_prediction = svm.predict(X_train)\n",
        "training_data_accuracy = accuracy_score(y_train, X_train_prediction)\n",
        "print('Accuracy score of the training data : ', training_data_accuracy)"
      ],
      "metadata": {
        "id": "peOVFmlYk9vI"
      },
      "execution_count": null,
      "outputs": []
    },
    {
      "cell_type": "code",
      "source": [
        "# accuracy score for testing data\n",
        "X_test_prediction = svm.predict(X_test)\n",
        "test_data_accuracy = accuracy_score(y_test, X_test_prediction)\n",
        "print('Accuracy score of the test data : ', test_data_accuracy)"
      ],
      "metadata": {
        "id": "CP_CXrnNk9vI"
      },
      "execution_count": null,
      "outputs": []
    },
    {
      "cell_type": "code",
      "source": [
        "from sklearn.metrics import classification_report, accuracy_score\n",
        "report = classification_report(y_test, X_test_prediction)\n",
        "print(report)"
      ],
      "metadata": {
        "id": "QD2HCZP0k9vI"
      },
      "execution_count": null,
      "outputs": []
    },
    {
      "cell_type": "code",
      "source": [
        "# save model\n",
        "import pickle\n",
        "filename = 'svm_model.sav'\n",
        "pickle.dump(svm, open(filename, 'wb'))"
      ],
      "metadata": {
        "id": "PeDc-5Chk9vI"
      },
      "execution_count": null,
      "outputs": []
    },
    {
      "cell_type": "markdown",
      "source": [
        "User input and prediction system"
      ],
      "metadata": {
        "id": "DpUdM0Gck9vI"
      }
    },
    {
      "cell_type": "code",
      "source": [
        "import cv2\n",
        "from google.colab.patches import cv2_imshow\n",
        "from tensorflow.keras.models import load_model\n",
        "import ipywidgets as widgets\n",
        "from IPython.display import display\n",
        "import numpy as np\n",
        "import pandas as pd\n",
        "\n",
        "# Load the MRI image model\n",
        "loaded_image_model = load_model(\"my_model.h5\")\n",
        "\n",
        "# Load the SVM model and other preprocessors\n",
        "import joblib\n",
        "svm = joblib.load(\"svm_model.sav\")\n",
        "preprocessor = joblib.load(\"preprocessor.pkl\")\n",
        "model_lasso = joblib.load(\"model_lasso.pkl\")\n",
        "chi2_selector = joblib.load(\"chi2_selector.pkl\")\n",
        "\n",
        "# List of numerical columns\n",
        "numerical_cols = ['BodyTemperature', 'Weight', 'Dosage in mg', 'Cognitive_Test_Scores']\n",
        "\n",
        "def predict_image(image_path):\n",
        "    input_image = cv2.imread(image_path)\n",
        "    input_image_resized = cv2.resize(input_image, (256,256))\n",
        "    input_image_reshaped = np.reshape(input_image_resized, [1,256,256,3])\n",
        "    input_prediction = loaded_image_model.predict(input_image_reshaped)\n",
        "    input_pred_label = np.argmax(input_prediction)\n",
        "    return 'Dementia' if input_pred_label == 1 else 'No Dementia'\n",
        "\n",
        "# Create a file upload widget\n",
        "file_upload = widgets.FileUpload(accept='.jpg,.jpeg,.png')\n",
        "\n",
        "# Define a function to handle file upload\n",
        "def on_file_upload(change):\n",
        "    if file_upload.value:\n",
        "        file_contents = file_upload.value[next(iter(file_upload.value))]\n",
        "        with open('uploaded_image.jpg', 'wb') as f:\n",
        "            f.write(file_contents['content'])\n",
        "        print('Image uploaded successfully!')\n",
        "        image_prediction = predict_image('uploaded_image.jpg')\n",
        "        print(\"MRI Prediction:\", image_prediction)\n",
        "\n",
        "file_upload.observe(on_file_upload, names='_counter')\n",
        "display(file_upload)\n",
        "\n",
        "def predict_dementia_svm(user_input):\n",
        "    # Convert user input to DataFrame\n",
        "    user_df = pd.DataFrame([user_input])\n",
        "\n",
        "    # Preprocess the user input\n",
        "    user_preprocessed = preprocessor.transform(user_df)\n",
        "\n",
        "    # Select numerical features\n",
        "    user_selected_num = model_lasso.transform(user_preprocessed[:, :len(numerical_cols)])\n",
        "\n",
        "    # Select categorical features\n",
        "    user_selected_cat = chi2_selector.transform(user_preprocessed[:, len(numerical_cols):])\n",
        "\n",
        "    # Combine selected features\n",
        "    user_selected = np.hstack([user_selected_num, user_selected_cat])\n",
        "\n",
        "    # Make prediction\n",
        "    prediction = svm.predict(user_selected)\n",
        "    return \"Dementia Positive\" if prediction[0] == 1 else \"Dementia Negative\"\n",
        "\n",
        "def get_user_input():\n",
        "    user_input = {}\n",
        "\n",
        "\n",
        "    # Numerical inputs (as per dataset format)\n",
        "    user_input['BodyTemperature'] = float(input(\"Enter Body Temperature (°C): \"))\n",
        "    user_input['Weight'] = float(input(\"Enter Weight (kg): \"))\n",
        "    user_input['Dosage in mg'] = float(input(\"Enter Dosage in mg: \"))\n",
        "    user_input['Cognitive_Test_Scores'] = float(input(\"Enter Cognitive Test Scores: \"))\n",
        "\n",
        "    # Categorical inputs (matching dataset categories)\n",
        "    user_input['Prescription'] = input(\"Enter Prescription (e.g., None, Antidepressant, Antipsychotic): \")\n",
        "    user_input['Education_Level'] = input(\"Enter Education Level (e.g., Primary, Secondary, College, Graduate): \")\n",
        "    user_input['Dominant_Hand'] = input(\"Enter Dominant Hand (e.g., Right, Left): \")\n",
        "    user_input['Gender'] = input(\"Enter Gender (e.g., Male, Female): \")\n",
        "    user_input['Family_History'] = input(\"Enter Family History of Dementia (Yes/No): \")\n",
        "    user_input['Smoking_Status'] = input(\"Enter Smoking Status (e.g., Never, Former, Current): \")\n",
        "    user_input['APOE_ε4'] = input(\"Enter APOE ε4 status (e.g., E2/E2, E3/E4, E4/E4): \")\n",
        "    user_input['Physical_Activity'] = input(\"Enter Physical Activity Level (e.g., Sedentary, Active, Very Active): \")\n",
        "    user_input['Depression_Status'] = input(\"Enter Depression Status (e.g., Yes, No): \")\n",
        "    user_input['Medication_History'] = input(\"Enter Medication History (e.g., Antidepressants, Antihypertensives): \")\n",
        "    user_input['Nutrition_Diet'] = input(\"Enter Nutrition Diet (e.g., Balanced, High-fat, Low-carb): \")\n",
        "    user_input['Sleep_Quality'] = input(\"Enter Sleep Quality (e.g., Poor, Fair, Good): \")\n",
        "    user_input['Chronic_Health_Conditions'] = input(\"Enter Chronic Health Conditions (e.g., Diabetes, Hypertension, None): \")\n",
        "\n",
        "    return user_input\n",
        "\n",
        "def multimodal_prediction(image_path, user_input):\n",
        "    image_prediction = predict_image(image_path)\n",
        "    svm_prediction = predict_dementia_svm(user_input)\n",
        "\n",
        "    if image_prediction == \"Dementia\" or svm_prediction == \"Dementia Positive\":\n",
        "        final_prediction = \"Dementia Positive\"\n",
        "    else:\n",
        "        final_prediction = \"Dementia Negative\"\n",
        "\n",
        "    return final_prediction\n",
        "\n",
        "\n",
        "user_input = get_user_input()\n",
        "file_upload.observe(lambda change: print(\"Final Prediction:\", multimodal_prediction('uploaded_image.jpg', user_input)), names='_counter')"
      ],
      "metadata": {
        "id": "9Wjs2WZhk9vI"
      },
      "execution_count": null,
      "outputs": []
    }
  ],
  "metadata": {
    "colab": {
      "provenance": [],
      "authorship_tag": "ABX9TyMFBeTnhPDe72CJ9IPuPnJ8",
      "include_colab_link": true
    },
    "kernelspec": {
      "display_name": "Python 3",
      "name": "python3"
    },
    "language_info": {
      "name": "python"
    }
  },
  "nbformat": 4,
  "nbformat_minor": 0
}